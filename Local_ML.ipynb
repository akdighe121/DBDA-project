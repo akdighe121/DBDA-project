{
  "cells": [
    {
      "cell_type": "code",
      "execution_count": null,
      "id": "7648a3b3",
      "metadata": {
        "id": "7648a3b3"
      },
      "outputs": [],
      "source": [
        "import pandas as pd\n",
        "import numpy as np\n",
        "import matplotlib.pyplot as plt\n",
        "import seaborn as sns"
      ]
    },
    {
      "cell_type": "code",
      "source": [
        "from google.colab import drive\n",
        "drive.mount('/content/drive')"
      ],
      "metadata": {
        "colab": {
          "base_uri": "https://localhost:8080/"
        },
        "id": "OL1rjDem2-di",
        "outputId": "ec401817-4786-46d9-928f-784fb65baa66"
      },
      "id": "OL1rjDem2-di",
      "execution_count": null,
      "outputs": [
        {
          "output_type": "stream",
          "name": "stdout",
          "text": [
            "Drive already mounted at /content/drive; to attempt to forcibly remount, call drive.mount(\"/content/drive\", force_remount=True).\n"
          ]
        }
      ]
    },
    {
      "cell_type": "code",
      "execution_count": null,
      "id": "f0125255",
      "metadata": {
        "colab": {
          "base_uri": "https://localhost:8080/"
        },
        "id": "f0125255",
        "outputId": "14e693ab-d5fe-418b-c6fb-1454fb8d6a23"
      },
      "outputs": [
        {
          "output_type": "stream",
          "name": "stderr",
          "text": [
            "<ipython-input-5-0a07177778ae>:1: FutureWarning: The error_bad_lines argument has been deprecated and will be removed in a future version. Use on_bad_lines in the future.\n",
            "\n",
            "\n",
            "  df = pd.read_csv(r'/content/drive/MyDrive/Team11_project/new_data.csv', error_bad_lines=False)\n",
            "Skipping line 151: expected 16 fields, saw 17\n",
            "\n",
            "Skipping line 351518: expected 16 fields, saw 18\n",
            "Skipping line 354912: expected 16 fields, saw 18\n",
            "\n",
            "Skipping line 526088: expected 16 fields, saw 17\n",
            "Skipping line 551543: expected 16 fields, saw 17\n",
            "\n",
            "Skipping line 632290: expected 16 fields, saw 17\n",
            "Skipping line 637860: expected 16 fields, saw 17\n",
            "\n",
            "Skipping line 881601: expected 16 fields, saw 17\n",
            "\n",
            "Skipping line 970085: expected 16 fields, saw 17\n",
            "\n",
            "Skipping line 988699: expected 16 fields, saw 17\n",
            "\n",
            "Skipping line 1481119: expected 16 fields, saw 17\n",
            "\n",
            "Skipping line 1624561: expected 16 fields, saw 17\n",
            "\n",
            "Skipping line 1759994: expected 16 fields, saw 17\n",
            "\n",
            "Skipping line 1803584: expected 16 fields, saw 17\n",
            "Skipping line 1803586: expected 16 fields, saw 17\n",
            "Skipping line 1803587: expected 16 fields, saw 17\n",
            "Skipping line 1832965: expected 16 fields, saw 17\n",
            "\n",
            "Skipping line 1889681: expected 16 fields, saw 17\n",
            "Skipping line 1900179: expected 16 fields, saw 19\n",
            "\n",
            "Skipping line 1950939: expected 16 fields, saw 17\n",
            "\n",
            "Skipping line 1978125: expected 16 fields, saw 17\n",
            "Skipping line 1978297: expected 16 fields, saw 17\n",
            "Skipping line 1978341: expected 16 fields, saw 17\n",
            "Skipping line 1978358: expected 16 fields, saw 17\n",
            "\n",
            "<ipython-input-5-0a07177778ae>:1: DtypeWarning: Columns (2,3,5,6,7,13,14) have mixed types. Specify dtype option on import or set low_memory=False.\n",
            "  df = pd.read_csv(r'/content/drive/MyDrive/Team11_project/new_data.csv', error_bad_lines=False)\n"
          ]
        }
      ],
      "source": [
        "df = pd.read_csv(r'/content/drive/MyDrive/Team11_project/new_data.csv', error_bad_lines=False)"
      ]
    },
    {
      "cell_type": "code",
      "execution_count": null,
      "id": "15d418f2",
      "metadata": {
        "scrolled": false,
        "id": "15d418f2",
        "colab": {
          "base_uri": "https://localhost:8080/",
          "height": 330
        },
        "outputId": "f7a21168-41d6-4f7f-95af-9897fb1b7c7d"
      },
      "outputs": [
        {
          "output_type": "execute_result",
          "data": {
            "text/plain": [
              "          category                       app_name rating rating_count  \\\n",
              "0  Auto & Vehicles                      CarsNI.uk    0.0          0.0   \n",
              "1  Auto & Vehicles              TaxiClub - Driver    4.3        107.0   \n",
              "2  Auto & Vehicles  Motorcycle Practice Test 2021    4.5         51.0   \n",
              "3  Auto & Vehicles            Appok Truck booking    0.0          0.0   \n",
              "4  Auto & Vehicles                    EasyDrive24    2.5        244.0   \n",
              "\n",
              "   installs minimum_installs maximum_installs price currency  size  \\\n",
              "0       500              500              963   0.0      USD  1.4M   \n",
              "1      5000             5000             6093   0.0      USD   11M   \n",
              "2      5000             5000             5334   0.0      USD   11M   \n",
              "3        50               50               84   0.0      USD   14M   \n",
              "4     10000            10000            30593   0.0      USD   20M   \n",
              "\n",
              "       released  last_updated content_rating ad_supported in_app_purchases  \\\n",
              "0   Dec 1, 2017  Feb 24, 2018       Everyone         True            False   \n",
              "1  Apr 27, 2018  May 18, 2021       Everyone        False            False   \n",
              "2  Jul 25, 2019  Apr 28, 2020       Everyone         True             True   \n",
              "3  Feb 26, 2018  Mar 17, 2018       Everyone        False            False   \n",
              "4  Dec 27, 2019  Apr 27, 2021       Everyone        False            False   \n",
              "\n",
              "   type  \n",
              "0  Free  \n",
              "1  Free  \n",
              "2  Free  \n",
              "3  Free  \n",
              "4  Free  "
            ],
            "text/html": [
              "\n",
              "  <div id=\"df-d75d7939-f1d2-4b80-8724-7a682a915478\" class=\"colab-df-container\">\n",
              "    <div>\n",
              "<style scoped>\n",
              "    .dataframe tbody tr th:only-of-type {\n",
              "        vertical-align: middle;\n",
              "    }\n",
              "\n",
              "    .dataframe tbody tr th {\n",
              "        vertical-align: top;\n",
              "    }\n",
              "\n",
              "    .dataframe thead th {\n",
              "        text-align: right;\n",
              "    }\n",
              "</style>\n",
              "<table border=\"1\" class=\"dataframe\">\n",
              "  <thead>\n",
              "    <tr style=\"text-align: right;\">\n",
              "      <th></th>\n",
              "      <th>category</th>\n",
              "      <th>app_name</th>\n",
              "      <th>rating</th>\n",
              "      <th>rating_count</th>\n",
              "      <th>installs</th>\n",
              "      <th>minimum_installs</th>\n",
              "      <th>maximum_installs</th>\n",
              "      <th>price</th>\n",
              "      <th>currency</th>\n",
              "      <th>size</th>\n",
              "      <th>released</th>\n",
              "      <th>last_updated</th>\n",
              "      <th>content_rating</th>\n",
              "      <th>ad_supported</th>\n",
              "      <th>in_app_purchases</th>\n",
              "      <th>type</th>\n",
              "    </tr>\n",
              "  </thead>\n",
              "  <tbody>\n",
              "    <tr>\n",
              "      <th>0</th>\n",
              "      <td>Auto &amp; Vehicles</td>\n",
              "      <td>CarsNI.uk</td>\n",
              "      <td>0.0</td>\n",
              "      <td>0.0</td>\n",
              "      <td>500</td>\n",
              "      <td>500</td>\n",
              "      <td>963</td>\n",
              "      <td>0.0</td>\n",
              "      <td>USD</td>\n",
              "      <td>1.4M</td>\n",
              "      <td>Dec 1, 2017</td>\n",
              "      <td>Feb 24, 2018</td>\n",
              "      <td>Everyone</td>\n",
              "      <td>True</td>\n",
              "      <td>False</td>\n",
              "      <td>Free</td>\n",
              "    </tr>\n",
              "    <tr>\n",
              "      <th>1</th>\n",
              "      <td>Auto &amp; Vehicles</td>\n",
              "      <td>TaxiClub - Driver</td>\n",
              "      <td>4.3</td>\n",
              "      <td>107.0</td>\n",
              "      <td>5000</td>\n",
              "      <td>5000</td>\n",
              "      <td>6093</td>\n",
              "      <td>0.0</td>\n",
              "      <td>USD</td>\n",
              "      <td>11M</td>\n",
              "      <td>Apr 27, 2018</td>\n",
              "      <td>May 18, 2021</td>\n",
              "      <td>Everyone</td>\n",
              "      <td>False</td>\n",
              "      <td>False</td>\n",
              "      <td>Free</td>\n",
              "    </tr>\n",
              "    <tr>\n",
              "      <th>2</th>\n",
              "      <td>Auto &amp; Vehicles</td>\n",
              "      <td>Motorcycle Practice Test 2021</td>\n",
              "      <td>4.5</td>\n",
              "      <td>51.0</td>\n",
              "      <td>5000</td>\n",
              "      <td>5000</td>\n",
              "      <td>5334</td>\n",
              "      <td>0.0</td>\n",
              "      <td>USD</td>\n",
              "      <td>11M</td>\n",
              "      <td>Jul 25, 2019</td>\n",
              "      <td>Apr 28, 2020</td>\n",
              "      <td>Everyone</td>\n",
              "      <td>True</td>\n",
              "      <td>True</td>\n",
              "      <td>Free</td>\n",
              "    </tr>\n",
              "    <tr>\n",
              "      <th>3</th>\n",
              "      <td>Auto &amp; Vehicles</td>\n",
              "      <td>Appok Truck booking</td>\n",
              "      <td>0.0</td>\n",
              "      <td>0.0</td>\n",
              "      <td>50</td>\n",
              "      <td>50</td>\n",
              "      <td>84</td>\n",
              "      <td>0.0</td>\n",
              "      <td>USD</td>\n",
              "      <td>14M</td>\n",
              "      <td>Feb 26, 2018</td>\n",
              "      <td>Mar 17, 2018</td>\n",
              "      <td>Everyone</td>\n",
              "      <td>False</td>\n",
              "      <td>False</td>\n",
              "      <td>Free</td>\n",
              "    </tr>\n",
              "    <tr>\n",
              "      <th>4</th>\n",
              "      <td>Auto &amp; Vehicles</td>\n",
              "      <td>EasyDrive24</td>\n",
              "      <td>2.5</td>\n",
              "      <td>244.0</td>\n",
              "      <td>10000</td>\n",
              "      <td>10000</td>\n",
              "      <td>30593</td>\n",
              "      <td>0.0</td>\n",
              "      <td>USD</td>\n",
              "      <td>20M</td>\n",
              "      <td>Dec 27, 2019</td>\n",
              "      <td>Apr 27, 2021</td>\n",
              "      <td>Everyone</td>\n",
              "      <td>False</td>\n",
              "      <td>False</td>\n",
              "      <td>Free</td>\n",
              "    </tr>\n",
              "  </tbody>\n",
              "</table>\n",
              "</div>\n",
              "    <div class=\"colab-df-buttons\">\n",
              "\n",
              "  <div class=\"colab-df-container\">\n",
              "    <button class=\"colab-df-convert\" onclick=\"convertToInteractive('df-d75d7939-f1d2-4b80-8724-7a682a915478')\"\n",
              "            title=\"Convert this dataframe to an interactive table.\"\n",
              "            style=\"display:none;\">\n",
              "\n",
              "  <svg xmlns=\"http://www.w3.org/2000/svg\" height=\"24px\" viewBox=\"0 -960 960 960\">\n",
              "    <path d=\"M120-120v-720h720v720H120Zm60-500h600v-160H180v160Zm220 220h160v-160H400v160Zm0 220h160v-160H400v160ZM180-400h160v-160H180v160Zm440 0h160v-160H620v160ZM180-180h160v-160H180v160Zm440 0h160v-160H620v160Z\"/>\n",
              "  </svg>\n",
              "    </button>\n",
              "\n",
              "  <style>\n",
              "    .colab-df-container {\n",
              "      display:flex;\n",
              "      gap: 12px;\n",
              "    }\n",
              "\n",
              "    .colab-df-convert {\n",
              "      background-color: #E8F0FE;\n",
              "      border: none;\n",
              "      border-radius: 50%;\n",
              "      cursor: pointer;\n",
              "      display: none;\n",
              "      fill: #1967D2;\n",
              "      height: 32px;\n",
              "      padding: 0 0 0 0;\n",
              "      width: 32px;\n",
              "    }\n",
              "\n",
              "    .colab-df-convert:hover {\n",
              "      background-color: #E2EBFA;\n",
              "      box-shadow: 0px 1px 2px rgba(60, 64, 67, 0.3), 0px 1px 3px 1px rgba(60, 64, 67, 0.15);\n",
              "      fill: #174EA6;\n",
              "    }\n",
              "\n",
              "    .colab-df-buttons div {\n",
              "      margin-bottom: 4px;\n",
              "    }\n",
              "\n",
              "    [theme=dark] .colab-df-convert {\n",
              "      background-color: #3B4455;\n",
              "      fill: #D2E3FC;\n",
              "    }\n",
              "\n",
              "    [theme=dark] .colab-df-convert:hover {\n",
              "      background-color: #434B5C;\n",
              "      box-shadow: 0px 1px 3px 1px rgba(0, 0, 0, 0.15);\n",
              "      filter: drop-shadow(0px 1px 2px rgba(0, 0, 0, 0.3));\n",
              "      fill: #FFFFFF;\n",
              "    }\n",
              "  </style>\n",
              "\n",
              "    <script>\n",
              "      const buttonEl =\n",
              "        document.querySelector('#df-d75d7939-f1d2-4b80-8724-7a682a915478 button.colab-df-convert');\n",
              "      buttonEl.style.display =\n",
              "        google.colab.kernel.accessAllowed ? 'block' : 'none';\n",
              "\n",
              "      async function convertToInteractive(key) {\n",
              "        const element = document.querySelector('#df-d75d7939-f1d2-4b80-8724-7a682a915478');\n",
              "        const dataTable =\n",
              "          await google.colab.kernel.invokeFunction('convertToInteractive',\n",
              "                                                    [key], {});\n",
              "        if (!dataTable) return;\n",
              "\n",
              "        const docLinkHtml = 'Like what you see? Visit the ' +\n",
              "          '<a target=\"_blank\" href=https://colab.research.google.com/notebooks/data_table.ipynb>data table notebook</a>'\n",
              "          + ' to learn more about interactive tables.';\n",
              "        element.innerHTML = '';\n",
              "        dataTable['output_type'] = 'display_data';\n",
              "        await google.colab.output.renderOutput(dataTable, element);\n",
              "        const docLink = document.createElement('div');\n",
              "        docLink.innerHTML = docLinkHtml;\n",
              "        element.appendChild(docLink);\n",
              "      }\n",
              "    </script>\n",
              "  </div>\n",
              "\n",
              "\n",
              "<div id=\"df-0ee4735d-7a5a-4ae8-a79a-5af9a1eb0b36\">\n",
              "  <button class=\"colab-df-quickchart\" onclick=\"quickchart('df-0ee4735d-7a5a-4ae8-a79a-5af9a1eb0b36')\"\n",
              "            title=\"Suggest charts\"\n",
              "            style=\"display:none;\">\n",
              "\n",
              "<svg xmlns=\"http://www.w3.org/2000/svg\" height=\"24px\"viewBox=\"0 0 24 24\"\n",
              "     width=\"24px\">\n",
              "    <g>\n",
              "        <path d=\"M19 3H5c-1.1 0-2 .9-2 2v14c0 1.1.9 2 2 2h14c1.1 0 2-.9 2-2V5c0-1.1-.9-2-2-2zM9 17H7v-7h2v7zm4 0h-2V7h2v10zm4 0h-2v-4h2v4z\"/>\n",
              "    </g>\n",
              "</svg>\n",
              "  </button>\n",
              "\n",
              "<style>\n",
              "  .colab-df-quickchart {\n",
              "      --bg-color: #E8F0FE;\n",
              "      --fill-color: #1967D2;\n",
              "      --hover-bg-color: #E2EBFA;\n",
              "      --hover-fill-color: #174EA6;\n",
              "      --disabled-fill-color: #AAA;\n",
              "      --disabled-bg-color: #DDD;\n",
              "  }\n",
              "\n",
              "  [theme=dark] .colab-df-quickchart {\n",
              "      --bg-color: #3B4455;\n",
              "      --fill-color: #D2E3FC;\n",
              "      --hover-bg-color: #434B5C;\n",
              "      --hover-fill-color: #FFFFFF;\n",
              "      --disabled-bg-color: #3B4455;\n",
              "      --disabled-fill-color: #666;\n",
              "  }\n",
              "\n",
              "  .colab-df-quickchart {\n",
              "    background-color: var(--bg-color);\n",
              "    border: none;\n",
              "    border-radius: 50%;\n",
              "    cursor: pointer;\n",
              "    display: none;\n",
              "    fill: var(--fill-color);\n",
              "    height: 32px;\n",
              "    padding: 0;\n",
              "    width: 32px;\n",
              "  }\n",
              "\n",
              "  .colab-df-quickchart:hover {\n",
              "    background-color: var(--hover-bg-color);\n",
              "    box-shadow: 0 1px 2px rgba(60, 64, 67, 0.3), 0 1px 3px 1px rgba(60, 64, 67, 0.15);\n",
              "    fill: var(--button-hover-fill-color);\n",
              "  }\n",
              "\n",
              "  .colab-df-quickchart-complete:disabled,\n",
              "  .colab-df-quickchart-complete:disabled:hover {\n",
              "    background-color: var(--disabled-bg-color);\n",
              "    fill: var(--disabled-fill-color);\n",
              "    box-shadow: none;\n",
              "  }\n",
              "\n",
              "  .colab-df-spinner {\n",
              "    border: 2px solid var(--fill-color);\n",
              "    border-color: transparent;\n",
              "    border-bottom-color: var(--fill-color);\n",
              "    animation:\n",
              "      spin 1s steps(1) infinite;\n",
              "  }\n",
              "\n",
              "  @keyframes spin {\n",
              "    0% {\n",
              "      border-color: transparent;\n",
              "      border-bottom-color: var(--fill-color);\n",
              "      border-left-color: var(--fill-color);\n",
              "    }\n",
              "    20% {\n",
              "      border-color: transparent;\n",
              "      border-left-color: var(--fill-color);\n",
              "      border-top-color: var(--fill-color);\n",
              "    }\n",
              "    30% {\n",
              "      border-color: transparent;\n",
              "      border-left-color: var(--fill-color);\n",
              "      border-top-color: var(--fill-color);\n",
              "      border-right-color: var(--fill-color);\n",
              "    }\n",
              "    40% {\n",
              "      border-color: transparent;\n",
              "      border-right-color: var(--fill-color);\n",
              "      border-top-color: var(--fill-color);\n",
              "    }\n",
              "    60% {\n",
              "      border-color: transparent;\n",
              "      border-right-color: var(--fill-color);\n",
              "    }\n",
              "    80% {\n",
              "      border-color: transparent;\n",
              "      border-right-color: var(--fill-color);\n",
              "      border-bottom-color: var(--fill-color);\n",
              "    }\n",
              "    90% {\n",
              "      border-color: transparent;\n",
              "      border-bottom-color: var(--fill-color);\n",
              "    }\n",
              "  }\n",
              "</style>\n",
              "\n",
              "  <script>\n",
              "    async function quickchart(key) {\n",
              "      const quickchartButtonEl =\n",
              "        document.querySelector('#' + key + ' button');\n",
              "      quickchartButtonEl.disabled = true;  // To prevent multiple clicks.\n",
              "      quickchartButtonEl.classList.add('colab-df-spinner');\n",
              "      try {\n",
              "        const charts = await google.colab.kernel.invokeFunction(\n",
              "            'suggestCharts', [key], {});\n",
              "      } catch (error) {\n",
              "        console.error('Error during call to suggestCharts:', error);\n",
              "      }\n",
              "      quickchartButtonEl.classList.remove('colab-df-spinner');\n",
              "      quickchartButtonEl.classList.add('colab-df-quickchart-complete');\n",
              "    }\n",
              "    (() => {\n",
              "      let quickchartButtonEl =\n",
              "        document.querySelector('#df-0ee4735d-7a5a-4ae8-a79a-5af9a1eb0b36 button');\n",
              "      quickchartButtonEl.style.display =\n",
              "        google.colab.kernel.accessAllowed ? 'block' : 'none';\n",
              "    })();\n",
              "  </script>\n",
              "</div>\n",
              "\n",
              "    </div>\n",
              "  </div>\n"
            ],
            "application/vnd.google.colaboratory.intrinsic+json": {
              "type": "dataframe",
              "variable_name": "df"
            }
          },
          "metadata": {},
          "execution_count": 6
        }
      ],
      "source": [
        "df.head()"
      ]
    },
    {
      "cell_type": "code",
      "execution_count": null,
      "id": "5007ed78",
      "metadata": {
        "colab": {
          "base_uri": "https://localhost:8080/"
        },
        "id": "5007ed78",
        "outputId": "8d6a94a7-93fc-4384-b0aa-df654a9b681d"
      },
      "outputs": [
        {
          "output_type": "execute_result",
          "data": {
            "text/plain": [
              "(2241807, 16)"
            ]
          },
          "metadata": {},
          "execution_count": 7
        }
      ],
      "source": [
        "df.shape"
      ]
    },
    {
      "cell_type": "code",
      "execution_count": null,
      "id": "7ec16cad",
      "metadata": {
        "colab": {
          "base_uri": "https://localhost:8080/",
          "height": 300
        },
        "id": "7ec16cad",
        "outputId": "905f2efd-b6b8-424d-eb56-cd85dfcde892"
      },
      "outputs": [
        {
          "output_type": "execute_result",
          "data": {
            "text/plain": [
              "           installs\n",
              "count  2.241807e+06\n",
              "mean   1.475959e+05\n",
              "std    5.864551e+06\n",
              "min    0.000000e+00\n",
              "25%    5.000000e+01\n",
              "50%    5.000000e+02\n",
              "75%    5.000000e+03\n",
              "max    1.000000e+09"
            ],
            "text/html": [
              "\n",
              "  <div id=\"df-a4767ebb-4eb0-4277-ac1b-886989564b06\" class=\"colab-df-container\">\n",
              "    <div>\n",
              "<style scoped>\n",
              "    .dataframe tbody tr th:only-of-type {\n",
              "        vertical-align: middle;\n",
              "    }\n",
              "\n",
              "    .dataframe tbody tr th {\n",
              "        vertical-align: top;\n",
              "    }\n",
              "\n",
              "    .dataframe thead th {\n",
              "        text-align: right;\n",
              "    }\n",
              "</style>\n",
              "<table border=\"1\" class=\"dataframe\">\n",
              "  <thead>\n",
              "    <tr style=\"text-align: right;\">\n",
              "      <th></th>\n",
              "      <th>installs</th>\n",
              "    </tr>\n",
              "  </thead>\n",
              "  <tbody>\n",
              "    <tr>\n",
              "      <th>count</th>\n",
              "      <td>2.241807e+06</td>\n",
              "    </tr>\n",
              "    <tr>\n",
              "      <th>mean</th>\n",
              "      <td>1.475959e+05</td>\n",
              "    </tr>\n",
              "    <tr>\n",
              "      <th>std</th>\n",
              "      <td>5.864551e+06</td>\n",
              "    </tr>\n",
              "    <tr>\n",
              "      <th>min</th>\n",
              "      <td>0.000000e+00</td>\n",
              "    </tr>\n",
              "    <tr>\n",
              "      <th>25%</th>\n",
              "      <td>5.000000e+01</td>\n",
              "    </tr>\n",
              "    <tr>\n",
              "      <th>50%</th>\n",
              "      <td>5.000000e+02</td>\n",
              "    </tr>\n",
              "    <tr>\n",
              "      <th>75%</th>\n",
              "      <td>5.000000e+03</td>\n",
              "    </tr>\n",
              "    <tr>\n",
              "      <th>max</th>\n",
              "      <td>1.000000e+09</td>\n",
              "    </tr>\n",
              "  </tbody>\n",
              "</table>\n",
              "</div>\n",
              "    <div class=\"colab-df-buttons\">\n",
              "\n",
              "  <div class=\"colab-df-container\">\n",
              "    <button class=\"colab-df-convert\" onclick=\"convertToInteractive('df-a4767ebb-4eb0-4277-ac1b-886989564b06')\"\n",
              "            title=\"Convert this dataframe to an interactive table.\"\n",
              "            style=\"display:none;\">\n",
              "\n",
              "  <svg xmlns=\"http://www.w3.org/2000/svg\" height=\"24px\" viewBox=\"0 -960 960 960\">\n",
              "    <path d=\"M120-120v-720h720v720H120Zm60-500h600v-160H180v160Zm220 220h160v-160H400v160Zm0 220h160v-160H400v160ZM180-400h160v-160H180v160Zm440 0h160v-160H620v160ZM180-180h160v-160H180v160Zm440 0h160v-160H620v160Z\"/>\n",
              "  </svg>\n",
              "    </button>\n",
              "\n",
              "  <style>\n",
              "    .colab-df-container {\n",
              "      display:flex;\n",
              "      gap: 12px;\n",
              "    }\n",
              "\n",
              "    .colab-df-convert {\n",
              "      background-color: #E8F0FE;\n",
              "      border: none;\n",
              "      border-radius: 50%;\n",
              "      cursor: pointer;\n",
              "      display: none;\n",
              "      fill: #1967D2;\n",
              "      height: 32px;\n",
              "      padding: 0 0 0 0;\n",
              "      width: 32px;\n",
              "    }\n",
              "\n",
              "    .colab-df-convert:hover {\n",
              "      background-color: #E2EBFA;\n",
              "      box-shadow: 0px 1px 2px rgba(60, 64, 67, 0.3), 0px 1px 3px 1px rgba(60, 64, 67, 0.15);\n",
              "      fill: #174EA6;\n",
              "    }\n",
              "\n",
              "    .colab-df-buttons div {\n",
              "      margin-bottom: 4px;\n",
              "    }\n",
              "\n",
              "    [theme=dark] .colab-df-convert {\n",
              "      background-color: #3B4455;\n",
              "      fill: #D2E3FC;\n",
              "    }\n",
              "\n",
              "    [theme=dark] .colab-df-convert:hover {\n",
              "      background-color: #434B5C;\n",
              "      box-shadow: 0px 1px 3px 1px rgba(0, 0, 0, 0.15);\n",
              "      filter: drop-shadow(0px 1px 2px rgba(0, 0, 0, 0.3));\n",
              "      fill: #FFFFFF;\n",
              "    }\n",
              "  </style>\n",
              "\n",
              "    <script>\n",
              "      const buttonEl =\n",
              "        document.querySelector('#df-a4767ebb-4eb0-4277-ac1b-886989564b06 button.colab-df-convert');\n",
              "      buttonEl.style.display =\n",
              "        google.colab.kernel.accessAllowed ? 'block' : 'none';\n",
              "\n",
              "      async function convertToInteractive(key) {\n",
              "        const element = document.querySelector('#df-a4767ebb-4eb0-4277-ac1b-886989564b06');\n",
              "        const dataTable =\n",
              "          await google.colab.kernel.invokeFunction('convertToInteractive',\n",
              "                                                    [key], {});\n",
              "        if (!dataTable) return;\n",
              "\n",
              "        const docLinkHtml = 'Like what you see? Visit the ' +\n",
              "          '<a target=\"_blank\" href=https://colab.research.google.com/notebooks/data_table.ipynb>data table notebook</a>'\n",
              "          + ' to learn more about interactive tables.';\n",
              "        element.innerHTML = '';\n",
              "        dataTable['output_type'] = 'display_data';\n",
              "        await google.colab.output.renderOutput(dataTable, element);\n",
              "        const docLink = document.createElement('div');\n",
              "        docLink.innerHTML = docLinkHtml;\n",
              "        element.appendChild(docLink);\n",
              "      }\n",
              "    </script>\n",
              "  </div>\n",
              "\n",
              "\n",
              "<div id=\"df-5dc042e6-7ce4-40c9-bf41-d34fc0378cb1\">\n",
              "  <button class=\"colab-df-quickchart\" onclick=\"quickchart('df-5dc042e6-7ce4-40c9-bf41-d34fc0378cb1')\"\n",
              "            title=\"Suggest charts\"\n",
              "            style=\"display:none;\">\n",
              "\n",
              "<svg xmlns=\"http://www.w3.org/2000/svg\" height=\"24px\"viewBox=\"0 0 24 24\"\n",
              "     width=\"24px\">\n",
              "    <g>\n",
              "        <path d=\"M19 3H5c-1.1 0-2 .9-2 2v14c0 1.1.9 2 2 2h14c1.1 0 2-.9 2-2V5c0-1.1-.9-2-2-2zM9 17H7v-7h2v7zm4 0h-2V7h2v10zm4 0h-2v-4h2v4z\"/>\n",
              "    </g>\n",
              "</svg>\n",
              "  </button>\n",
              "\n",
              "<style>\n",
              "  .colab-df-quickchart {\n",
              "      --bg-color: #E8F0FE;\n",
              "      --fill-color: #1967D2;\n",
              "      --hover-bg-color: #E2EBFA;\n",
              "      --hover-fill-color: #174EA6;\n",
              "      --disabled-fill-color: #AAA;\n",
              "      --disabled-bg-color: #DDD;\n",
              "  }\n",
              "\n",
              "  [theme=dark] .colab-df-quickchart {\n",
              "      --bg-color: #3B4455;\n",
              "      --fill-color: #D2E3FC;\n",
              "      --hover-bg-color: #434B5C;\n",
              "      --hover-fill-color: #FFFFFF;\n",
              "      --disabled-bg-color: #3B4455;\n",
              "      --disabled-fill-color: #666;\n",
              "  }\n",
              "\n",
              "  .colab-df-quickchart {\n",
              "    background-color: var(--bg-color);\n",
              "    border: none;\n",
              "    border-radius: 50%;\n",
              "    cursor: pointer;\n",
              "    display: none;\n",
              "    fill: var(--fill-color);\n",
              "    height: 32px;\n",
              "    padding: 0;\n",
              "    width: 32px;\n",
              "  }\n",
              "\n",
              "  .colab-df-quickchart:hover {\n",
              "    background-color: var(--hover-bg-color);\n",
              "    box-shadow: 0 1px 2px rgba(60, 64, 67, 0.3), 0 1px 3px 1px rgba(60, 64, 67, 0.15);\n",
              "    fill: var(--button-hover-fill-color);\n",
              "  }\n",
              "\n",
              "  .colab-df-quickchart-complete:disabled,\n",
              "  .colab-df-quickchart-complete:disabled:hover {\n",
              "    background-color: var(--disabled-bg-color);\n",
              "    fill: var(--disabled-fill-color);\n",
              "    box-shadow: none;\n",
              "  }\n",
              "\n",
              "  .colab-df-spinner {\n",
              "    border: 2px solid var(--fill-color);\n",
              "    border-color: transparent;\n",
              "    border-bottom-color: var(--fill-color);\n",
              "    animation:\n",
              "      spin 1s steps(1) infinite;\n",
              "  }\n",
              "\n",
              "  @keyframes spin {\n",
              "    0% {\n",
              "      border-color: transparent;\n",
              "      border-bottom-color: var(--fill-color);\n",
              "      border-left-color: var(--fill-color);\n",
              "    }\n",
              "    20% {\n",
              "      border-color: transparent;\n",
              "      border-left-color: var(--fill-color);\n",
              "      border-top-color: var(--fill-color);\n",
              "    }\n",
              "    30% {\n",
              "      border-color: transparent;\n",
              "      border-left-color: var(--fill-color);\n",
              "      border-top-color: var(--fill-color);\n",
              "      border-right-color: var(--fill-color);\n",
              "    }\n",
              "    40% {\n",
              "      border-color: transparent;\n",
              "      border-right-color: var(--fill-color);\n",
              "      border-top-color: var(--fill-color);\n",
              "    }\n",
              "    60% {\n",
              "      border-color: transparent;\n",
              "      border-right-color: var(--fill-color);\n",
              "    }\n",
              "    80% {\n",
              "      border-color: transparent;\n",
              "      border-right-color: var(--fill-color);\n",
              "      border-bottom-color: var(--fill-color);\n",
              "    }\n",
              "    90% {\n",
              "      border-color: transparent;\n",
              "      border-bottom-color: var(--fill-color);\n",
              "    }\n",
              "  }\n",
              "</style>\n",
              "\n",
              "  <script>\n",
              "    async function quickchart(key) {\n",
              "      const quickchartButtonEl =\n",
              "        document.querySelector('#' + key + ' button');\n",
              "      quickchartButtonEl.disabled = true;  // To prevent multiple clicks.\n",
              "      quickchartButtonEl.classList.add('colab-df-spinner');\n",
              "      try {\n",
              "        const charts = await google.colab.kernel.invokeFunction(\n",
              "            'suggestCharts', [key], {});\n",
              "      } catch (error) {\n",
              "        console.error('Error during call to suggestCharts:', error);\n",
              "      }\n",
              "      quickchartButtonEl.classList.remove('colab-df-spinner');\n",
              "      quickchartButtonEl.classList.add('colab-df-quickchart-complete');\n",
              "    }\n",
              "    (() => {\n",
              "      let quickchartButtonEl =\n",
              "        document.querySelector('#df-5dc042e6-7ce4-40c9-bf41-d34fc0378cb1 button');\n",
              "      quickchartButtonEl.style.display =\n",
              "        google.colab.kernel.accessAllowed ? 'block' : 'none';\n",
              "    })();\n",
              "  </script>\n",
              "</div>\n",
              "\n",
              "    </div>\n",
              "  </div>\n"
            ],
            "application/vnd.google.colaboratory.intrinsic+json": {
              "type": "dataframe",
              "summary": "{\n  \"name\": \"df\",\n  \"rows\": 8,\n  \"fields\": [\n    {\n      \"column\": \"installs\",\n      \"properties\": {\n        \"dtype\": \"number\",\n        \"std\": 353142228.9295869,\n        \"min\": 0.0,\n        \"max\": 1000000000.0,\n        \"samples\": [\n          147595.93011485823,\n          500.0,\n          2241807.0\n        ],\n        \"num_unique_values\": 8,\n        \"semantic_type\": \"\",\n        \"description\": \"\"\n      }\n    }\n  ]\n}"
            }
          },
          "metadata": {},
          "execution_count": 8
        }
      ],
      "source": [
        "df.describe()"
      ]
    },
    {
      "cell_type": "code",
      "execution_count": null,
      "id": "a66e03fd",
      "metadata": {
        "id": "a66e03fd",
        "colab": {
          "base_uri": "https://localhost:8080/"
        },
        "outputId": "b40d2ebd-03c8-4d7c-9ef2-caa9f4cc9fd9"
      },
      "outputs": [
        {
          "output_type": "stream",
          "name": "stdout",
          "text": [
            "                installs\n",
            "count     2241807.000000\n",
            "mean       147595.930115\n",
            "std       5864551.354486\n",
            "min             0.000000\n",
            "25%            50.000000\n",
            "50%           500.000000\n",
            "75%          5000.000000\n",
            "max    1000000000.000000\n"
          ]
        }
      ],
      "source": [
        "df_description = df.describe().applymap(lambda x: format(x, '.6f'))\n",
        "df_description_str = df_description.to_string()\n",
        "print(df_description_str)"
      ]
    },
    {
      "cell_type": "code",
      "execution_count": null,
      "id": "ac26f08b",
      "metadata": {
        "id": "ac26f08b",
        "outputId": "0b4fbd58-953a-41ed-a850-96c10323bf10",
        "colab": {
          "base_uri": "https://localhost:8080/"
        }
      },
      "outputs": [
        {
          "output_type": "stream",
          "name": "stdout",
          "text": [
            "<class 'pandas.core.frame.DataFrame'>\n",
            "RangeIndex: 2241807 entries, 0 to 2241806\n",
            "Data columns (total 16 columns):\n",
            " #   Column            Dtype \n",
            "---  ------            ----- \n",
            " 0   category          object\n",
            " 1   app_name          object\n",
            " 2   rating            object\n",
            " 3   rating_count      object\n",
            " 4   installs          int64 \n",
            " 5   minimum_installs  object\n",
            " 6   maximum_installs  object\n",
            " 7   price             object\n",
            " 8   currency          object\n",
            " 9   size              object\n",
            " 10  released          object\n",
            " 11  last_updated      object\n",
            " 12  content_rating    object\n",
            " 13  ad_supported      object\n",
            " 14  in_app_purchases  object\n",
            " 15  type              object\n",
            "dtypes: int64(1), object(15)\n",
            "memory usage: 273.7+ MB\n"
          ]
        }
      ],
      "source": [
        "df.info()"
      ]
    },
    {
      "cell_type": "code",
      "execution_count": null,
      "id": "a6fc3ceb",
      "metadata": {
        "id": "a6fc3ceb",
        "outputId": "ecc9fd6c-29de-476a-caad-f94ef24c35d7",
        "colab": {
          "base_uri": "https://localhost:8080/"
        }
      },
      "outputs": [
        {
          "output_type": "execute_result",
          "data": {
            "text/plain": [
              "Index(['category', 'app_name', 'rating', 'rating_count', 'installs',\n",
              "       'minimum_installs', 'maximum_installs', 'price', 'currency', 'size',\n",
              "       'released', 'last_updated', 'content_rating', 'ad_supported',\n",
              "       'in_app_purchases', 'type'],\n",
              "      dtype='object')"
            ]
          },
          "metadata": {},
          "execution_count": 11
        }
      ],
      "source": [
        "df.columns"
      ]
    },
    {
      "cell_type": "code",
      "execution_count": null,
      "id": "b41782e8",
      "metadata": {
        "id": "b41782e8",
        "outputId": "addc1b3b-9997-4045-ab70-79a76d33440a",
        "colab": {
          "base_uri": "https://localhost:8080/"
        }
      },
      "outputs": [
        {
          "output_type": "execute_result",
          "data": {
            "text/plain": [
              "category            0\n",
              "app_name            2\n",
              "rating              0\n",
              "rating_count        0\n",
              "installs            0\n",
              "minimum_installs    0\n",
              "maximum_installs    0\n",
              "price               0\n",
              "currency            0\n",
              "size                0\n",
              "released            0\n",
              "last_updated        0\n",
              "content_rating      0\n",
              "ad_supported        0\n",
              "in_app_purchases    0\n",
              "type                3\n",
              "dtype: int64"
            ]
          },
          "metadata": {},
          "execution_count": 12
        }
      ],
      "source": [
        "df.isnull().sum()"
      ]
    },
    {
      "cell_type": "code",
      "execution_count": null,
      "id": "80ae68e1",
      "metadata": {
        "id": "80ae68e1",
        "outputId": "bd7096a6-edc0-4635-8bc2-c38eb8f55413",
        "colab": {
          "base_uri": "https://localhost:8080/"
        }
      },
      "outputs": [
        {
          "output_type": "execute_result",
          "data": {
            "text/plain": [
              "category            0.000000\n",
              "app_name            0.000089\n",
              "rating              0.000000\n",
              "rating_count        0.000000\n",
              "installs            0.000000\n",
              "minimum_installs    0.000000\n",
              "maximum_installs    0.000000\n",
              "price               0.000000\n",
              "currency            0.000000\n",
              "size                0.000000\n",
              "released            0.000000\n",
              "last_updated        0.000000\n",
              "content_rating      0.000000\n",
              "ad_supported        0.000000\n",
              "in_app_purchases    0.000000\n",
              "type                0.000134\n",
              "dtype: float64"
            ]
          },
          "metadata": {},
          "execution_count": 13
        }
      ],
      "source": [
        "df.isnull().sum()/len(df)*100"
      ]
    },
    {
      "cell_type": "markdown",
      "id": "7f753a37",
      "metadata": {
        "id": "7f753a37"
      },
      "source": [
        "sns.pairplot(df)"
      ]
    },
    {
      "cell_type": "code",
      "execution_count": null,
      "id": "8bd791b0",
      "metadata": {
        "id": "8bd791b0",
        "colab": {
          "base_uri": "https://localhost:8080/",
          "height": 287
        },
        "outputId": "a9879abf-6261-4989-e765-33792454aebf"
      },
      "outputs": [
        {
          "output_type": "error",
          "ename": "KeyError",
          "evalue": "\"['app_name', 'rating_count', 'installs'] not found in axis\"",
          "traceback": [
            "\u001b[0;31m---------------------------------------------------------------------------\u001b[0m",
            "\u001b[0;31mKeyError\u001b[0m                                  Traceback (most recent call last)",
            "\u001b[0;32m<ipython-input-30-da350d431ff7>\u001b[0m in \u001b[0;36m<cell line: 1>\u001b[0;34m()\u001b[0m\n\u001b[0;32m----> 1\u001b[0;31m \u001b[0mdf\u001b[0m \u001b[0;34m=\u001b[0m \u001b[0mdf\u001b[0m\u001b[0;34m.\u001b[0m\u001b[0mdrop\u001b[0m\u001b[0;34m(\u001b[0m\u001b[0;34m[\u001b[0m\u001b[0;34m'app_name'\u001b[0m\u001b[0;34m,\u001b[0m \u001b[0;34m'rating_count'\u001b[0m\u001b[0;34m,\u001b[0m \u001b[0;34m'installs'\u001b[0m \u001b[0;34m]\u001b[0m\u001b[0;34m,\u001b[0m \u001b[0maxis\u001b[0m\u001b[0;34m=\u001b[0m\u001b[0;36m1\u001b[0m \u001b[0;34m)\u001b[0m\u001b[0;34m\u001b[0m\u001b[0;34m\u001b[0m\u001b[0m\n\u001b[0m",
            "\u001b[0;32m/usr/local/lib/python3.10/dist-packages/pandas/util/_decorators.py\u001b[0m in \u001b[0;36mwrapper\u001b[0;34m(*args, **kwargs)\u001b[0m\n\u001b[1;32m    329\u001b[0m                     \u001b[0mstacklevel\u001b[0m\u001b[0;34m=\u001b[0m\u001b[0mfind_stack_level\u001b[0m\u001b[0;34m(\u001b[0m\u001b[0;34m)\u001b[0m\u001b[0;34m,\u001b[0m\u001b[0;34m\u001b[0m\u001b[0;34m\u001b[0m\u001b[0m\n\u001b[1;32m    330\u001b[0m                 )\n\u001b[0;32m--> 331\u001b[0;31m             \u001b[0;32mreturn\u001b[0m \u001b[0mfunc\u001b[0m\u001b[0;34m(\u001b[0m\u001b[0;34m*\u001b[0m\u001b[0margs\u001b[0m\u001b[0;34m,\u001b[0m \u001b[0;34m**\u001b[0m\u001b[0mkwargs\u001b[0m\u001b[0;34m)\u001b[0m\u001b[0;34m\u001b[0m\u001b[0;34m\u001b[0m\u001b[0m\n\u001b[0m\u001b[1;32m    332\u001b[0m \u001b[0;34m\u001b[0m\u001b[0m\n\u001b[1;32m    333\u001b[0m         \u001b[0;31m# error: \"Callable[[VarArg(Any), KwArg(Any)], Any]\" has no\u001b[0m\u001b[0;34m\u001b[0m\u001b[0;34m\u001b[0m\u001b[0m\n",
            "\u001b[0;32m/usr/local/lib/python3.10/dist-packages/pandas/core/frame.py\u001b[0m in \u001b[0;36mdrop\u001b[0;34m(self, labels, axis, index, columns, level, inplace, errors)\u001b[0m\n\u001b[1;32m   5397\u001b[0m                 \u001b[0mweight\u001b[0m  \u001b[0;36m1.0\u001b[0m     \u001b[0;36m0.8\u001b[0m\u001b[0;34m\u001b[0m\u001b[0;34m\u001b[0m\u001b[0m\n\u001b[1;32m   5398\u001b[0m         \"\"\"\n\u001b[0;32m-> 5399\u001b[0;31m         return super().drop(\n\u001b[0m\u001b[1;32m   5400\u001b[0m             \u001b[0mlabels\u001b[0m\u001b[0;34m=\u001b[0m\u001b[0mlabels\u001b[0m\u001b[0;34m,\u001b[0m\u001b[0;34m\u001b[0m\u001b[0;34m\u001b[0m\u001b[0m\n\u001b[1;32m   5401\u001b[0m             \u001b[0maxis\u001b[0m\u001b[0;34m=\u001b[0m\u001b[0maxis\u001b[0m\u001b[0;34m,\u001b[0m\u001b[0;34m\u001b[0m\u001b[0;34m\u001b[0m\u001b[0m\n",
            "\u001b[0;32m/usr/local/lib/python3.10/dist-packages/pandas/util/_decorators.py\u001b[0m in \u001b[0;36mwrapper\u001b[0;34m(*args, **kwargs)\u001b[0m\n\u001b[1;32m    329\u001b[0m                     \u001b[0mstacklevel\u001b[0m\u001b[0;34m=\u001b[0m\u001b[0mfind_stack_level\u001b[0m\u001b[0;34m(\u001b[0m\u001b[0;34m)\u001b[0m\u001b[0;34m,\u001b[0m\u001b[0;34m\u001b[0m\u001b[0;34m\u001b[0m\u001b[0m\n\u001b[1;32m    330\u001b[0m                 )\n\u001b[0;32m--> 331\u001b[0;31m             \u001b[0;32mreturn\u001b[0m \u001b[0mfunc\u001b[0m\u001b[0;34m(\u001b[0m\u001b[0;34m*\u001b[0m\u001b[0margs\u001b[0m\u001b[0;34m,\u001b[0m \u001b[0;34m**\u001b[0m\u001b[0mkwargs\u001b[0m\u001b[0;34m)\u001b[0m\u001b[0;34m\u001b[0m\u001b[0;34m\u001b[0m\u001b[0m\n\u001b[0m\u001b[1;32m    332\u001b[0m \u001b[0;34m\u001b[0m\u001b[0m\n\u001b[1;32m    333\u001b[0m         \u001b[0;31m# error: \"Callable[[VarArg(Any), KwArg(Any)], Any]\" has no\u001b[0m\u001b[0;34m\u001b[0m\u001b[0;34m\u001b[0m\u001b[0m\n",
            "\u001b[0;32m/usr/local/lib/python3.10/dist-packages/pandas/core/generic.py\u001b[0m in \u001b[0;36mdrop\u001b[0;34m(self, labels, axis, index, columns, level, inplace, errors)\u001b[0m\n\u001b[1;32m   4503\u001b[0m         \u001b[0;32mfor\u001b[0m \u001b[0maxis\u001b[0m\u001b[0;34m,\u001b[0m \u001b[0mlabels\u001b[0m \u001b[0;32min\u001b[0m \u001b[0maxes\u001b[0m\u001b[0;34m.\u001b[0m\u001b[0mitems\u001b[0m\u001b[0;34m(\u001b[0m\u001b[0;34m)\u001b[0m\u001b[0;34m:\u001b[0m\u001b[0;34m\u001b[0m\u001b[0;34m\u001b[0m\u001b[0m\n\u001b[1;32m   4504\u001b[0m             \u001b[0;32mif\u001b[0m \u001b[0mlabels\u001b[0m \u001b[0;32mis\u001b[0m \u001b[0;32mnot\u001b[0m \u001b[0;32mNone\u001b[0m\u001b[0;34m:\u001b[0m\u001b[0;34m\u001b[0m\u001b[0;34m\u001b[0m\u001b[0m\n\u001b[0;32m-> 4505\u001b[0;31m                 \u001b[0mobj\u001b[0m \u001b[0;34m=\u001b[0m \u001b[0mobj\u001b[0m\u001b[0;34m.\u001b[0m\u001b[0m_drop_axis\u001b[0m\u001b[0;34m(\u001b[0m\u001b[0mlabels\u001b[0m\u001b[0;34m,\u001b[0m \u001b[0maxis\u001b[0m\u001b[0;34m,\u001b[0m \u001b[0mlevel\u001b[0m\u001b[0;34m=\u001b[0m\u001b[0mlevel\u001b[0m\u001b[0;34m,\u001b[0m \u001b[0merrors\u001b[0m\u001b[0;34m=\u001b[0m\u001b[0merrors\u001b[0m\u001b[0;34m)\u001b[0m\u001b[0;34m\u001b[0m\u001b[0;34m\u001b[0m\u001b[0m\n\u001b[0m\u001b[1;32m   4506\u001b[0m \u001b[0;34m\u001b[0m\u001b[0m\n\u001b[1;32m   4507\u001b[0m         \u001b[0;32mif\u001b[0m \u001b[0minplace\u001b[0m\u001b[0;34m:\u001b[0m\u001b[0;34m\u001b[0m\u001b[0;34m\u001b[0m\u001b[0m\n",
            "\u001b[0;32m/usr/local/lib/python3.10/dist-packages/pandas/core/generic.py\u001b[0m in \u001b[0;36m_drop_axis\u001b[0;34m(self, labels, axis, level, errors, only_slice)\u001b[0m\n\u001b[1;32m   4544\u001b[0m                 \u001b[0mnew_axis\u001b[0m \u001b[0;34m=\u001b[0m \u001b[0maxis\u001b[0m\u001b[0;34m.\u001b[0m\u001b[0mdrop\u001b[0m\u001b[0;34m(\u001b[0m\u001b[0mlabels\u001b[0m\u001b[0;34m,\u001b[0m \u001b[0mlevel\u001b[0m\u001b[0;34m=\u001b[0m\u001b[0mlevel\u001b[0m\u001b[0;34m,\u001b[0m \u001b[0merrors\u001b[0m\u001b[0;34m=\u001b[0m\u001b[0merrors\u001b[0m\u001b[0;34m)\u001b[0m\u001b[0;34m\u001b[0m\u001b[0;34m\u001b[0m\u001b[0m\n\u001b[1;32m   4545\u001b[0m             \u001b[0;32melse\u001b[0m\u001b[0;34m:\u001b[0m\u001b[0;34m\u001b[0m\u001b[0;34m\u001b[0m\u001b[0m\n\u001b[0;32m-> 4546\u001b[0;31m                 \u001b[0mnew_axis\u001b[0m \u001b[0;34m=\u001b[0m \u001b[0maxis\u001b[0m\u001b[0;34m.\u001b[0m\u001b[0mdrop\u001b[0m\u001b[0;34m(\u001b[0m\u001b[0mlabels\u001b[0m\u001b[0;34m,\u001b[0m \u001b[0merrors\u001b[0m\u001b[0;34m=\u001b[0m\u001b[0merrors\u001b[0m\u001b[0;34m)\u001b[0m\u001b[0;34m\u001b[0m\u001b[0;34m\u001b[0m\u001b[0m\n\u001b[0m\u001b[1;32m   4547\u001b[0m             \u001b[0mindexer\u001b[0m \u001b[0;34m=\u001b[0m \u001b[0maxis\u001b[0m\u001b[0;34m.\u001b[0m\u001b[0mget_indexer\u001b[0m\u001b[0;34m(\u001b[0m\u001b[0mnew_axis\u001b[0m\u001b[0;34m)\u001b[0m\u001b[0;34m\u001b[0m\u001b[0;34m\u001b[0m\u001b[0m\n\u001b[1;32m   4548\u001b[0m \u001b[0;34m\u001b[0m\u001b[0m\n",
            "\u001b[0;32m/usr/local/lib/python3.10/dist-packages/pandas/core/indexes/base.py\u001b[0m in \u001b[0;36mdrop\u001b[0;34m(self, labels, errors)\u001b[0m\n\u001b[1;32m   6932\u001b[0m         \u001b[0;32mif\u001b[0m \u001b[0mmask\u001b[0m\u001b[0;34m.\u001b[0m\u001b[0many\u001b[0m\u001b[0;34m(\u001b[0m\u001b[0;34m)\u001b[0m\u001b[0;34m:\u001b[0m\u001b[0;34m\u001b[0m\u001b[0;34m\u001b[0m\u001b[0m\n\u001b[1;32m   6933\u001b[0m             \u001b[0;32mif\u001b[0m \u001b[0merrors\u001b[0m \u001b[0;34m!=\u001b[0m \u001b[0;34m\"ignore\"\u001b[0m\u001b[0;34m:\u001b[0m\u001b[0;34m\u001b[0m\u001b[0;34m\u001b[0m\u001b[0m\n\u001b[0;32m-> 6934\u001b[0;31m                 \u001b[0;32mraise\u001b[0m \u001b[0mKeyError\u001b[0m\u001b[0;34m(\u001b[0m\u001b[0;34mf\"{list(labels[mask])} not found in axis\"\u001b[0m\u001b[0;34m)\u001b[0m\u001b[0;34m\u001b[0m\u001b[0;34m\u001b[0m\u001b[0m\n\u001b[0m\u001b[1;32m   6935\u001b[0m             \u001b[0mindexer\u001b[0m \u001b[0;34m=\u001b[0m \u001b[0mindexer\u001b[0m\u001b[0;34m[\u001b[0m\u001b[0;34m~\u001b[0m\u001b[0mmask\u001b[0m\u001b[0;34m]\u001b[0m\u001b[0;34m\u001b[0m\u001b[0;34m\u001b[0m\u001b[0m\n\u001b[1;32m   6936\u001b[0m         \u001b[0;32mreturn\u001b[0m \u001b[0mself\u001b[0m\u001b[0;34m.\u001b[0m\u001b[0mdelete\u001b[0m\u001b[0;34m(\u001b[0m\u001b[0mindexer\u001b[0m\u001b[0;34m)\u001b[0m\u001b[0;34m\u001b[0m\u001b[0;34m\u001b[0m\u001b[0m\n",
            "\u001b[0;31mKeyError\u001b[0m: \"['app_name', 'rating_count', 'installs'] not found in axis\""
          ]
        }
      ],
      "source": [
        "df = df.drop(['app_name', 'rating_count', 'installs' ], axis=1 )"
      ]
    },
    {
      "cell_type": "code",
      "execution_count": null,
      "id": "a1b47a76",
      "metadata": {
        "id": "a1b47a76",
        "outputId": "0c40b146-d1d7-4873-eafe-c20eab2303e7",
        "colab": {
          "base_uri": "https://localhost:8080/",
          "height": 313
        }
      },
      "outputs": [
        {
          "output_type": "execute_result",
          "data": {
            "text/plain": [
              "          category rating  installs minimum_installs maximum_installs price  \\\n",
              "0  Auto & Vehicles    0.0       500              500              963   0.0   \n",
              "1  Auto & Vehicles    4.3      5000             5000             6093   0.0   \n",
              "2  Auto & Vehicles    4.5      5000             5000             5334   0.0   \n",
              "3  Auto & Vehicles    0.0        50               50               84   0.0   \n",
              "4  Auto & Vehicles    2.5     10000            10000            30593   0.0   \n",
              "\n",
              "  currency  size      released  last_updated content_rating ad_supported  \\\n",
              "0      USD  1.4M   Dec 1, 2017  Feb 24, 2018       Everyone         True   \n",
              "1      USD   11M  Apr 27, 2018  May 18, 2021       Everyone        False   \n",
              "2      USD   11M  Jul 25, 2019  Apr 28, 2020       Everyone         True   \n",
              "3      USD   14M  Feb 26, 2018  Mar 17, 2018       Everyone        False   \n",
              "4      USD   20M  Dec 27, 2019  Apr 27, 2021       Everyone        False   \n",
              "\n",
              "  in_app_purchases  type  \n",
              "0            False  Free  \n",
              "1            False  Free  \n",
              "2             True  Free  \n",
              "3            False  Free  \n",
              "4            False  Free  "
            ],
            "text/html": [
              "\n",
              "  <div id=\"df-844a5f34-5441-4dd6-add4-721ec5853e37\" class=\"colab-df-container\">\n",
              "    <div>\n",
              "<style scoped>\n",
              "    .dataframe tbody tr th:only-of-type {\n",
              "        vertical-align: middle;\n",
              "    }\n",
              "\n",
              "    .dataframe tbody tr th {\n",
              "        vertical-align: top;\n",
              "    }\n",
              "\n",
              "    .dataframe thead th {\n",
              "        text-align: right;\n",
              "    }\n",
              "</style>\n",
              "<table border=\"1\" class=\"dataframe\">\n",
              "  <thead>\n",
              "    <tr style=\"text-align: right;\">\n",
              "      <th></th>\n",
              "      <th>category</th>\n",
              "      <th>rating</th>\n",
              "      <th>installs</th>\n",
              "      <th>minimum_installs</th>\n",
              "      <th>maximum_installs</th>\n",
              "      <th>price</th>\n",
              "      <th>currency</th>\n",
              "      <th>size</th>\n",
              "      <th>released</th>\n",
              "      <th>last_updated</th>\n",
              "      <th>content_rating</th>\n",
              "      <th>ad_supported</th>\n",
              "      <th>in_app_purchases</th>\n",
              "      <th>type</th>\n",
              "    </tr>\n",
              "  </thead>\n",
              "  <tbody>\n",
              "    <tr>\n",
              "      <th>0</th>\n",
              "      <td>Auto &amp; Vehicles</td>\n",
              "      <td>0.0</td>\n",
              "      <td>500</td>\n",
              "      <td>500</td>\n",
              "      <td>963</td>\n",
              "      <td>0.0</td>\n",
              "      <td>USD</td>\n",
              "      <td>1.4M</td>\n",
              "      <td>Dec 1, 2017</td>\n",
              "      <td>Feb 24, 2018</td>\n",
              "      <td>Everyone</td>\n",
              "      <td>True</td>\n",
              "      <td>False</td>\n",
              "      <td>Free</td>\n",
              "    </tr>\n",
              "    <tr>\n",
              "      <th>1</th>\n",
              "      <td>Auto &amp; Vehicles</td>\n",
              "      <td>4.3</td>\n",
              "      <td>5000</td>\n",
              "      <td>5000</td>\n",
              "      <td>6093</td>\n",
              "      <td>0.0</td>\n",
              "      <td>USD</td>\n",
              "      <td>11M</td>\n",
              "      <td>Apr 27, 2018</td>\n",
              "      <td>May 18, 2021</td>\n",
              "      <td>Everyone</td>\n",
              "      <td>False</td>\n",
              "      <td>False</td>\n",
              "      <td>Free</td>\n",
              "    </tr>\n",
              "    <tr>\n",
              "      <th>2</th>\n",
              "      <td>Auto &amp; Vehicles</td>\n",
              "      <td>4.5</td>\n",
              "      <td>5000</td>\n",
              "      <td>5000</td>\n",
              "      <td>5334</td>\n",
              "      <td>0.0</td>\n",
              "      <td>USD</td>\n",
              "      <td>11M</td>\n",
              "      <td>Jul 25, 2019</td>\n",
              "      <td>Apr 28, 2020</td>\n",
              "      <td>Everyone</td>\n",
              "      <td>True</td>\n",
              "      <td>True</td>\n",
              "      <td>Free</td>\n",
              "    </tr>\n",
              "    <tr>\n",
              "      <th>3</th>\n",
              "      <td>Auto &amp; Vehicles</td>\n",
              "      <td>0.0</td>\n",
              "      <td>50</td>\n",
              "      <td>50</td>\n",
              "      <td>84</td>\n",
              "      <td>0.0</td>\n",
              "      <td>USD</td>\n",
              "      <td>14M</td>\n",
              "      <td>Feb 26, 2018</td>\n",
              "      <td>Mar 17, 2018</td>\n",
              "      <td>Everyone</td>\n",
              "      <td>False</td>\n",
              "      <td>False</td>\n",
              "      <td>Free</td>\n",
              "    </tr>\n",
              "    <tr>\n",
              "      <th>4</th>\n",
              "      <td>Auto &amp; Vehicles</td>\n",
              "      <td>2.5</td>\n",
              "      <td>10000</td>\n",
              "      <td>10000</td>\n",
              "      <td>30593</td>\n",
              "      <td>0.0</td>\n",
              "      <td>USD</td>\n",
              "      <td>20M</td>\n",
              "      <td>Dec 27, 2019</td>\n",
              "      <td>Apr 27, 2021</td>\n",
              "      <td>Everyone</td>\n",
              "      <td>False</td>\n",
              "      <td>False</td>\n",
              "      <td>Free</td>\n",
              "    </tr>\n",
              "  </tbody>\n",
              "</table>\n",
              "</div>\n",
              "    <div class=\"colab-df-buttons\">\n",
              "\n",
              "  <div class=\"colab-df-container\">\n",
              "    <button class=\"colab-df-convert\" onclick=\"convertToInteractive('df-844a5f34-5441-4dd6-add4-721ec5853e37')\"\n",
              "            title=\"Convert this dataframe to an interactive table.\"\n",
              "            style=\"display:none;\">\n",
              "\n",
              "  <svg xmlns=\"http://www.w3.org/2000/svg\" height=\"24px\" viewBox=\"0 -960 960 960\">\n",
              "    <path d=\"M120-120v-720h720v720H120Zm60-500h600v-160H180v160Zm220 220h160v-160H400v160Zm0 220h160v-160H400v160ZM180-400h160v-160H180v160Zm440 0h160v-160H620v160ZM180-180h160v-160H180v160Zm440 0h160v-160H620v160Z\"/>\n",
              "  </svg>\n",
              "    </button>\n",
              "\n",
              "  <style>\n",
              "    .colab-df-container {\n",
              "      display:flex;\n",
              "      gap: 12px;\n",
              "    }\n",
              "\n",
              "    .colab-df-convert {\n",
              "      background-color: #E8F0FE;\n",
              "      border: none;\n",
              "      border-radius: 50%;\n",
              "      cursor: pointer;\n",
              "      display: none;\n",
              "      fill: #1967D2;\n",
              "      height: 32px;\n",
              "      padding: 0 0 0 0;\n",
              "      width: 32px;\n",
              "    }\n",
              "\n",
              "    .colab-df-convert:hover {\n",
              "      background-color: #E2EBFA;\n",
              "      box-shadow: 0px 1px 2px rgba(60, 64, 67, 0.3), 0px 1px 3px 1px rgba(60, 64, 67, 0.15);\n",
              "      fill: #174EA6;\n",
              "    }\n",
              "\n",
              "    .colab-df-buttons div {\n",
              "      margin-bottom: 4px;\n",
              "    }\n",
              "\n",
              "    [theme=dark] .colab-df-convert {\n",
              "      background-color: #3B4455;\n",
              "      fill: #D2E3FC;\n",
              "    }\n",
              "\n",
              "    [theme=dark] .colab-df-convert:hover {\n",
              "      background-color: #434B5C;\n",
              "      box-shadow: 0px 1px 3px 1px rgba(0, 0, 0, 0.15);\n",
              "      filter: drop-shadow(0px 1px 2px rgba(0, 0, 0, 0.3));\n",
              "      fill: #FFFFFF;\n",
              "    }\n",
              "  </style>\n",
              "\n",
              "    <script>\n",
              "      const buttonEl =\n",
              "        document.querySelector('#df-844a5f34-5441-4dd6-add4-721ec5853e37 button.colab-df-convert');\n",
              "      buttonEl.style.display =\n",
              "        google.colab.kernel.accessAllowed ? 'block' : 'none';\n",
              "\n",
              "      async function convertToInteractive(key) {\n",
              "        const element = document.querySelector('#df-844a5f34-5441-4dd6-add4-721ec5853e37');\n",
              "        const dataTable =\n",
              "          await google.colab.kernel.invokeFunction('convertToInteractive',\n",
              "                                                    [key], {});\n",
              "        if (!dataTable) return;\n",
              "\n",
              "        const docLinkHtml = 'Like what you see? Visit the ' +\n",
              "          '<a target=\"_blank\" href=https://colab.research.google.com/notebooks/data_table.ipynb>data table notebook</a>'\n",
              "          + ' to learn more about interactive tables.';\n",
              "        element.innerHTML = '';\n",
              "        dataTable['output_type'] = 'display_data';\n",
              "        await google.colab.output.renderOutput(dataTable, element);\n",
              "        const docLink = document.createElement('div');\n",
              "        docLink.innerHTML = docLinkHtml;\n",
              "        element.appendChild(docLink);\n",
              "      }\n",
              "    </script>\n",
              "  </div>\n",
              "\n",
              "\n",
              "<div id=\"df-438d7221-3248-4c86-a62d-50362e9e95ee\">\n",
              "  <button class=\"colab-df-quickchart\" onclick=\"quickchart('df-438d7221-3248-4c86-a62d-50362e9e95ee')\"\n",
              "            title=\"Suggest charts\"\n",
              "            style=\"display:none;\">\n",
              "\n",
              "<svg xmlns=\"http://www.w3.org/2000/svg\" height=\"24px\"viewBox=\"0 0 24 24\"\n",
              "     width=\"24px\">\n",
              "    <g>\n",
              "        <path d=\"M19 3H5c-1.1 0-2 .9-2 2v14c0 1.1.9 2 2 2h14c1.1 0 2-.9 2-2V5c0-1.1-.9-2-2-2zM9 17H7v-7h2v7zm4 0h-2V7h2v10zm4 0h-2v-4h2v4z\"/>\n",
              "    </g>\n",
              "</svg>\n",
              "  </button>\n",
              "\n",
              "<style>\n",
              "  .colab-df-quickchart {\n",
              "      --bg-color: #E8F0FE;\n",
              "      --fill-color: #1967D2;\n",
              "      --hover-bg-color: #E2EBFA;\n",
              "      --hover-fill-color: #174EA6;\n",
              "      --disabled-fill-color: #AAA;\n",
              "      --disabled-bg-color: #DDD;\n",
              "  }\n",
              "\n",
              "  [theme=dark] .colab-df-quickchart {\n",
              "      --bg-color: #3B4455;\n",
              "      --fill-color: #D2E3FC;\n",
              "      --hover-bg-color: #434B5C;\n",
              "      --hover-fill-color: #FFFFFF;\n",
              "      --disabled-bg-color: #3B4455;\n",
              "      --disabled-fill-color: #666;\n",
              "  }\n",
              "\n",
              "  .colab-df-quickchart {\n",
              "    background-color: var(--bg-color);\n",
              "    border: none;\n",
              "    border-radius: 50%;\n",
              "    cursor: pointer;\n",
              "    display: none;\n",
              "    fill: var(--fill-color);\n",
              "    height: 32px;\n",
              "    padding: 0;\n",
              "    width: 32px;\n",
              "  }\n",
              "\n",
              "  .colab-df-quickchart:hover {\n",
              "    background-color: var(--hover-bg-color);\n",
              "    box-shadow: 0 1px 2px rgba(60, 64, 67, 0.3), 0 1px 3px 1px rgba(60, 64, 67, 0.15);\n",
              "    fill: var(--button-hover-fill-color);\n",
              "  }\n",
              "\n",
              "  .colab-df-quickchart-complete:disabled,\n",
              "  .colab-df-quickchart-complete:disabled:hover {\n",
              "    background-color: var(--disabled-bg-color);\n",
              "    fill: var(--disabled-fill-color);\n",
              "    box-shadow: none;\n",
              "  }\n",
              "\n",
              "  .colab-df-spinner {\n",
              "    border: 2px solid var(--fill-color);\n",
              "    border-color: transparent;\n",
              "    border-bottom-color: var(--fill-color);\n",
              "    animation:\n",
              "      spin 1s steps(1) infinite;\n",
              "  }\n",
              "\n",
              "  @keyframes spin {\n",
              "    0% {\n",
              "      border-color: transparent;\n",
              "      border-bottom-color: var(--fill-color);\n",
              "      border-left-color: var(--fill-color);\n",
              "    }\n",
              "    20% {\n",
              "      border-color: transparent;\n",
              "      border-left-color: var(--fill-color);\n",
              "      border-top-color: var(--fill-color);\n",
              "    }\n",
              "    30% {\n",
              "      border-color: transparent;\n",
              "      border-left-color: var(--fill-color);\n",
              "      border-top-color: var(--fill-color);\n",
              "      border-right-color: var(--fill-color);\n",
              "    }\n",
              "    40% {\n",
              "      border-color: transparent;\n",
              "      border-right-color: var(--fill-color);\n",
              "      border-top-color: var(--fill-color);\n",
              "    }\n",
              "    60% {\n",
              "      border-color: transparent;\n",
              "      border-right-color: var(--fill-color);\n",
              "    }\n",
              "    80% {\n",
              "      border-color: transparent;\n",
              "      border-right-color: var(--fill-color);\n",
              "      border-bottom-color: var(--fill-color);\n",
              "    }\n",
              "    90% {\n",
              "      border-color: transparent;\n",
              "      border-bottom-color: var(--fill-color);\n",
              "    }\n",
              "  }\n",
              "</style>\n",
              "\n",
              "  <script>\n",
              "    async function quickchart(key) {\n",
              "      const quickchartButtonEl =\n",
              "        document.querySelector('#' + key + ' button');\n",
              "      quickchartButtonEl.disabled = true;  // To prevent multiple clicks.\n",
              "      quickchartButtonEl.classList.add('colab-df-spinner');\n",
              "      try {\n",
              "        const charts = await google.colab.kernel.invokeFunction(\n",
              "            'suggestCharts', [key], {});\n",
              "      } catch (error) {\n",
              "        console.error('Error during call to suggestCharts:', error);\n",
              "      }\n",
              "      quickchartButtonEl.classList.remove('colab-df-spinner');\n",
              "      quickchartButtonEl.classList.add('colab-df-quickchart-complete');\n",
              "    }\n",
              "    (() => {\n",
              "      let quickchartButtonEl =\n",
              "        document.querySelector('#df-438d7221-3248-4c86-a62d-50362e9e95ee button');\n",
              "      quickchartButtonEl.style.display =\n",
              "        google.colab.kernel.accessAllowed ? 'block' : 'none';\n",
              "    })();\n",
              "  </script>\n",
              "</div>\n",
              "\n",
              "    </div>\n",
              "  </div>\n"
            ],
            "application/vnd.google.colaboratory.intrinsic+json": {
              "type": "dataframe",
              "variable_name": "df"
            }
          },
          "metadata": {},
          "execution_count": 20
        }
      ],
      "source": [
        "df.head()"
      ]
    },
    {
      "cell_type": "code",
      "execution_count": null,
      "id": "7b10ecaf",
      "metadata": {
        "id": "7b10ecaf",
        "outputId": "fc5800e8-76d5-48d0-8c70-d4a3aa6fa008",
        "colab": {
          "base_uri": "https://localhost:8080/"
        }
      },
      "outputs": [
        {
          "output_type": "execute_result",
          "data": {
            "text/plain": [
              "type    3\n",
              "dtype: int64"
            ]
          },
          "metadata": {},
          "execution_count": 21
        }
      ],
      "source": [
        "df.isnull().sum()[df.isnull().sum()>0]"
      ]
    },
    {
      "cell_type": "code",
      "source": [
        "df['type'].fillna(df['type'].mode()[0], inplace=True)\n",
        "df.isnull().sum()"
      ],
      "metadata": {
        "colab": {
          "base_uri": "https://localhost:8080/"
        },
        "id": "aadO_koMNc7Y",
        "outputId": "4da039b0-d9c8-48a6-d575-90dfbca16704"
      },
      "id": "aadO_koMNc7Y",
      "execution_count": null,
      "outputs": [
        {
          "output_type": "execute_result",
          "data": {
            "text/plain": [
              "category            0\n",
              "rating              0\n",
              "installs            0\n",
              "minimum_installs    0\n",
              "maximum_installs    0\n",
              "price               0\n",
              "currency            0\n",
              "size                0\n",
              "released            0\n",
              "last_updated        0\n",
              "content_rating      0\n",
              "ad_supported        0\n",
              "in_app_purchases    0\n",
              "type                0\n",
              "dtype: int64"
            ]
          },
          "metadata": {},
          "execution_count": 22
        }
      ]
    },
    {
      "cell_type": "code",
      "execution_count": null,
      "id": "308b239e",
      "metadata": {
        "id": "308b239e",
        "outputId": "8fe0b621-78bd-4b37-d1a4-bf48265109c6",
        "colab": {
          "base_uri": "https://localhost:8080/"
        }
      },
      "outputs": [
        {
          "output_type": "execute_result",
          "data": {
            "text/plain": [
              "4696"
            ]
          },
          "metadata": {},
          "execution_count": 23
        }
      ],
      "source": [
        "df.duplicated().sum()"
      ]
    },
    {
      "cell_type": "code",
      "execution_count": null,
      "id": "0bee03c5",
      "metadata": {
        "id": "0bee03c5"
      },
      "outputs": [],
      "source": [
        "df.drop_duplicates(inplace=True)"
      ]
    },
    {
      "cell_type": "code",
      "execution_count": null,
      "id": "37e87f09",
      "metadata": {
        "id": "37e87f09",
        "outputId": "3c25f4db-ce03-45a8-ea4b-1b3bda32b4ea",
        "colab": {
          "base_uri": "https://localhost:8080/"
        }
      },
      "outputs": [
        {
          "output_type": "execute_result",
          "data": {
            "text/plain": [
              "count     2237111.0\n",
              "unique        144.0\n",
              "top             0.0\n",
              "freq       956762.0\n",
              "Name: rating, dtype: float64"
            ]
          },
          "metadata": {},
          "execution_count": 25
        }
      ],
      "source": [
        "df['rating'].describe()"
      ]
    },
    {
      "cell_type": "code",
      "execution_count": null,
      "id": "2a6bbe7e",
      "metadata": {
        "id": "2a6bbe7e",
        "outputId": "6f54e61c-6a39-456a-ab62-ae8ad1ec2530",
        "colab": {
          "base_uri": "https://localhost:8080/"
        }
      },
      "outputs": [
        {
          "output_type": "stream",
          "name": "stdout",
          "text": [
            "<class 'pandas.core.frame.DataFrame'>\n",
            "Int64Index: 2237111 entries, 0 to 2241806\n",
            "Data columns (total 14 columns):\n",
            " #   Column            Dtype \n",
            "---  ------            ----- \n",
            " 0   category          object\n",
            " 1   rating            object\n",
            " 2   installs          int64 \n",
            " 3   minimum_installs  object\n",
            " 4   maximum_installs  object\n",
            " 5   price             object\n",
            " 6   currency          object\n",
            " 7   size              object\n",
            " 8   released          object\n",
            " 9   last_updated      object\n",
            " 10  content_rating    object\n",
            " 11  ad_supported      object\n",
            " 12  in_app_purchases  object\n",
            " 13  type              object\n",
            "dtypes: int64(1), object(13)\n",
            "memory usage: 256.0+ MB\n"
          ]
        }
      ],
      "source": [
        "df.info()"
      ]
    },
    {
      "cell_type": "code",
      "source": [
        "# df['last_updated'] = pd.to_datetime(df['last_updated'])\n",
        "# df['released'] = pd.to_datetime(df['released'])"
      ],
      "metadata": {
        "id": "izEr8dg-6UqN"
      },
      "id": "izEr8dg-6UqN",
      "execution_count": null,
      "outputs": []
    },
    {
      "cell_type": "code",
      "source": [
        "df = df.drop(['released', 'last_updated'], axis = 1)"
      ],
      "metadata": {
        "id": "T7K7H2KDPXfl"
      },
      "id": "T7K7H2KDPXfl",
      "execution_count": null,
      "outputs": []
    },
    {
      "cell_type": "code",
      "source": [
        "df.head()"
      ],
      "metadata": {
        "colab": {
          "base_uri": "https://localhost:8080/",
          "height": 226
        },
        "id": "zGsCTXgfP8Nn",
        "outputId": "306f2247-e404-47e2-d54a-52549fd7fda9"
      },
      "id": "zGsCTXgfP8Nn",
      "execution_count": null,
      "outputs": [
        {
          "output_type": "execute_result",
          "data": {
            "text/plain": [
              "   category rating minimum_installs maximum_installs price currency  size  \\\n",
              "0         4    0.0              500              963   0.0      USD  1.4M   \n",
              "1         4    4.3             5000             6093   0.0      USD   11M   \n",
              "2         4    4.5             5000             5334   0.0      USD   11M   \n",
              "3         4    0.0               50               84   0.0      USD   14M   \n",
              "4         4    2.5            10000            30593   0.0      USD   20M   \n",
              "\n",
              "  content_rating ad_supported in_app_purchases  type  \n",
              "0       Everyone         True            False  Free  \n",
              "1       Everyone        False            False  Free  \n",
              "2       Everyone         True             True  Free  \n",
              "3       Everyone        False            False  Free  \n",
              "4       Everyone        False            False  Free  "
            ],
            "text/html": [
              "\n",
              "  <div id=\"df-24b45737-bbfc-46c0-bd48-8221af9ec120\" class=\"colab-df-container\">\n",
              "    <div>\n",
              "<style scoped>\n",
              "    .dataframe tbody tr th:only-of-type {\n",
              "        vertical-align: middle;\n",
              "    }\n",
              "\n",
              "    .dataframe tbody tr th {\n",
              "        vertical-align: top;\n",
              "    }\n",
              "\n",
              "    .dataframe thead th {\n",
              "        text-align: right;\n",
              "    }\n",
              "</style>\n",
              "<table border=\"1\" class=\"dataframe\">\n",
              "  <thead>\n",
              "    <tr style=\"text-align: right;\">\n",
              "      <th></th>\n",
              "      <th>category</th>\n",
              "      <th>rating</th>\n",
              "      <th>minimum_installs</th>\n",
              "      <th>maximum_installs</th>\n",
              "      <th>price</th>\n",
              "      <th>currency</th>\n",
              "      <th>size</th>\n",
              "      <th>content_rating</th>\n",
              "      <th>ad_supported</th>\n",
              "      <th>in_app_purchases</th>\n",
              "      <th>type</th>\n",
              "    </tr>\n",
              "  </thead>\n",
              "  <tbody>\n",
              "    <tr>\n",
              "      <th>0</th>\n",
              "      <td>4</td>\n",
              "      <td>0.0</td>\n",
              "      <td>500</td>\n",
              "      <td>963</td>\n",
              "      <td>0.0</td>\n",
              "      <td>USD</td>\n",
              "      <td>1.4M</td>\n",
              "      <td>Everyone</td>\n",
              "      <td>True</td>\n",
              "      <td>False</td>\n",
              "      <td>Free</td>\n",
              "    </tr>\n",
              "    <tr>\n",
              "      <th>1</th>\n",
              "      <td>4</td>\n",
              "      <td>4.3</td>\n",
              "      <td>5000</td>\n",
              "      <td>6093</td>\n",
              "      <td>0.0</td>\n",
              "      <td>USD</td>\n",
              "      <td>11M</td>\n",
              "      <td>Everyone</td>\n",
              "      <td>False</td>\n",
              "      <td>False</td>\n",
              "      <td>Free</td>\n",
              "    </tr>\n",
              "    <tr>\n",
              "      <th>2</th>\n",
              "      <td>4</td>\n",
              "      <td>4.5</td>\n",
              "      <td>5000</td>\n",
              "      <td>5334</td>\n",
              "      <td>0.0</td>\n",
              "      <td>USD</td>\n",
              "      <td>11M</td>\n",
              "      <td>Everyone</td>\n",
              "      <td>True</td>\n",
              "      <td>True</td>\n",
              "      <td>Free</td>\n",
              "    </tr>\n",
              "    <tr>\n",
              "      <th>3</th>\n",
              "      <td>4</td>\n",
              "      <td>0.0</td>\n",
              "      <td>50</td>\n",
              "      <td>84</td>\n",
              "      <td>0.0</td>\n",
              "      <td>USD</td>\n",
              "      <td>14M</td>\n",
              "      <td>Everyone</td>\n",
              "      <td>False</td>\n",
              "      <td>False</td>\n",
              "      <td>Free</td>\n",
              "    </tr>\n",
              "    <tr>\n",
              "      <th>4</th>\n",
              "      <td>4</td>\n",
              "      <td>2.5</td>\n",
              "      <td>10000</td>\n",
              "      <td>30593</td>\n",
              "      <td>0.0</td>\n",
              "      <td>USD</td>\n",
              "      <td>20M</td>\n",
              "      <td>Everyone</td>\n",
              "      <td>False</td>\n",
              "      <td>False</td>\n",
              "      <td>Free</td>\n",
              "    </tr>\n",
              "  </tbody>\n",
              "</table>\n",
              "</div>\n",
              "    <div class=\"colab-df-buttons\">\n",
              "\n",
              "  <div class=\"colab-df-container\">\n",
              "    <button class=\"colab-df-convert\" onclick=\"convertToInteractive('df-24b45737-bbfc-46c0-bd48-8221af9ec120')\"\n",
              "            title=\"Convert this dataframe to an interactive table.\"\n",
              "            style=\"display:none;\">\n",
              "\n",
              "  <svg xmlns=\"http://www.w3.org/2000/svg\" height=\"24px\" viewBox=\"0 -960 960 960\">\n",
              "    <path d=\"M120-120v-720h720v720H120Zm60-500h600v-160H180v160Zm220 220h160v-160H400v160Zm0 220h160v-160H400v160ZM180-400h160v-160H180v160Zm440 0h160v-160H620v160ZM180-180h160v-160H180v160Zm440 0h160v-160H620v160Z\"/>\n",
              "  </svg>\n",
              "    </button>\n",
              "\n",
              "  <style>\n",
              "    .colab-df-container {\n",
              "      display:flex;\n",
              "      gap: 12px;\n",
              "    }\n",
              "\n",
              "    .colab-df-convert {\n",
              "      background-color: #E8F0FE;\n",
              "      border: none;\n",
              "      border-radius: 50%;\n",
              "      cursor: pointer;\n",
              "      display: none;\n",
              "      fill: #1967D2;\n",
              "      height: 32px;\n",
              "      padding: 0 0 0 0;\n",
              "      width: 32px;\n",
              "    }\n",
              "\n",
              "    .colab-df-convert:hover {\n",
              "      background-color: #E2EBFA;\n",
              "      box-shadow: 0px 1px 2px rgba(60, 64, 67, 0.3), 0px 1px 3px 1px rgba(60, 64, 67, 0.15);\n",
              "      fill: #174EA6;\n",
              "    }\n",
              "\n",
              "    .colab-df-buttons div {\n",
              "      margin-bottom: 4px;\n",
              "    }\n",
              "\n",
              "    [theme=dark] .colab-df-convert {\n",
              "      background-color: #3B4455;\n",
              "      fill: #D2E3FC;\n",
              "    }\n",
              "\n",
              "    [theme=dark] .colab-df-convert:hover {\n",
              "      background-color: #434B5C;\n",
              "      box-shadow: 0px 1px 3px 1px rgba(0, 0, 0, 0.15);\n",
              "      filter: drop-shadow(0px 1px 2px rgba(0, 0, 0, 0.3));\n",
              "      fill: #FFFFFF;\n",
              "    }\n",
              "  </style>\n",
              "\n",
              "    <script>\n",
              "      const buttonEl =\n",
              "        document.querySelector('#df-24b45737-bbfc-46c0-bd48-8221af9ec120 button.colab-df-convert');\n",
              "      buttonEl.style.display =\n",
              "        google.colab.kernel.accessAllowed ? 'block' : 'none';\n",
              "\n",
              "      async function convertToInteractive(key) {\n",
              "        const element = document.querySelector('#df-24b45737-bbfc-46c0-bd48-8221af9ec120');\n",
              "        const dataTable =\n",
              "          await google.colab.kernel.invokeFunction('convertToInteractive',\n",
              "                                                    [key], {});\n",
              "        if (!dataTable) return;\n",
              "\n",
              "        const docLinkHtml = 'Like what you see? Visit the ' +\n",
              "          '<a target=\"_blank\" href=https://colab.research.google.com/notebooks/data_table.ipynb>data table notebook</a>'\n",
              "          + ' to learn more about interactive tables.';\n",
              "        element.innerHTML = '';\n",
              "        dataTable['output_type'] = 'display_data';\n",
              "        await google.colab.output.renderOutput(dataTable, element);\n",
              "        const docLink = document.createElement('div');\n",
              "        docLink.innerHTML = docLinkHtml;\n",
              "        element.appendChild(docLink);\n",
              "      }\n",
              "    </script>\n",
              "  </div>\n",
              "\n",
              "\n",
              "<div id=\"df-8d6ce675-33f6-4cd6-a563-de2d9b16a2cf\">\n",
              "  <button class=\"colab-df-quickchart\" onclick=\"quickchart('df-8d6ce675-33f6-4cd6-a563-de2d9b16a2cf')\"\n",
              "            title=\"Suggest charts\"\n",
              "            style=\"display:none;\">\n",
              "\n",
              "<svg xmlns=\"http://www.w3.org/2000/svg\" height=\"24px\"viewBox=\"0 0 24 24\"\n",
              "     width=\"24px\">\n",
              "    <g>\n",
              "        <path d=\"M19 3H5c-1.1 0-2 .9-2 2v14c0 1.1.9 2 2 2h14c1.1 0 2-.9 2-2V5c0-1.1-.9-2-2-2zM9 17H7v-7h2v7zm4 0h-2V7h2v10zm4 0h-2v-4h2v4z\"/>\n",
              "    </g>\n",
              "</svg>\n",
              "  </button>\n",
              "\n",
              "<style>\n",
              "  .colab-df-quickchart {\n",
              "      --bg-color: #E8F0FE;\n",
              "      --fill-color: #1967D2;\n",
              "      --hover-bg-color: #E2EBFA;\n",
              "      --hover-fill-color: #174EA6;\n",
              "      --disabled-fill-color: #AAA;\n",
              "      --disabled-bg-color: #DDD;\n",
              "  }\n",
              "\n",
              "  [theme=dark] .colab-df-quickchart {\n",
              "      --bg-color: #3B4455;\n",
              "      --fill-color: #D2E3FC;\n",
              "      --hover-bg-color: #434B5C;\n",
              "      --hover-fill-color: #FFFFFF;\n",
              "      --disabled-bg-color: #3B4455;\n",
              "      --disabled-fill-color: #666;\n",
              "  }\n",
              "\n",
              "  .colab-df-quickchart {\n",
              "    background-color: var(--bg-color);\n",
              "    border: none;\n",
              "    border-radius: 50%;\n",
              "    cursor: pointer;\n",
              "    display: none;\n",
              "    fill: var(--fill-color);\n",
              "    height: 32px;\n",
              "    padding: 0;\n",
              "    width: 32px;\n",
              "  }\n",
              "\n",
              "  .colab-df-quickchart:hover {\n",
              "    background-color: var(--hover-bg-color);\n",
              "    box-shadow: 0 1px 2px rgba(60, 64, 67, 0.3), 0 1px 3px 1px rgba(60, 64, 67, 0.15);\n",
              "    fill: var(--button-hover-fill-color);\n",
              "  }\n",
              "\n",
              "  .colab-df-quickchart-complete:disabled,\n",
              "  .colab-df-quickchart-complete:disabled:hover {\n",
              "    background-color: var(--disabled-bg-color);\n",
              "    fill: var(--disabled-fill-color);\n",
              "    box-shadow: none;\n",
              "  }\n",
              "\n",
              "  .colab-df-spinner {\n",
              "    border: 2px solid var(--fill-color);\n",
              "    border-color: transparent;\n",
              "    border-bottom-color: var(--fill-color);\n",
              "    animation:\n",
              "      spin 1s steps(1) infinite;\n",
              "  }\n",
              "\n",
              "  @keyframes spin {\n",
              "    0% {\n",
              "      border-color: transparent;\n",
              "      border-bottom-color: var(--fill-color);\n",
              "      border-left-color: var(--fill-color);\n",
              "    }\n",
              "    20% {\n",
              "      border-color: transparent;\n",
              "      border-left-color: var(--fill-color);\n",
              "      border-top-color: var(--fill-color);\n",
              "    }\n",
              "    30% {\n",
              "      border-color: transparent;\n",
              "      border-left-color: var(--fill-color);\n",
              "      border-top-color: var(--fill-color);\n",
              "      border-right-color: var(--fill-color);\n",
              "    }\n",
              "    40% {\n",
              "      border-color: transparent;\n",
              "      border-right-color: var(--fill-color);\n",
              "      border-top-color: var(--fill-color);\n",
              "    }\n",
              "    60% {\n",
              "      border-color: transparent;\n",
              "      border-right-color: var(--fill-color);\n",
              "    }\n",
              "    80% {\n",
              "      border-color: transparent;\n",
              "      border-right-color: var(--fill-color);\n",
              "      border-bottom-color: var(--fill-color);\n",
              "    }\n",
              "    90% {\n",
              "      border-color: transparent;\n",
              "      border-bottom-color: var(--fill-color);\n",
              "    }\n",
              "  }\n",
              "</style>\n",
              "\n",
              "  <script>\n",
              "    async function quickchart(key) {\n",
              "      const quickchartButtonEl =\n",
              "        document.querySelector('#' + key + ' button');\n",
              "      quickchartButtonEl.disabled = true;  // To prevent multiple clicks.\n",
              "      quickchartButtonEl.classList.add('colab-df-spinner');\n",
              "      try {\n",
              "        const charts = await google.colab.kernel.invokeFunction(\n",
              "            'suggestCharts', [key], {});\n",
              "      } catch (error) {\n",
              "        console.error('Error during call to suggestCharts:', error);\n",
              "      }\n",
              "      quickchartButtonEl.classList.remove('colab-df-spinner');\n",
              "      quickchartButtonEl.classList.add('colab-df-quickchart-complete');\n",
              "    }\n",
              "    (() => {\n",
              "      let quickchartButtonEl =\n",
              "        document.querySelector('#df-8d6ce675-33f6-4cd6-a563-de2d9b16a2cf button');\n",
              "      quickchartButtonEl.style.display =\n",
              "        google.colab.kernel.accessAllowed ? 'block' : 'none';\n",
              "    })();\n",
              "  </script>\n",
              "</div>\n",
              "\n",
              "    </div>\n",
              "  </div>\n"
            ],
            "application/vnd.google.colaboratory.intrinsic+json": {
              "type": "dataframe",
              "variable_name": "df"
            }
          },
          "metadata": {},
          "execution_count": 44
        }
      ]
    },
    {
      "cell_type": "code",
      "source": [
        "for col in df:\n",
        "  print(df[col].value_counts())\n",
        "  print('______________________________________________')"
      ],
      "metadata": {
        "colab": {
          "base_uri": "https://localhost:8080/"
        },
        "id": "Aj7XGcbqP-1Y",
        "outputId": "780d9934-78b9-4712-bed2-a901c9158927"
      },
      "id": "Aj7XGcbqP-1Y",
      "execution_count": null,
      "outputs": [
        {
          "output_type": "stream",
          "name": "stdout",
          "text": [
            "16    235027\n",
            "29    152185\n",
            "44    138280\n",
            "8     136426\n",
            "18    135409\n",
            "       ...  \n",
            "58         1\n",
            "52         1\n",
            "53         1\n",
            "57         1\n",
            "60         1\n",
            "Name: category, Length: 66, dtype: int64\n",
            "______________________________________________\n",
            "0.0                   956762\n",
            "5.0                    91283\n",
            "4.2                    78994\n",
            "4.4                    78131\n",
            "0.0                    76848\n",
            "                       ...  \n",
            "com.app.aziuyr             1\n",
            "Food & Drink               1\n",
            "Educational                1\n",
            "3.0851603281133477         1\n",
            "Entertainment              1\n",
            "Name: rating, Length: 144, dtype: int64\n",
            "______________________________________________\n",
            "100           404375\n",
            "1000          363918\n",
            "10            268199\n",
            "10000         234181\n",
            "500           172506\n",
            "50            154526\n",
            "5000          131279\n",
            "100000         99007\n",
            "50000          68536\n",
            "5              64776\n",
            "1              56513\n",
            "1000000        29238\n",
            "100            26011\n",
            "500000         23829\n",
            "1000           23760\n",
            "10             19844\n",
            "10000          15589\n",
            "500            11070\n",
            "50             10499\n",
            "0               9544\n",
            "5000            8473\n",
            "100000          7894\n",
            "5000000         5650\n",
            "10000000        5290\n",
            "5               4853\n",
            "50000           4763\n",
            "1               3979\n",
            "1000000         3277\n",
            "500000          2333\n",
            "5000000          716\n",
            "10000000         702\n",
            "50000000         682\n",
            "0                541\n",
            "100000000        434\n",
            "50000000         115\n",
            "100000000         77\n",
            "500000000         54\n",
            "1000000000        50\n",
            "500000000          7\n",
            "1,000+             4\n",
            "1000000000         4\n",
            "10,000+            2\n",
            "500+               2\n",
            "50+                2\n",
            "100+               2\n",
            "39                 1\n",
            "10+                1\n",
            "50,000+            1\n",
            "134                1\n",
            "5,000+             1\n",
            "Name: minimum_installs, dtype: int64\n",
            "______________________________________________\n",
            "3          15048\n",
            "2          14762\n",
            "4          14676\n",
            "6          14322\n",
            "5          14112\n",
            "           ...  \n",
            "63243          1\n",
            "35367          1\n",
            "14202          1\n",
            "31769          1\n",
            "2285138        1\n",
            "Name: maximum_installs, Length: 268542, dtype: int64\n",
            "______________________________________________\n",
            "0.0         2051178\n",
            "0            141822\n",
            "0.99          11014\n",
            "1.99           5371\n",
            "1.49           3656\n",
            "             ...   \n",
            "4.38              1\n",
            "2.363164          1\n",
            "34.25             1\n",
            "6.04              1\n",
            "1.22              1\n",
            "Name: price, Length: 999, dtype: int64\n",
            "______________________________________________\n",
            "USD     2235870\n",
            "XXX        1200\n",
            "0            15\n",
            "EUR           6\n",
            "INR           5\n",
            "GBP           3\n",
            "True          3\n",
            "CAD           2\n",
            "SGD           1\n",
            "VND           1\n",
            "BRL           1\n",
            "TRY           1\n",
            "ZAR           1\n",
            "KRW           1\n",
            "AUD           1\n",
            "Name: currency, dtype: int64\n",
            "______________________________________________\n",
            "11M                   60786\n",
            "12M                   54898\n",
            "Varies with device    51218\n",
            "13M                   46958\n",
            "14M                   44266\n",
            "                      ...  \n",
            "370M                      1\n",
            "305M                      1\n",
            "361M                      1\n",
            "8.7k                      1\n",
            "510M                      1\n",
            "Name: size, Length: 1655, dtype: int64\n",
            "______________________________________________\n",
            "Everyone        1956457\n",
            "Teen             221868\n",
            "Adults            58758\n",
            "Dec 19, 2019          2\n",
            "May 19, 2021          1\n",
            "Feb 25, 2021          1\n",
            "Dec 25, 2020          1\n",
            "Jun 14, 2021          1\n",
            "Sep 16, 2020          1\n",
            "May 22, 2019          1\n",
            "Jul 31, 2017          1\n",
            "Oct 22, 2016          1\n",
            "May 20, 2021          1\n",
            "Jun 24, 2020          1\n",
            "Sep 23, 2019          1\n",
            "Mar 22, 2021          1\n",
            "May 09, 2019          1\n",
            "May 10, 2017          1\n",
            "Dec 20, 2019          1\n",
            "May 16, 2018          1\n",
            "May 09, 2018          1\n",
            "Dec 18, 2019          1\n",
            "May 08, 2019          1\n",
            "Jan 5, 2021           1\n",
            "Sep 26, 2018          1\n",
            "Jun 27, 2017          1\n",
            "Apr 11, 2019          1\n",
            "Jul 15, 2018          1\n",
            "Dec 24, 2019          1\n",
            "Apr 06, 2021          1\n",
            "Name: content_rating, dtype: int64\n",
            "______________________________________________\n",
            "True                                                                                       943526\n",
            "False                                                                                      919836\n",
            "True                                                                                       188866\n",
            "False                                                                                      184852\n",
            "http://itsupirdop.wixsite.com/shkolait/privacy                                                  5\n",
            "http://portskazok.ru/politika-konfidencialnosti.html                                            4\n",
            "Everyone                                                                                        2\n",
            "http://wowkids.io/privacy-policy                                                                1\n",
            "https://www.uniondigital.eu/privacy-policy/                                                     1\n",
            "https://docs.google.com/document/d/1THk42cJbT1OrkiHgJQBTIZaWb11-Yquq6lAXPdiEuNI/preview         1\n",
            "https://hdibharat.com/hdi-bharat-news-app-privacy-policy/                                       1\n",
            "https://www.bilgeyatirimci.com/gizlilik-politikasi/                                             1\n",
            "https://mena.org.ua/privacy-policy/                                                             1\n",
            "Teen                                                                                            1\n",
            "http://www.yaj.co.kr/member/join_form.asp?mflag=1                                               1\n",
            "http://www.valuecard.co.il/privacypolicies/betlehemTLVPrivacyPolicy.pdf                         1\n",
            "https://www.toysrus.co.jp/corporate/CSfPrivacy.jsp                                              1\n",
            "https://меркурий.рус/privacy_policy                                                             1\n",
            "https://sites.google.com/view/10jimt/home                                                       1\n",
            "https://compro.id/privacy-policy                                                                1\n",
            "https://mywardrobe.life/privacy                                                                 1\n",
            "http://cleverbit.net/en/privacy-policy.htm                                                      1\n",
            "http://www.visionreelle.fr/BFP/Privacy_BFP_ENG.html                                             1\n",
            "http://sobkuchmilega.in/privacypolicy/                                                          1\n",
            "http://arboreto.colegio-estudio.es/politica-de-privacidad                                       1\n",
            "http://worldlanguage.mn                                                                         1\n",
            "https://8quiz.online/privacy                                                                    1\n",
            "Name: ad_supported, dtype: int64\n",
            "______________________________________________\n",
            "False                                                      1930990\n",
            "True                                                        175149\n",
            "False                                                       114565\n",
            "True                                                         16401\n",
            "Paid                                                             3\n",
            "http://ksmps.com/cricket/privacy.html                            1\n",
            "https://sites.google.com/view/mrhamadaapps                       1\n",
            "https://a2zpingla.blogspot.com/p/privacy-policy-mr.html          1\n",
            "Name: in_app_purchases, dtype: int64\n",
            "______________________________________________\n",
            "Free    2193003\n",
            "Paid      44108\n",
            "Name: type, dtype: int64\n",
            "______________________________________________\n"
          ]
        }
      ]
    },
    {
      "cell_type": "code",
      "source": [
        "df = df[df['content_rating'].isin(['Everyone', 'Teen', 'Adults only 18+'])]"
      ],
      "metadata": {
        "id": "yynTV-loS2Mj"
      },
      "id": "yynTV-loS2Mj",
      "execution_count": null,
      "outputs": []
    },
    {
      "cell_type": "code",
      "source": [
        "df.ad_supported.unique()"
      ],
      "metadata": {
        "colab": {
          "base_uri": "https://localhost:8080/"
        },
        "id": "VBcYy3RYTbOf",
        "outputId": "241ff11a-bb56-4ecc-f0d4-7c25f0941413"
      },
      "id": "VBcYy3RYTbOf",
      "execution_count": null,
      "outputs": [
        {
          "output_type": "execute_result",
          "data": {
            "text/plain": [
              "array([True, False, 'True', 'False',\n",
              "       'http://arboreto.colegio-estudio.es/politica-de-privacidad',\n",
              "       'http://www.yaj.co.kr/member/join_form.asp?mflag=1',\n",
              "       'https://mena.org.ua/privacy-policy/'], dtype=object)"
            ]
          },
          "metadata": {},
          "execution_count": 55
        }
      ]
    },
    {
      "cell_type": "code",
      "source": [
        "df['ad_supported'] = df['ad_supported'].apply(lambda x: True if x == 'True' else False)"
      ],
      "metadata": {
        "id": "vdXeQBoXUZhy"
      },
      "id": "vdXeQBoXUZhy",
      "execution_count": null,
      "outputs": []
    },
    {
      "cell_type": "code",
      "source": [
        "df['ad_supported'].unique()"
      ],
      "metadata": {
        "colab": {
          "base_uri": "https://localhost:8080/"
        },
        "id": "D9-eFl3UUqIO",
        "outputId": "ffdcbf47-c06b-4ecb-847f-c5c02b601b90"
      },
      "id": "D9-eFl3UUqIO",
      "execution_count": null,
      "outputs": [
        {
          "output_type": "execute_result",
          "data": {
            "text/plain": [
              "array([False,  True])"
            ]
          },
          "metadata": {},
          "execution_count": 57
        }
      ]
    },
    {
      "cell_type": "code",
      "source": [
        "df['in_app_purchases'].unique()"
      ],
      "metadata": {
        "colab": {
          "base_uri": "https://localhost:8080/"
        },
        "id": "ZW9xt9NHU7Ra",
        "outputId": "567b6b32-145b-48d9-ed89-66a21addd19b"
      },
      "id": "ZW9xt9NHU7Ra",
      "execution_count": null,
      "outputs": [
        {
          "output_type": "execute_result",
          "data": {
            "text/plain": [
              "array([False, True, 'False', 'True', 'Paid'], dtype=object)"
            ]
          },
          "metadata": {},
          "execution_count": 61
        }
      ]
    },
    {
      "cell_type": "code",
      "source": [
        "df['in_app_purchases'] = df['in_app_purchases'].apply(lambda x: True if x == 'True' else False)"
      ],
      "metadata": {
        "id": "a7rRxWmBVO5P"
      },
      "id": "a7rRxWmBVO5P",
      "execution_count": null,
      "outputs": []
    },
    {
      "cell_type": "code",
      "source": [
        "df['size'].value_counts()"
      ],
      "metadata": {
        "colab": {
          "base_uri": "https://localhost:8080/"
        },
        "id": "ikIR0ak-WEPk",
        "outputId": "3636ad2a-eeb2-4854-8e3c-fdd642a23524"
      },
      "id": "ikIR0ak-WEPk",
      "execution_count": null,
      "outputs": [
        {
          "output_type": "execute_result",
          "data": {
            "text/plain": [
              "11                    58904\n",
              "12                    53041\n",
              "Varies with device    49896\n",
              "13                    45565\n",
              "14                    42871\n",
              "                      ...  \n",
              "919                       1\n",
              "527                       1\n",
              "301                       1\n",
              "370                       1\n",
              "510                       1\n",
              "Name: size, Length: 1650, dtype: int64"
            ]
          },
          "metadata": {},
          "execution_count": 69
        }
      ]
    },
    {
      "cell_type": "code",
      "source": [
        "df['size'] = df['size'].apply(lambda x: str(x).replace('M', '') if 'M' in str(x) else x)"
      ],
      "metadata": {
        "id": "npTJLEHsVpSl"
      },
      "id": "npTJLEHsVpSl",
      "execution_count": null,
      "outputs": []
    },
    {
      "cell_type": "code",
      "source": [
        "df['size'] = df['size'].apply(lambda x: str(x).replace(',', '.') if ',' in str(x) else x)"
      ],
      "metadata": {
        "id": "726deHRIV3dh"
      },
      "id": "726deHRIV3dh",
      "execution_count": null,
      "outputs": []
    },
    {
      "cell_type": "code",
      "source": [
        "df['size'] = df['size'].apply(lambda x: float(str(x).replace('G', '')) * 1000 if 'G' in str(x) else x)"
      ],
      "metadata": {
        "id": "x56hUoxmWik_"
      },
      "id": "x56hUoxmWik_",
      "execution_count": null,
      "outputs": []
    },
    {
      "cell_type": "code",
      "source": [
        "df['size'] = df['size'].apply(lambda x: float(x) if isinstance(x, str) and x.isdigit() else x)"
      ],
      "metadata": {
        "id": "RqCiQvJ8WlKu"
      },
      "id": "RqCiQvJ8WlKu",
      "execution_count": null,
      "outputs": []
    },
    {
      "cell_type": "code",
      "source": [
        "for col in df:\n",
        "  print(df[col].value_counts())\n",
        "  print('______________________________________________')"
      ],
      "metadata": {
        "colab": {
          "base_uri": "https://localhost:8080/"
        },
        "id": "fnAPgQ5jXhMu",
        "outputId": "c0fc4397-0472-4205-f073-faec5837a2e7"
      },
      "id": "fnAPgQ5jXhMu",
      "execution_count": null,
      "outputs": [
        {
          "output_type": "stream",
          "name": "stdout",
          "text": [
            "16    226114\n",
            "29    142083\n",
            "8     130597\n",
            "44    126344\n",
            "18    123678\n",
            "7     110786\n",
            "25    109792\n",
            "32     80138\n",
            "22     77651\n",
            "34     70229\n",
            "21     66542\n",
            "39     65802\n",
            "45     61835\n",
            "20     58810\n",
            "2      50187\n",
            "35     46535\n",
            "12     45887\n",
            "42     42824\n",
            "14     42102\n",
            "30     38784\n",
            "41     36645\n",
            "33     33799\n",
            "27     28303\n",
            "0      23936\n",
            "26     23593\n",
            "1      21062\n",
            "40     20881\n",
            "17     19654\n",
            "3      17560\n",
            "4      16168\n",
            "23     12961\n",
            "47     12660\n",
            "19     11779\n",
            "5      11110\n",
            "46     10994\n",
            "6       9651\n",
            "37      9592\n",
            "38      8322\n",
            "49      7916\n",
            "43      7546\n",
            "10      7047\n",
            "48      6158\n",
            "11      4602\n",
            "24      4261\n",
            "28      3847\n",
            "31      3464\n",
            "13      2348\n",
            "15       917\n",
            "Name: category, dtype: int64\n",
            "______________________________________________\n",
            "0.0                   910225\n",
            "5.0                    87190\n",
            "0.0                    72754\n",
            "4.2                    72500\n",
            "4.4                    72088\n",
            "                       ...  \n",
            "3.0851603281133477         1\n",
            "2.526178458379674          1\n",
            "2.81499100364242           1\n",
            "1.9211517115171175         1\n",
            "2.90207624633431           1\n",
            "Name: rating, Length: 129, dtype: int64\n",
            "______________________________________________\n",
            "100           407795\n",
            "1000          362614\n",
            "10            275425\n",
            "10000         229146\n",
            "500           173169\n",
            "50            157089\n",
            "5000          129419\n",
            "100000         95827\n",
            "5              66807\n",
            "50000          66311\n",
            "1              57974\n",
            "1000000        28008\n",
            "500000         23039\n",
            "0               9691\n",
            "5000000         5311\n",
            "10000000        4897\n",
            "50000000         585\n",
            "100000000        345\n",
            "500000000         30\n",
            "1000000000        14\n",
            "Name: minimum_installs, dtype: int64\n",
            "______________________________________________\n",
            "3           15016\n",
            "2           14760\n",
            "4           14637\n",
            "6           14350\n",
            "5           14128\n",
            "            ...  \n",
            "1166878         1\n",
            "16437497        1\n",
            "22817766        1\n",
            "133980          1\n",
            "2285138         1\n",
            "Name: maximum_installs, Length: 226546, dtype: int64\n",
            "______________________________________________\n",
            "0.0         2055919\n",
            "0.99           9206\n",
            "1.99           4655\n",
            "1.49           3135\n",
            "2.99           3123\n",
            "             ...   \n",
            "2.060194          1\n",
            "2.34              1\n",
            "0.831419          1\n",
            "1.52              1\n",
            "1.3               1\n",
            "Name: price, Length: 887, dtype: int64\n",
            "______________________________________________\n",
            "USD    2092314\n",
            "XXX       1161\n",
            "EUR          5\n",
            "INR          5\n",
            "GBP          3\n",
            "CAD          2\n",
            "SGD          1\n",
            "VND          1\n",
            "BRL          1\n",
            "ZAR          1\n",
            "KRW          1\n",
            "AUD          1\n",
            "Name: currency, dtype: int64\n",
            "______________________________________________\n",
            "11.0     58904\n",
            "12.0     53041\n",
            "13.0     45565\n",
            "14.0     42871\n",
            "16.0     40618\n",
            "         ...  \n",
            "414.0        1\n",
            "919.0        1\n",
            "527.0        1\n",
            "301.0        1\n",
            "510.0        1\n",
            "Name: size, Length: 595, dtype: int64\n",
            "______________________________________________\n",
            "Everyone    1880009\n",
            "Teen         213487\n",
            "Name: content_rating, dtype: int64\n",
            "______________________________________________\n",
            "False    1918172\n",
            "True      175324\n",
            "Name: ad_supported, dtype: int64\n",
            "______________________________________________\n",
            "False    2078960\n",
            "True       14536\n",
            "Name: in_app_purchases, dtype: int64\n",
            "______________________________________________\n",
            "Free    2055919\n",
            "Paid      37577\n",
            "Name: type, dtype: int64\n",
            "______________________________________________\n"
          ]
        }
      ]
    },
    {
      "cell_type": "code",
      "source": [
        "df = df[df['currency'] != '0']"
      ],
      "metadata": {
        "id": "ryMnaM8kXqa7"
      },
      "id": "ryMnaM8kXqa7",
      "execution_count": null,
      "outputs": []
    },
    {
      "cell_type": "code",
      "source": [
        "df = df.drop(df[df['size'] == 'Varies with device'].index)"
      ],
      "metadata": {
        "id": "tS2TaJeeX2ar"
      },
      "id": "tS2TaJeeX2ar",
      "execution_count": null,
      "outputs": []
    },
    {
      "cell_type": "code",
      "source": [
        "df = df.drop(df[df['minimum_installs'] == '50+ '].index)\n",
        "df = df.drop(df[df['minimum_installs'] == '1,000+ '].index)\n",
        "df = df.drop(df[df['minimum_installs'] == '100+' ].index)"
      ],
      "metadata": {
        "id": "-rORO0nyYRVL"
      },
      "id": "-rORO0nyYRVL",
      "execution_count": null,
      "outputs": []
    },
    {
      "cell_type": "code",
      "source": [
        "df['minimum_installs'] = df['minimum_installs'].apply(lambda x: int(x.replace(',', '')) if isinstance(x, str) and x.isdigit() else x)"
      ],
      "metadata": {
        "id": "IkSccMXBZW7Z"
      },
      "id": "IkSccMXBZW7Z",
      "execution_count": null,
      "outputs": []
    },
    {
      "cell_type": "code",
      "source": [
        "df['rating'] = df['rating'].apply(lambda x: float(x) if isinstance(x, str) and x.isdigit() else x)\n",
        "df['minimum_installs'] = df['minimum_installs'].apply(lambda x: int(x) if isinstance(x, str) and x.isdigit() else x)\n",
        "df['maximum_installs'] = df['maximum_installs'].apply(lambda x: int(x.replace(',', '')) if isinstance(x, str) and x.isdigit() else x)\n",
        "df['price'] = df['price'].apply(lambda x: float(x.replace('$', '')) if isinstance(x, str) and x.isdigit() else x)\n",
        "df['size'] = df['size'].apply(lambda x: float(x) if isinstance(x, str) and x.isdigit() else x)"
      ],
      "metadata": {
        "id": "7ggwINj8bWlb"
      },
      "id": "7ggwINj8bWlb",
      "execution_count": null,
      "outputs": []
    },
    {
      "cell_type": "code",
      "source": [
        "df = df.round(3)"
      ],
      "metadata": {
        "id": "Z3PjiFaVcZ9B"
      },
      "id": "Z3PjiFaVcZ9B",
      "execution_count": null,
      "outputs": []
    },
    {
      "cell_type": "code",
      "source": [
        "df['size'] = pd.to_numeric(df['size'], errors='coerce')\n",
        "df = df.dropna(subset=['size'])"
      ],
      "metadata": {
        "id": "HjG3FDjecsVv"
      },
      "id": "HjG3FDjecsVv",
      "execution_count": null,
      "outputs": []
    },
    {
      "cell_type": "code",
      "source": [
        "df['minimum_installs'] = pd.to_numeric(df['minimum_installs'], errors='coerce')\n",
        "df = df.dropna(subset=['minimum_installs'])\n",
        "df['maximum_installs'] = pd.to_numeric(df['maximum_installs'], errors='coerce')\n",
        "df = df.dropna(subset=['maximum_installs'])\n",
        "df['price'] = pd.to_numeric(df['price'], errors='coerce')\n",
        "df = df.dropna(subset=['price'])\n",
        "df['rating'] = pd.to_numeric(df['rating'], errors='coerce')\n",
        "df = df.dropna(subset=['rating'])\n",
        "df.info()"
      ],
      "metadata": {
        "colab": {
          "base_uri": "https://localhost:8080/"
        },
        "id": "MhcxJ4U_dO0o",
        "outputId": "b524fe77-b34d-475e-87b9-9394e5f17f9e"
      },
      "id": "MhcxJ4U_dO0o",
      "execution_count": null,
      "outputs": [
        {
          "output_type": "stream",
          "name": "stdout",
          "text": [
            "<class 'pandas.core.frame.DataFrame'>\n",
            "Int64Index: 2093496 entries, 0 to 2241801\n",
            "Data columns (total 11 columns):\n",
            " #   Column            Dtype  \n",
            "---  ------            -----  \n",
            " 0   category          int64  \n",
            " 1   rating            float64\n",
            " 2   minimum_installs  int64  \n",
            " 3   maximum_installs  int64  \n",
            " 4   price             float64\n",
            " 5   currency          object \n",
            " 6   size              float64\n",
            " 7   content_rating    object \n",
            " 8   ad_supported      bool   \n",
            " 9   in_app_purchases  bool   \n",
            " 10  type              object \n",
            "dtypes: bool(2), float64(3), int64(3), object(3)\n",
            "memory usage: 163.7+ MB\n"
          ]
        }
      ]
    },
    {
      "cell_type": "code",
      "execution_count": null,
      "id": "29f3d841",
      "metadata": {
        "id": "29f3d841"
      },
      "outputs": [],
      "source": [
        "from sklearn.preprocessing import LabelEncoder\n",
        "le = LabelEncoder()"
      ]
    },
    {
      "cell_type": "code",
      "execution_count": null,
      "id": "d9332105",
      "metadata": {
        "id": "d9332105"
      },
      "outputs": [],
      "source": [
        "for column in df.select_dtypes(include=['object']).columns:\n",
        "    df[column] = le.fit_transform(df[column])"
      ]
    },
    {
      "cell_type": "code",
      "source": [
        "df.info()"
      ],
      "metadata": {
        "id": "5eU0x7GIPIxq",
        "colab": {
          "base_uri": "https://localhost:8080/"
        },
        "outputId": "91f5c155-fa82-4f03-b479-293a77dfe6a0"
      },
      "id": "5eU0x7GIPIxq",
      "execution_count": null,
      "outputs": [
        {
          "output_type": "stream",
          "name": "stdout",
          "text": [
            "<class 'pandas.core.frame.DataFrame'>\n",
            "Int64Index: 2093496 entries, 0 to 2241801\n",
            "Data columns (total 11 columns):\n",
            " #   Column            Dtype  \n",
            "---  ------            -----  \n",
            " 0   category          int64  \n",
            " 1   rating            float64\n",
            " 2   minimum_installs  int64  \n",
            " 3   maximum_installs  int64  \n",
            " 4   price             float64\n",
            " 5   currency          int64  \n",
            " 6   size              float64\n",
            " 7   content_rating    int64  \n",
            " 8   ad_supported      bool   \n",
            " 9   in_app_purchases  bool   \n",
            " 10  type              int64  \n",
            "dtypes: bool(2), float64(3), int64(6)\n",
            "memory usage: 163.7 MB\n"
          ]
        }
      ]
    },
    {
      "cell_type": "code",
      "source": [
        "df.columns"
      ],
      "metadata": {
        "id": "uDUoh5cMPHiR",
        "colab": {
          "base_uri": "https://localhost:8080/"
        },
        "outputId": "e0d7278d-228f-48cd-a935-c26630dc91a1"
      },
      "id": "uDUoh5cMPHiR",
      "execution_count": null,
      "outputs": [
        {
          "output_type": "execute_result",
          "data": {
            "text/plain": [
              "Index(['category', 'rating', 'minimum_installs', 'maximum_installs', 'price',\n",
              "       'currency', 'size', 'content_rating', 'ad_supported',\n",
              "       'in_app_purchases', 'type'],\n",
              "      dtype='object')"
            ]
          },
          "metadata": {},
          "execution_count": 108
        }
      ]
    },
    {
      "cell_type": "code",
      "source": [
        "x = ['category', 'minimum_installs', 'maximum_installs', 'price', 'currency', 'size', 'content_rating', 'ad_supported','in_app_purchases', 'type']\n",
        "y = ['rating']"
      ],
      "metadata": {
        "id": "whrE4PFidzcg"
      },
      "id": "whrE4PFidzcg",
      "execution_count": null,
      "outputs": []
    },
    {
      "cell_type": "code",
      "source": [
        "df[x].shape"
      ],
      "metadata": {
        "colab": {
          "base_uri": "https://localhost:8080/"
        },
        "id": "lyTs3tuseYuX",
        "outputId": "4f1676f2-e697-4220-87b2-605adcc815e3"
      },
      "id": "lyTs3tuseYuX",
      "execution_count": null,
      "outputs": [
        {
          "output_type": "execute_result",
          "data": {
            "text/plain": [
              "(2093496, 10)"
            ]
          },
          "metadata": {},
          "execution_count": 114
        }
      ]
    },
    {
      "cell_type": "code",
      "source": [
        "df[y].shape"
      ],
      "metadata": {
        "colab": {
          "base_uri": "https://localhost:8080/"
        },
        "id": "hhEsV3kjee4r",
        "outputId": "bddb4c17-4b45-4265-85f1-52e0a3fff857"
      },
      "id": "hhEsV3kjee4r",
      "execution_count": null,
      "outputs": [
        {
          "output_type": "execute_result",
          "data": {
            "text/plain": [
              "(2093496, 1)"
            ]
          },
          "metadata": {},
          "execution_count": 115
        }
      ]
    },
    {
      "cell_type": "code",
      "execution_count": null,
      "id": "a0496dea",
      "metadata": {
        "id": "a0496dea"
      },
      "outputs": [],
      "source": [
        "from sklearn.model_selection import train_test_split"
      ]
    },
    {
      "cell_type": "code",
      "execution_count": null,
      "id": "c5d47369",
      "metadata": {
        "id": "c5d47369"
      },
      "outputs": [],
      "source": [
        "x_train, x_test, y_train, y_test = train_test_split(df[x], df[y], test_size = 0.3 , random_state= 42)"
      ]
    },
    {
      "cell_type": "code",
      "execution_count": null,
      "id": "b823e766",
      "metadata": {
        "id": "b823e766"
      },
      "outputs": [],
      "source": [
        "from sklearn.linear_model import LinearRegression\n",
        "lr = LinearRegression()\n",
        "lr.fit(x_train, y_train)\n",
        "y_pred = lr.predict(x_test)"
      ]
    },
    {
      "cell_type": "code",
      "source": [
        "from sklearn.metrics import mean_squared_error, r2_score\n",
        "print('Mean squared error:', mean_squared_error(y_test, y_pred))\n",
        "print('R2 score:', r2_score(y_test, y_pred))"
      ],
      "metadata": {
        "colab": {
          "base_uri": "https://localhost:8080/"
        },
        "id": "yDKD-mNEfE82",
        "outputId": "963c75c6-fa3a-4dfb-f51a-186172417516"
      },
      "id": "yDKD-mNEfE82",
      "execution_count": null,
      "outputs": [
        {
          "output_type": "stream",
          "name": "stdout",
          "text": [
            "Mean squared error: 4.422251144534279\n",
            "R2 score: 0.009438927473036984\n"
          ]
        }
      ]
    },
    {
      "cell_type": "code",
      "source": [
        "from sklearn.ensemble import RandomForestRegressor\n",
        "rf = RandomForestRegressor(n_estimators=100, random_state=42)\n",
        "rf.fit(x_train, y_train)\n",
        "y_pred = rf.predict(x_test)\n"
      ],
      "metadata": {
        "colab": {
          "base_uri": "https://localhost:8080/"
        },
        "id": "Q-xAu_GbfO7E",
        "outputId": "082e20d9-72db-48cc-ec28-aee5cecf7b43"
      },
      "id": "Q-xAu_GbfO7E",
      "execution_count": null,
      "outputs": [
        {
          "output_type": "stream",
          "name": "stderr",
          "text": [
            "<ipython-input-120-fba3cab5391d>:3: DataConversionWarning: A column-vector y was passed when a 1d array was expected. Please change the shape of y to (n_samples,), for example using ravel().\n",
            "  rf.fit(x_train, y_train)\n"
          ]
        }
      ]
    },
    {
      "cell_type": "code",
      "source": [
        "print('Mean squared error:', mean_squared_error(y_test, y_pred))\n",
        "print('R2 score:', r2_score(y_test, y_pred))\n"
      ],
      "metadata": {
        "colab": {
          "base_uri": "https://localhost:8080/"
        },
        "id": "JzSPrbNqkdBy",
        "outputId": "21fc1a4b-dbc9-47e5-e84a-e2945a7fc4bf"
      },
      "id": "JzSPrbNqkdBy",
      "execution_count": null,
      "outputs": [
        {
          "output_type": "stream",
          "name": "stdout",
          "text": [
            "Mean squared error: 2.63462105514314\n",
            "R2 score: 0.4098586957662377\n"
          ]
        }
      ]
    },
    {
      "cell_type": "code",
      "source": [
        "from xgboost import XGBRegressor\n",
        "\n",
        "xgboost = XGBRegressor()\n",
        "xgboost.fit(x_train, y_train)\n",
        "y_pred_xg = xgboost.predict(x_test)"
      ],
      "metadata": {
        "id": "UFz_NMmCIhV0"
      },
      "id": "UFz_NMmCIhV0",
      "execution_count": null,
      "outputs": []
    },
    {
      "cell_type": "code",
      "source": [
        "print('Mean squared error:', mean_squared_error(y_test, y_pred_xg))\n",
        "print('R2 score:', r2_score(y_test, y_pred_xg))"
      ],
      "metadata": {
        "colab": {
          "base_uri": "https://localhost:8080/"
        },
        "id": "m1RuAGpthTm4",
        "outputId": "643c4523-2d08-4481-c229-45f4fde0f368"
      },
      "id": "m1RuAGpthTm4",
      "execution_count": null,
      "outputs": [
        {
          "output_type": "stream",
          "name": "stdout",
          "text": [
            "Mean squared error: 2.1676707267003357\n",
            "R2 score: 0.514453121329518\n"
          ]
        }
      ]
    },
    {
      "cell_type": "code",
      "source": [
        "from sklearn.svm import SVC\n",
        "svm = SVC()\n",
        "svm.fit(x_train, y_train)\n",
        "y_pred_svm = svm.predict(x_test)"
      ],
      "metadata": {
        "colab": {
          "base_uri": "https://localhost:8080/",
          "height": 393
        },
        "id": "t_GznHwo1HLz",
        "outputId": "1d4eed65-fdeb-4d64-cefa-afc4d51003be"
      },
      "id": "t_GznHwo1HLz",
      "execution_count": null,
      "outputs": [
        {
          "output_type": "stream",
          "name": "stderr",
          "text": [
            "/usr/local/lib/python3.10/dist-packages/sklearn/utils/validation.py:1143: DataConversionWarning: A column-vector y was passed when a 1d array was expected. Please change the shape of y to (n_samples, ), for example using ravel().\n",
            "  y = column_or_1d(y, warn=True)\n"
          ]
        },
        {
          "output_type": "error",
          "ename": "ValueError",
          "evalue": "Unknown label type: 'continuous'",
          "traceback": [
            "\u001b[0;31m---------------------------------------------------------------------------\u001b[0m",
            "\u001b[0;31mValueError\u001b[0m                                Traceback (most recent call last)",
            "\u001b[0;32m<ipython-input-129-9082c900a804>\u001b[0m in \u001b[0;36m<cell line: 3>\u001b[0;34m()\u001b[0m\n\u001b[1;32m      1\u001b[0m \u001b[0;32mfrom\u001b[0m \u001b[0msklearn\u001b[0m\u001b[0;34m.\u001b[0m\u001b[0msvm\u001b[0m \u001b[0;32mimport\u001b[0m \u001b[0mSVC\u001b[0m\u001b[0;34m\u001b[0m\u001b[0;34m\u001b[0m\u001b[0m\n\u001b[1;32m      2\u001b[0m \u001b[0msvm\u001b[0m \u001b[0;34m=\u001b[0m \u001b[0mSVC\u001b[0m\u001b[0;34m(\u001b[0m\u001b[0;34m)\u001b[0m\u001b[0;34m\u001b[0m\u001b[0;34m\u001b[0m\u001b[0m\n\u001b[0;32m----> 3\u001b[0;31m \u001b[0msvm\u001b[0m\u001b[0;34m.\u001b[0m\u001b[0mfit\u001b[0m\u001b[0;34m(\u001b[0m\u001b[0mx_train\u001b[0m\u001b[0;34m,\u001b[0m \u001b[0my_train\u001b[0m\u001b[0;34m)\u001b[0m\u001b[0;34m\u001b[0m\u001b[0;34m\u001b[0m\u001b[0m\n\u001b[0m\u001b[1;32m      4\u001b[0m \u001b[0my_pred_svm\u001b[0m \u001b[0;34m=\u001b[0m \u001b[0msvm\u001b[0m\u001b[0;34m.\u001b[0m\u001b[0mpredict\u001b[0m\u001b[0;34m(\u001b[0m\u001b[0mx_test\u001b[0m\u001b[0;34m)\u001b[0m\u001b[0;34m\u001b[0m\u001b[0;34m\u001b[0m\u001b[0m\n",
            "\u001b[0;32m/usr/local/lib/python3.10/dist-packages/sklearn/svm/_base.py\u001b[0m in \u001b[0;36mfit\u001b[0;34m(self, X, y, sample_weight)\u001b[0m\n\u001b[1;32m    199\u001b[0m             )\n\u001b[1;32m    200\u001b[0m \u001b[0;34m\u001b[0m\u001b[0m\n\u001b[0;32m--> 201\u001b[0;31m         \u001b[0my\u001b[0m \u001b[0;34m=\u001b[0m \u001b[0mself\u001b[0m\u001b[0;34m.\u001b[0m\u001b[0m_validate_targets\u001b[0m\u001b[0;34m(\u001b[0m\u001b[0my\u001b[0m\u001b[0;34m)\u001b[0m\u001b[0;34m\u001b[0m\u001b[0;34m\u001b[0m\u001b[0m\n\u001b[0m\u001b[1;32m    202\u001b[0m \u001b[0;34m\u001b[0m\u001b[0m\n\u001b[1;32m    203\u001b[0m         sample_weight = np.asarray(\n",
            "\u001b[0;32m/usr/local/lib/python3.10/dist-packages/sklearn/svm/_base.py\u001b[0m in \u001b[0;36m_validate_targets\u001b[0;34m(self, y)\u001b[0m\n\u001b[1;32m    743\u001b[0m     \u001b[0;32mdef\u001b[0m \u001b[0m_validate_targets\u001b[0m\u001b[0;34m(\u001b[0m\u001b[0mself\u001b[0m\u001b[0;34m,\u001b[0m \u001b[0my\u001b[0m\u001b[0;34m)\u001b[0m\u001b[0;34m:\u001b[0m\u001b[0;34m\u001b[0m\u001b[0;34m\u001b[0m\u001b[0m\n\u001b[1;32m    744\u001b[0m         \u001b[0my_\u001b[0m \u001b[0;34m=\u001b[0m \u001b[0mcolumn_or_1d\u001b[0m\u001b[0;34m(\u001b[0m\u001b[0my\u001b[0m\u001b[0;34m,\u001b[0m \u001b[0mwarn\u001b[0m\u001b[0;34m=\u001b[0m\u001b[0;32mTrue\u001b[0m\u001b[0;34m)\u001b[0m\u001b[0;34m\u001b[0m\u001b[0;34m\u001b[0m\u001b[0m\n\u001b[0;32m--> 745\u001b[0;31m         \u001b[0mcheck_classification_targets\u001b[0m\u001b[0;34m(\u001b[0m\u001b[0my\u001b[0m\u001b[0;34m)\u001b[0m\u001b[0;34m\u001b[0m\u001b[0;34m\u001b[0m\u001b[0m\n\u001b[0m\u001b[1;32m    746\u001b[0m         \u001b[0mcls\u001b[0m\u001b[0;34m,\u001b[0m \u001b[0my\u001b[0m \u001b[0;34m=\u001b[0m \u001b[0mnp\u001b[0m\u001b[0;34m.\u001b[0m\u001b[0munique\u001b[0m\u001b[0;34m(\u001b[0m\u001b[0my_\u001b[0m\u001b[0;34m,\u001b[0m \u001b[0mreturn_inverse\u001b[0m\u001b[0;34m=\u001b[0m\u001b[0;32mTrue\u001b[0m\u001b[0;34m)\u001b[0m\u001b[0;34m\u001b[0m\u001b[0;34m\u001b[0m\u001b[0m\n\u001b[1;32m    747\u001b[0m         \u001b[0mself\u001b[0m\u001b[0;34m.\u001b[0m\u001b[0mclass_weight_\u001b[0m \u001b[0;34m=\u001b[0m \u001b[0mcompute_class_weight\u001b[0m\u001b[0;34m(\u001b[0m\u001b[0mself\u001b[0m\u001b[0;34m.\u001b[0m\u001b[0mclass_weight\u001b[0m\u001b[0;34m,\u001b[0m \u001b[0mclasses\u001b[0m\u001b[0;34m=\u001b[0m\u001b[0mcls\u001b[0m\u001b[0;34m,\u001b[0m \u001b[0my\u001b[0m\u001b[0;34m=\u001b[0m\u001b[0my_\u001b[0m\u001b[0;34m)\u001b[0m\u001b[0;34m\u001b[0m\u001b[0;34m\u001b[0m\u001b[0m\n",
            "\u001b[0;32m/usr/local/lib/python3.10/dist-packages/sklearn/utils/multiclass.py\u001b[0m in \u001b[0;36mcheck_classification_targets\u001b[0;34m(y)\u001b[0m\n\u001b[1;32m    216\u001b[0m         \u001b[0;34m\"multilabel-sequences\"\u001b[0m\u001b[0;34m,\u001b[0m\u001b[0;34m\u001b[0m\u001b[0;34m\u001b[0m\u001b[0m\n\u001b[1;32m    217\u001b[0m     ]:\n\u001b[0;32m--> 218\u001b[0;31m         \u001b[0;32mraise\u001b[0m \u001b[0mValueError\u001b[0m\u001b[0;34m(\u001b[0m\u001b[0;34m\"Unknown label type: %r\"\u001b[0m \u001b[0;34m%\u001b[0m \u001b[0my_type\u001b[0m\u001b[0;34m)\u001b[0m\u001b[0;34m\u001b[0m\u001b[0;34m\u001b[0m\u001b[0m\n\u001b[0m\u001b[1;32m    219\u001b[0m \u001b[0;34m\u001b[0m\u001b[0m\n\u001b[1;32m    220\u001b[0m \u001b[0;34m\u001b[0m\u001b[0m\n",
            "\u001b[0;31mValueError\u001b[0m: Unknown label type: 'continuous'"
          ]
        }
      ]
    },
    {
      "cell_type": "code",
      "source": [
        "print('Mean squared error:', mean_squared_error(y_test, y_pred_svm))\n",
        "print('R2 score:', r2_score(y_test, y_pred_svm))"
      ],
      "metadata": {
        "colab": {
          "base_uri": "https://localhost:8080/",
          "height": 158
        },
        "id": "wNdY2Ey71M9f",
        "outputId": "86d68108-e9fc-4b5d-8d94-2592174f5689"
      },
      "id": "wNdY2Ey71M9f",
      "execution_count": null,
      "outputs": [
        {
          "output_type": "error",
          "ename": "NameError",
          "evalue": "name 'y_pred_svm' is not defined",
          "traceback": [
            "\u001b[0;31m---------------------------------------------------------------------------\u001b[0m",
            "\u001b[0;31mNameError\u001b[0m                                 Traceback (most recent call last)",
            "\u001b[0;32m<ipython-input-128-b4ad2f1103dd>\u001b[0m in \u001b[0;36m<cell line: 1>\u001b[0;34m()\u001b[0m\n\u001b[0;32m----> 1\u001b[0;31m \u001b[0mprint\u001b[0m\u001b[0;34m(\u001b[0m\u001b[0;34m'Mean squared error:'\u001b[0m\u001b[0;34m,\u001b[0m \u001b[0mmean_squared_error\u001b[0m\u001b[0;34m(\u001b[0m\u001b[0my_test\u001b[0m\u001b[0;34m,\u001b[0m \u001b[0my_pred_svm\u001b[0m\u001b[0;34m)\u001b[0m\u001b[0;34m)\u001b[0m\u001b[0;34m\u001b[0m\u001b[0;34m\u001b[0m\u001b[0m\n\u001b[0m\u001b[1;32m      2\u001b[0m \u001b[0mprint\u001b[0m\u001b[0;34m(\u001b[0m\u001b[0;34m'R2 score:'\u001b[0m\u001b[0;34m,\u001b[0m \u001b[0mr2_score\u001b[0m\u001b[0;34m(\u001b[0m\u001b[0my_test\u001b[0m\u001b[0;34m,\u001b[0m \u001b[0my_pred_svm\u001b[0m\u001b[0;34m)\u001b[0m\u001b[0;34m)\u001b[0m\u001b[0;34m\u001b[0m\u001b[0;34m\u001b[0m\u001b[0m\n",
            "\u001b[0;31mNameError\u001b[0m: name 'y_pred_svm' is not defined"
          ]
        }
      ]
    },
    {
      "cell_type": "code",
      "source": [
        "from tensorflow.keras.models import Sequential\n",
        "from tensorflow.keras.layers import Dense\n",
        "\n",
        "model = Sequential()\n",
        "model.add(Dense(128, activation='relu', input_shape=(10,)))\n",
        "model.add(Dense(64, activation='relu'))\n",
        "model.add(Dense(1, activation='linear'))\n",
        "\n",
        "model.compile(loss='mean_squared_error', optimizer='adam')\n",
        "\n",
        "history = model.fit(x_train, y_train, epochs=100, batch_size=32, validation_data=(x_test, y_test))\n",
        "\n",
        "loss, accuracy = model.evaluate(x_test, y_test)\n",
        "print('Test loss:', loss)\n",
        "print('Test accuracy:', accuracy)"
      ],
      "metadata": {
        "colab": {
          "base_uri": "https://localhost:8080/",
          "height": 373
        },
        "id": "xJRKGqL9hu8V",
        "outputId": "0af44181-6056-493b-bdfe-2a448816fd7a"
      },
      "id": "xJRKGqL9hu8V",
      "execution_count": null,
      "outputs": [
        {
          "output_type": "error",
          "ename": "ValueError",
          "evalue": "Failed to convert a NumPy array to a Tensor (Unsupported object type int).",
          "traceback": [
            "\u001b[0;31m---------------------------------------------------------------------------\u001b[0m",
            "\u001b[0;31mValueError\u001b[0m                                Traceback (most recent call last)",
            "\u001b[0;32m<ipython-input-127-4adbb5ce08e2>\u001b[0m in \u001b[0;36m<cell line: 11>\u001b[0;34m()\u001b[0m\n\u001b[1;32m      9\u001b[0m \u001b[0mmodel\u001b[0m\u001b[0;34m.\u001b[0m\u001b[0mcompile\u001b[0m\u001b[0;34m(\u001b[0m\u001b[0mloss\u001b[0m\u001b[0;34m=\u001b[0m\u001b[0;34m'mean_squared_error'\u001b[0m\u001b[0;34m,\u001b[0m \u001b[0moptimizer\u001b[0m\u001b[0;34m=\u001b[0m\u001b[0;34m'adam'\u001b[0m\u001b[0;34m)\u001b[0m\u001b[0;34m\u001b[0m\u001b[0;34m\u001b[0m\u001b[0m\n\u001b[1;32m     10\u001b[0m \u001b[0;34m\u001b[0m\u001b[0m\n\u001b[0;32m---> 11\u001b[0;31m \u001b[0mhistory\u001b[0m \u001b[0;34m=\u001b[0m \u001b[0mmodel\u001b[0m\u001b[0;34m.\u001b[0m\u001b[0mfit\u001b[0m\u001b[0;34m(\u001b[0m\u001b[0mx_train\u001b[0m\u001b[0;34m,\u001b[0m \u001b[0my_train\u001b[0m\u001b[0;34m,\u001b[0m \u001b[0mepochs\u001b[0m\u001b[0;34m=\u001b[0m\u001b[0;36m100\u001b[0m\u001b[0;34m,\u001b[0m \u001b[0mbatch_size\u001b[0m\u001b[0;34m=\u001b[0m\u001b[0;36m32\u001b[0m\u001b[0;34m,\u001b[0m \u001b[0mvalidation_data\u001b[0m\u001b[0;34m=\u001b[0m\u001b[0;34m(\u001b[0m\u001b[0mx_test\u001b[0m\u001b[0;34m,\u001b[0m \u001b[0my_test\u001b[0m\u001b[0;34m)\u001b[0m\u001b[0;34m)\u001b[0m\u001b[0;34m\u001b[0m\u001b[0;34m\u001b[0m\u001b[0m\n\u001b[0m\u001b[1;32m     12\u001b[0m \u001b[0;34m\u001b[0m\u001b[0m\n\u001b[1;32m     13\u001b[0m \u001b[0mloss\u001b[0m\u001b[0;34m,\u001b[0m \u001b[0maccuracy\u001b[0m \u001b[0;34m=\u001b[0m \u001b[0mmodel\u001b[0m\u001b[0;34m.\u001b[0m\u001b[0mevaluate\u001b[0m\u001b[0;34m(\u001b[0m\u001b[0mx_test\u001b[0m\u001b[0;34m,\u001b[0m \u001b[0my_test\u001b[0m\u001b[0;34m)\u001b[0m\u001b[0;34m\u001b[0m\u001b[0;34m\u001b[0m\u001b[0m\n",
            "\u001b[0;32m/usr/local/lib/python3.10/dist-packages/keras/src/utils/traceback_utils.py\u001b[0m in \u001b[0;36merror_handler\u001b[0;34m(*args, **kwargs)\u001b[0m\n\u001b[1;32m     68\u001b[0m             \u001b[0;31m# To get the full stack trace, call:\u001b[0m\u001b[0;34m\u001b[0m\u001b[0;34m\u001b[0m\u001b[0m\n\u001b[1;32m     69\u001b[0m             \u001b[0;31m# `tf.debugging.disable_traceback_filtering()`\u001b[0m\u001b[0;34m\u001b[0m\u001b[0;34m\u001b[0m\u001b[0m\n\u001b[0;32m---> 70\u001b[0;31m             \u001b[0;32mraise\u001b[0m \u001b[0me\u001b[0m\u001b[0;34m.\u001b[0m\u001b[0mwith_traceback\u001b[0m\u001b[0;34m(\u001b[0m\u001b[0mfiltered_tb\u001b[0m\u001b[0;34m)\u001b[0m \u001b[0;32mfrom\u001b[0m \u001b[0;32mNone\u001b[0m\u001b[0;34m\u001b[0m\u001b[0;34m\u001b[0m\u001b[0m\n\u001b[0m\u001b[1;32m     71\u001b[0m         \u001b[0;32mfinally\u001b[0m\u001b[0;34m:\u001b[0m\u001b[0;34m\u001b[0m\u001b[0;34m\u001b[0m\u001b[0m\n\u001b[1;32m     72\u001b[0m             \u001b[0;32mdel\u001b[0m \u001b[0mfiltered_tb\u001b[0m\u001b[0;34m\u001b[0m\u001b[0;34m\u001b[0m\u001b[0m\n",
            "\u001b[0;32m/usr/local/lib/python3.10/dist-packages/tensorflow/python/framework/constant_op.py\u001b[0m in \u001b[0;36mconvert_to_eager_tensor\u001b[0;34m(value, ctx, dtype)\u001b[0m\n\u001b[1;32m    101\u001b[0m       \u001b[0mdtype\u001b[0m \u001b[0;34m=\u001b[0m \u001b[0mdtypes\u001b[0m\u001b[0;34m.\u001b[0m\u001b[0mas_dtype\u001b[0m\u001b[0;34m(\u001b[0m\u001b[0mdtype\u001b[0m\u001b[0;34m)\u001b[0m\u001b[0;34m.\u001b[0m\u001b[0mas_datatype_enum\u001b[0m\u001b[0;34m\u001b[0m\u001b[0;34m\u001b[0m\u001b[0m\n\u001b[1;32m    102\u001b[0m   \u001b[0mctx\u001b[0m\u001b[0;34m.\u001b[0m\u001b[0mensure_initialized\u001b[0m\u001b[0;34m(\u001b[0m\u001b[0;34m)\u001b[0m\u001b[0;34m\u001b[0m\u001b[0;34m\u001b[0m\u001b[0m\n\u001b[0;32m--> 103\u001b[0;31m   \u001b[0;32mreturn\u001b[0m \u001b[0mops\u001b[0m\u001b[0;34m.\u001b[0m\u001b[0mEagerTensor\u001b[0m\u001b[0;34m(\u001b[0m\u001b[0mvalue\u001b[0m\u001b[0;34m,\u001b[0m \u001b[0mctx\u001b[0m\u001b[0;34m.\u001b[0m\u001b[0mdevice_name\u001b[0m\u001b[0;34m,\u001b[0m \u001b[0mdtype\u001b[0m\u001b[0;34m)\u001b[0m\u001b[0;34m\u001b[0m\u001b[0;34m\u001b[0m\u001b[0m\n\u001b[0m\u001b[1;32m    104\u001b[0m \u001b[0;34m\u001b[0m\u001b[0m\n\u001b[1;32m    105\u001b[0m \u001b[0;34m\u001b[0m\u001b[0m\n",
            "\u001b[0;31mValueError\u001b[0m: Failed to convert a NumPy array to a Tensor (Unsupported object type int)."
          ]
        }
      ]
    },
    {
      "cell_type": "code",
      "source": [
        "model.save('ann_model.h5')"
      ],
      "metadata": {
        "id": "Totb_6aWk1-g"
      },
      "id": "Totb_6aWk1-g",
      "execution_count": null,
      "outputs": []
    }
  ],
  "metadata": {
    "kernelspec": {
      "display_name": "Python 3 (ipykernel)",
      "language": "python",
      "name": "python3"
    },
    "language_info": {
      "codemirror_mode": {
        "name": "ipython",
        "version": 3
      },
      "file_extension": ".py",
      "mimetype": "text/x-python",
      "name": "python",
      "nbconvert_exporter": "python",
      "pygments_lexer": "ipython3",
      "version": "3.11.5"
    },
    "colab": {
      "provenance": []
    }
  },
  "nbformat": 4,
  "nbformat_minor": 5
}