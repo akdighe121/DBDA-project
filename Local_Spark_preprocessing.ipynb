{
 "cells": [
  {
   "cell_type": "code",
   "execution_count": 1,
   "id": "09505533-3538-4746-ac75-51cb6296fff0",
   "metadata": {},
   "outputs": [],
   "source": [
    "# importing pyspark \n",
    "import pyspark"
   ]
  },
  {
   "cell_type": "code",
   "execution_count": 2,
   "id": "06adacde-809c-45f2-b892-9ed016b0eddf",
   "metadata": {},
   "outputs": [],
   "source": [
    "from pyspark.sql import SparkSession"
   ]
  },
  {
   "cell_type": "code",
   "execution_count": 3,
   "id": "54008bce-d64b-4063-b7b7-beacfffe31ea",
   "metadata": {},
   "outputs": [],
   "source": [
    "# creating session in pyspark \n",
    "spark = SparkSession.builder \\\n",
    "    .appName(\"GoogleDataset\") \\\n",
    "    .config(\"spark.sql.execution.arrow.enabled\", \"true\") \\\n",
    "    .config(\"spark.sql.execution.pythonUDF.arrow.enabled\", \"true\") \\\n",
    "    .getOrCreate()"
   ]
  },
  {
   "cell_type": "code",
   "execution_count": 4,
   "id": "da3b3199-5a40-47e0-b413-efc79c27229a",
   "metadata": {},
   "outputs": [],
   "source": [
    "# loading dataset in RDD\n",
    "df = spark.read.csv(\"E:/DBDA Project/Google-Playstore.csv\", header=True, inferSchema=True)"
   ]
  },
  {
   "cell_type": "code",
   "execution_count": 5,
   "id": "467361ac-ca86-4ed3-b82a-f09c6ec90f0c",
   "metadata": {},
   "outputs": [
    {
     "name": "stdout",
     "output_type": "stream",
     "text": [
      "+----------------------------------+--------------------+-----------------+------+------------+--------+----------------+----------------+----+-----+--------+----+---------------+--------------------+--------------------+--------------------+------------+------------+--------------+--------------------+------------+----------------+--------------+-------------------+\n",
      "|                          App Name|              App Id|         Category|Rating|Rating Count|Installs|Minimum Installs|Maximum Installs|Free|Price|Currency|Size|Minimum Android|        Developer Id|   Developer Website|     Developer Email|    Released|Last Updated|Content Rating|      Privacy Policy|Ad Supported|In App Purchases|Editors Choice|       Scraped Time|\n",
      "+----------------------------------+--------------------+-----------------+------+------------+--------+----------------+----------------+----+-----+--------+----+---------------+--------------------+--------------------+--------------------+------------+------------+--------------+--------------------+------------+----------------+--------------+-------------------+\n",
      "|                           Gakondo| com.ishakwe.gakondo|        Adventure|   0.0|           0|     10+|              10|              15|True|    0|     USD| 10M|     7.1 and up|Jean Confident Ir...|https://beniyizib...|jean21101999@gmai...|Feb 26, 2020|Feb 26, 2020|      Everyone|https://beniyizib...|       False|           False|         False|2021-06-15 20:19:35|\n",
      "|               Ampere Battery Info|com.webserveis.ba...|            Tools|   4.4|          64|  5,000+|            5000|            7662|True|    0|     USD|2.9M|     5.0 and up|          Webserveis|https://webservei...|webserveis@gmail.com|May 21, 2020|May 06, 2021|      Everyone|https://dev4phone...|        True|           False|         False|2021-06-15 20:19:35|\n",
      "|                            Vibook|com.doantiepvien.crm|     Productivity|   0.0|           0|     50+|              50|              58|True|    0|     USD|3.7M|   4.0.3 and up|          Cabin Crew|                null| vnacrewit@gmail.com| Aug 9, 2019|Aug 19, 2019|      Everyone|https://www.vietn...|       False|           False|         False|2021-06-15 20:19:35|\n",
      "|              Smart City Trichy...|cst.stJoseph.ug17...|    Communication|   5.0|           5|     10+|              10|              19|True|    0|     USD|1.8M|   4.0.3 and up| Climate Smart Tech2|http://www.climat...|climatesmarttech2...|Sep 10, 2018|Oct 13, 2018|      Everyone|                null|        True|           False|         False|2021-06-15 20:19:35|\n",
      "|                           GROW.me|com.horodyski.grower|            Tools|   0.0|           0|    100+|             100|             478|True|    0|     USD|6.2M|     4.1 and up|Rafal Milek-Horod...|http://www.horody...|rmilekhorodyski@g...|Feb 21, 2020|Nov 12, 2018|      Everyone|http://www.horody...|       False|           False|         False|2021-06-15 20:19:35|\n",
      "|                            IMOCCI|          com.imocci|           Social|   0.0|           0|     50+|              50|              89|True|    0|     USD| 46M|     6.0 and up|         Imocci GmbH|http://www.imocci...|     info@imocci.com|Dec 24, 2018|Dec 20, 2019|          Teen|https://www.imocc...|       False|            True|         False|2021-06-15 20:19:35|\n",
      "|              unlimited 4G data...|getfreedata.super...| Libraries & Demo|   4.5|          12|  1,000+|            1000|            2567|True|    0|     USD|2.5M|     4.1 and up|android developer779|                null|aitomgharfatimezz...|Sep 23, 2019|Sep 27, 2019|      Everyone|https://sites.goo...|        True|           False|         False|2021-06-15 20:19:35|\n",
      "|              The Everyday Cale...|com.mozaix.simone...|        Lifestyle|   2.0|          39|    500+|             500|             702|True|    0|     USD| 16M|     5.0 and up|          Mozaix LLC|                null|elementuser03@gma...|Jun 21, 2019|Jun 21, 2019|      Everyone|https://www.freep...|       False|           False|         False|2021-06-15 20:19:35|\n",
      "|                         WhatsOpen|   com.whatsopen.app|    Communication|   0.0|           0|     10+|              10|              18|True|    0|     USD|1.3M|     4.4 and up|Yilver Molina Hur...|http://yilvermoli...|yilver.mh1996@gma...|        null|Dec 07, 2018|          Teen|http://elcafedela...|       False|           False|         False|2021-06-15 20:19:35|\n",
      "|              Neon 3d Iron Tech...|com.ikeyboard.the...|  Personalization|   4.7|         820| 50,000+|           50000|           62433|True|    0|     USD|3.5M|     4.1 and up|Free 2021 Themes ...|https://trendytem...|trendyteme.888@gm...|Sep 22, 2019|Oct 07, 2020|      Everyone|http://bit.ly/Emo...|        True|           False|         False|2021-06-15 20:19:35|\n",
      "|                   Dodge The Cars!|com.MrScratchEnte...|           Racing|   4.9|          55|    100+|             100|             329|True|    0|     USD| 51M|     4.4 and up|           MrScratch|                null|mithalaarush@gmai...|Jul 30, 2020|Jul 30, 2020|      Everyone|https://docs.goog...|       False|           False|         False|2021-06-15 20:19:35|\n",
      "|                           Parents|com.eqra.android....|Maps & Navigation|   0.0|           0|    100+|             100|             330|True|    0|     USD|2.7M|     4.0 and up|           Eqra Tech|http://www.hafizq...|hhiyassat@eqratec...|Jan 10, 2018|Jun 27, 2018|      Everyone|https://docs.goog...|       False|           False|         False|2021-06-15 20:19:36|\n",
      "|桃園機場捷運時刻表 - 捷運轉乘路...|com.jieapp.taoyua...|   Travel & Local|   3.9|         118| 10,000+|           10000|           37763|True|    0|     USD|7.6M|     4.2 and up|             Jie App|https://jie-app.h...| jie.myapp@gmail.com| Apr 3, 2018|Jun 11, 2021|      Everyone|http://appsetting...|        True|           False|         False|2021-06-15 20:19:36|\n",
      "|                      be.MOBILISED|com.hastobe.bemob...|Maps & Navigation|   0.0|           0|    100+|             100|             274|True|    0|     USD| 15M|     6.0 and up|      has.to.be gmbh|http://www.has-to...|support@has-to-be...| Feb 9, 2020|May 14, 2021|      Everyone|https://has-to-be...|       False|           False|         False|2021-06-15 20:19:36|\n",
      "|                 Caliway Conductor|com.caliwayconduc...|   Travel & Local|   3.7|        1572| 10,000+|           10000|           42856|True|    0|     USD| 29M|     4.2 and up|             WayCali|https://www.faceb...|waycalicol@gmail.com| Sep 5, 2018|May 30, 2020|      Everyone|https://www.faceb...|       False|           False|         False|2021-06-15 20:19:36|\n",
      "|              Readymade Grocery...|com.ionicfirebase...|     Food & Drink|   4.2|          16|  1,000+|            1000|            4313|True|    0|     USD| 12M|     4.4 and up|     pietechsolution|https://www.ionic...|info@ionicfirebas...| Apr 5, 2020|Mar 23, 2021|      Everyone|https://www.ionic...|       False|           False|         False|2021-06-15 20:19:36|\n",
      "|              OTENTIK Discovery FR|com.camineo.otent...|   Travel & Local|   3.4|           5|    500+|             500|             949|True|    0|     USD|2.9M|     4.4 and up|     Hotels Attitude|http://www.hotels...|info@hotels-attit...|Nov 28, 2016|Oct 30, 2019|      Everyone|http://camineo.co...|       False|           False|         False|2021-06-15 20:19:36|\n",
      "|              All in one shoppi...|com.tkapplication...|            Tools|   5.0|           6|     50+|              50|              62|True|    0|     USD|2.0M|     4.1 and up|     TK Applications|                null|tkapplications001...|Apr 24, 2019|May 05, 2019|      Everyone|                null|       False|           False|         False|2021-06-15 20:19:36|\n",
      "|                    REDMOND  Robot|    com.grit.redmond|        Lifestyle|   3.7|         328| 10,000+|           10000|           31235|True|    0|     USD| 70M|     4.1 and up|     Grit Technology|                null|info@redmond.company| Jul 1, 2020|May 26, 2021|      Everyone|https://redmond.c...|       False|           False|         False|2021-06-15 20:19:36|\n",
      "|              Contemporary Love...|com.felingdev.low...|Books & Reference|   0.0|           0|      1+|               1|               2|True|    0|     XXX| 11M|     4.2 and up|    Human Droid Apps|                null|farukabdillah4@gm...|Dec 26, 2020|Mar 23, 2021|    Mature 17+|https://docs.goog...|        True|           False|         False|2021-06-15 20:19:36|\n",
      "+----------------------------------+--------------------+-----------------+------+------------+--------+----------------+----------------+----+-----+--------+----+---------------+--------------------+--------------------+--------------------+------------+------------+--------------+--------------------+------------+----------------+--------------+-------------------+\n",
      "only showing top 20 rows\n",
      "\n"
     ]
    }
   ],
   "source": [
    "# printing first 20 records \n",
    "df.show()"
   ]
  },
  {
   "cell_type": "code",
   "execution_count": 6,
   "id": "726d2705-dd21-43e9-ad8e-31b5edeb1259",
   "metadata": {},
   "outputs": [
    {
     "name": "stdout",
     "output_type": "stream",
     "text": [
      "Number of rows 2312944\n"
     ]
    }
   ],
   "source": [
    "# Count the number of elements in the RDD\n",
    "num_rows = df.count()\n",
    "print(\"Number of rows\",num_rows)\n"
   ]
  },
  {
   "cell_type": "code",
   "execution_count": 7,
   "id": "0d055cfc-b8fc-4dd1-a7fb-65359d60669b",
   "metadata": {},
   "outputs": [
    {
     "name": "stdout",
     "output_type": "stream",
     "text": [
      "Number of columns: 24\n"
     ]
    }
   ],
   "source": [
    "# count the number of columns \n",
    "sample_row = df.first()\n",
    "num_columns = len(sample_row)\n",
    "print(\"Number of columns:\", num_columns)"
   ]
  },
  {
   "cell_type": "code",
   "execution_count": 8,
   "id": "eb54c987-2c8f-4cde-b5db-73f3d4d3fccf",
   "metadata": {},
   "outputs": [
    {
     "name": "stdout",
     "output_type": "stream",
     "text": [
      "root\n",
      " |-- App Name: string (nullable = true)\n",
      " |-- App Id: string (nullable = true)\n",
      " |-- Category: string (nullable = true)\n",
      " |-- Rating: string (nullable = true)\n",
      " |-- Rating Count: string (nullable = true)\n",
      " |-- Installs: string (nullable = true)\n",
      " |-- Minimum Installs: string (nullable = true)\n",
      " |-- Maximum Installs: string (nullable = true)\n",
      " |-- Free: string (nullable = true)\n",
      " |-- Price: string (nullable = true)\n",
      " |-- Currency: string (nullable = true)\n",
      " |-- Size: string (nullable = true)\n",
      " |-- Minimum Android: string (nullable = true)\n",
      " |-- Developer Id: string (nullable = true)\n",
      " |-- Developer Website: string (nullable = true)\n",
      " |-- Developer Email: string (nullable = true)\n",
      " |-- Released: string (nullable = true)\n",
      " |-- Last Updated: string (nullable = true)\n",
      " |-- Content Rating: string (nullable = true)\n",
      " |-- Privacy Policy: string (nullable = true)\n",
      " |-- Ad Supported: string (nullable = true)\n",
      " |-- In App Purchases: string (nullable = true)\n",
      " |-- Editors Choice: string (nullable = true)\n",
      " |-- Scraped Time: string (nullable = true)\n",
      "\n"
     ]
    }
   ],
   "source": [
    "# schema of the table\n",
    "df.printSchema()"
   ]
  },
  {
   "cell_type": "code",
   "execution_count": 9,
   "id": "7d7146ff-b23c-4538-a21e-4e430109ed61",
   "metadata": {},
   "outputs": [
    {
     "name": "stdout",
     "output_type": "stream",
     "text": [
      "+--------+------+--------+------+------------+--------+----------------+----------------+----+-----+--------+----+---------------+------------+-----------------+---------------+--------+------------+--------------+--------------+------------+----------------+--------------+------------+\n",
      "|App Name|App Id|Category|Rating|Rating Count|Installs|Minimum Installs|Maximum Installs|Free|Price|Currency|Size|Minimum Android|Developer Id|Developer Website|Developer Email|Released|Last Updated|Content Rating|Privacy Policy|Ad Supported|In App Purchases|Editors Choice|Scraped Time|\n",
      "+--------+------+--------+------+------------+--------+----------------+----------------+----+-----+--------+----+---------------+------------+-----------------+---------------+--------+------------+--------------+--------------+------------+----------------+--------------+------------+\n",
      "|       0|     0|       0| 22883|       22883|     107|             107|               0|   0|    0|     135| 196|           6530|          33|           760826|             38|   71055|           0|             0|        420947|           4|               2|             0|           0|\n",
      "+--------+------+--------+------+------------+--------+----------------+----------------+----+-----+--------+----+---------------+------------+-----------------+---------------+--------+------------+--------------+--------------+------------+----------------+--------------+------------+\n",
      "\n"
     ]
    }
   ],
   "source": [
    "# printing null values in the table \n",
    "from pyspark.sql.functions import col, sum as pyspark_sum\n",
    "\n",
    "# Replace 'df' with your DataFrame\n",
    "null_counts = df.select([pyspark_sum(col(c).isNull().cast(\"int\")).alias(c) for c in df.columns])\n",
    "\n",
    "# Display the null counts\n",
    "null_counts.show()"
   ]
  },
  {
   "cell_type": "code",
   "execution_count": 10,
   "id": "556bf89c-2d2b-49b1-baa8-4790c521be13",
   "metadata": {},
   "outputs": [
    {
     "name": "stdout",
     "output_type": "stream",
     "text": [
      "+-----------------------+------+\n",
      "|               Category| count|\n",
      "+-----------------------+------+\n",
      "|          Music & Audio|154905|\n",
      "|              Education|241086|\n",
      "|                 Trivia| 11795|\n",
      "|        Auto & Vehicles| 18280|\n",
      "|          Entertainment|138271|\n",
      "|              Adventure| 23203|\n",
      "|   com.free074a81ba9...|     1|\n",
      "|                 Arcade| 53792|\n",
      "|   net.cleverbit.Mic...|     1|\n",
      "|                 Sports| 47483|\n",
      "|         Travel & Local| 67288|\n",
      "|           Food & Drink| 73926|\n",
      "|           Role Playing| 10034|\n",
      "|                Finance| 65465|\n",
      "|        Personalization| 89210|\n",
      "|                 Racing| 10361|\n",
      "|                  Tools|143987|\n",
      "|            Educational| 21307|\n",
      "|                 Comics|  2862|\n",
      "|                 Social| 44733|\n",
      "|       Libraries & Demo|  5198|\n",
      "|               Shopping| 75253|\n",
      "|       Health & Fitness| 83510|\n",
      "|           House & Home| 14369|\n",
      "|           Productivity| 79695|\n",
      "|                   Card|  8179|\n",
      "|              Samurai]\"|     1|\n",
      "|                 Casino|  5076|\n",
      "|                  Music|  4202|\n",
      "|            Photography| 35552|\n",
      "|                 Events| 12841|\n",
      "|              Lifestyle|118331|\n",
      "|               Business|143770|\n",
      "|     \"\" mp3 Collection\"|     1|\n",
      "|       News & Magazines| 42804|\n",
      "|   Video Players & E...| 14015|\n",
      "|      Books & Reference|116726|\n",
      "|                 Dating|  6524|\n",
      "|                Weather|  7246|\n",
      "|                 Puzzle| 51168|\n",
      "|                 Casual| 50813|\n",
      "|                  Board| 10587|\n",
      "|                Medical| 32065|\n",
      "|              Parenting|  3810|\n",
      "|          Communication| 48167|\n",
      "|                   Word|  8630|\n",
      "|                 Beauty| 11772|\n",
      "|               Strategy|  8526|\n",
      "|                 Action| 27555|\n",
      "|      Maps & Navigation| 26721|\n",
      "|           Art & Design| 18539|\n",
      "|             Simulation| 23282|\n",
      "|   com.bajubelbanyak...|     1|\n",
      "| 마음을 다스리는 글\"\")\"|     1|\n",
      "|     com.lilyhome.karim|     1|\n",
      "|   biz.arrowstar.cra...|     1|\n",
      "|              RK PAY\"\"\"|     1|\n",
      "|      com.lhdi.thoughts|     1|\n",
      "|   banglarhymes.ntss...|     1|\n",
      "|                  aves\"|     1|\n",
      "|   com.neverending.k...|     1|\n",
      "|      com.netroyal.komo|     1|\n",
      "|         고양이 쇼핑몰\"|     1|\n",
      "|             коментарі\"|     1|\n",
      "|   com.blogspot.form...|     1|\n",
      "|   fr.visionreelle.B...|     1|\n",
      "|       CHEER UP(CCC)\"\"\"|     1|\n",
      "|   com.logical.beitl...|     1|\n",
      "|   com.conduit.app_f...|     1|\n",
      "|           Quick notes\"|     1|\n",
      "|           far high.\"\"\"|     1|\n",
      "|   com.onesoundapps....|     1|\n",
      "|   com.ud.parchis.publi|     1|\n",
      "|       com.vsoapp.polls|     1|\n",
      "|     com.bilgeyatirimci|     1|\n",
      "|                   navi|     1|\n",
      "|   com.hdibharatnews...|     1|\n",
      "|   com.appmk.book.AO...|     1|\n",
      "+-----------------------+------+\n",
      "\n"
     ]
    }
   ],
   "source": [
    "# values count in the carwgory column \n",
    "from pyspark.sql.functions import count\n",
    "\n",
    "# Replace 'df' with your DataFrame\n",
    "category_counts = df.groupBy('Category').agg(count('*').alias('count'))\n",
    "\n",
    "# Display the counts\n",
    "category_counts.show(100)"
   ]
  },
  {
   "cell_type": "code",
   "execution_count": null,
   "id": "ff895efc-f429-42bf-85ce-02f83c0ee0f2",
   "metadata": {},
   "outputs": [],
   "source": []
  },
  {
   "cell_type": "code",
   "execution_count": null,
   "id": "3d46fa74-fd3f-48f7-87b0-2d8b23c800c4",
   "metadata": {},
   "outputs": [],
   "source": []
  },
  {
   "cell_type": "code",
   "execution_count": 11,
   "id": "a6a9f0ca-151d-4d38-8a91-f46afdd1f65a",
   "metadata": {},
   "outputs": [
    {
     "name": "stdout",
     "output_type": "stream",
     "text": [
      "+--------+-------+--------+------+------------+--------+----------------+----------------+----+-----+--------+----+---------------+------------+-----------------+---------------+--------+------------+--------------+--------------+------------+----------------+--------------+------------+\n",
      "|App Name| App Id|Category|Rating|Rating Count|Installs|Minimum Installs|Maximum Installs|Free|Price|Currency|Size|Minimum Android|Developer Id|Developer Website|Developer Email|Released|Last Updated|Content Rating|Privacy Policy|Ad Supported|In App Purchases|Editors Choice|Scraped Time|\n",
      "+--------+-------+--------+------+------------+--------+----------------+----------------+----+-----+--------+----+---------------+------------+-----------------+---------------+--------+------------+--------------+--------------+------------+----------------+--------------+------------+\n",
      "| 2177946|2312944|      78|    66|       38497|      41|              38|          251569|  28| 1072|      19|1660|            174|      758381|           810449|         950465|    4192|        3937|            49|        977735|          27|              11|             3|       67376|\n",
      "+--------+-------+--------+------+------------+--------+----------------+----------------+----+-----+--------+----+---------------+------------+-----------------+---------------+--------+------------+--------------+--------------+------------+----------------+--------------+------------+\n",
      "\n"
     ]
    }
   ],
   "source": [
    "# Import necessary functions\n",
    "from pyspark.sql.functions import col, countDistinct\n",
    "\n",
    "# Calculate the count of distinct values for each column\n",
    "distinct_counts = df.agg(*(countDistinct(col(c)).alias(c) for c in df.columns))\n",
    "\n",
    "# Display the count of distinct values\n",
    "distinct_counts.show()\n"
   ]
  },
  {
   "cell_type": "raw",
   "id": "05caa77b-f885-4b67-9854-3bbbe2aacd65",
   "metadata": {},
   "source": [
    " Observations\r",
    "# \n",
    "# 1. There are '2312944' rows and '24' columns in the datase\r\n",
    "# 2. The columns are of different data typs\r\n",
    "# 3. The columns in the datasets ae:\r\n",
    "#     - 'App Name', 'App Id', 'Category', 'Rating', 'Rating Count', 'Instals',\r\n",
    "#        'Minimum Installs', 'Maximum Installs', 'Free', 'Price', 'Currecy',\r\n",
    "#        'Size, 'Minimum Android', `Developer Id`, `Developer Webite`,\r\n",
    "#        `Developer Email`, `Released`, `Last Updated`, `Content Rting`,\r\n",
    "#        `Privacy Policy`, `Ad Supported`, `In App Purchases`, `Editors hoice`,\r\n",
    "#        `Scraed Time`\r\n",
    "# 4. dtypes: bool = 4, float64 = 4, int64 = 1, oject = 15\r\n",
    "# 5. There are some missing values in the dataset which we will read in details and deal later on in the otebook.  \r\n",
    "#     - `Developer Website` have almost 33% and `Privacy Policy` have almost 18% of mising values \r\n",
    "# 6. Few columns need remove as they do not contribute to the overall results o the dataset\r\n",
    "#     - like: `App Id`, `Developer Id`, `Developer Website`, `Developer Email`, `Privacy Policy`, `Editors Choice`, `Minimum Android` & Scraped Time`\r\n",
    "# 7. There are some columns which are of object data type but they should be of numeric data type, we will convert them later on i the notebook.\r\n",
    "#     - `Inss` & `Size`\r\n",
    "\r\n",
    "# # 2.1 Drop the columns that are not important"
   ]
  },
  {
   "cell_type": "code",
   "execution_count": 12,
   "id": "3619022e-d78d-4b00-bb15-cd83a740a6d9",
   "metadata": {},
   "outputs": [],
   "source": [
    "# Specify the columns to drop\n",
    "columns_to_drop = ['App Id', 'Developer Id', 'Developer Website', 'Developer Email', 'Privacy Policy', 'Editors Choice', 'Minimum Android', 'Scraped Time']\n",
    "\n",
    "# Drop the specified columns\n",
    "df = df.drop(*columns_to_drop)\n"
   ]
  },
  {
   "cell_type": "code",
   "execution_count": 13,
   "id": "8c914d1c-7624-4084-8f29-6153babf4ae7",
   "metadata": {},
   "outputs": [
    {
     "name": "stdout",
     "output_type": "stream",
     "text": [
      "Number of columns: 16\n"
     ]
    }
   ],
   "source": [
    "sample_row = df.first()\n",
    "num_columns = len(sample_row)\n",
    "print(\"Number of columns:\", num_columns)"
   ]
  },
  {
   "cell_type": "code",
   "execution_count": 14,
   "id": "f98c1114-b152-45a0-bb04-2a13d0c30193",
   "metadata": {},
   "outputs": [],
   "source": [
    "from pyspark.sql.functions import col\n",
    "\n",
    "# Define a function to apply the renaming logic\n",
    "def rename_column(name):\n",
    "    return name.lower().strip().replace(' ', '_')\n",
    "\n",
    "# Apply the renaming logic to each column\n",
    "for column in df.columns:\n",
    "    df = df.withColumnRenamed(column, rename_column(column))\n"
   ]
  },
  {
   "cell_type": "code",
   "execution_count": null,
   "id": "85a16685-d77e-440c-9c73-1d7fa2abdb4d",
   "metadata": {},
   "outputs": [],
   "source": []
  },
  {
   "cell_type": "code",
   "execution_count": 15,
   "id": "a039f3d2-a8ed-47d0-af34-f147f6da793b",
   "metadata": {},
   "outputs": [
    {
     "name": "stdout",
     "output_type": "stream",
     "text": [
      "+--------+---------+------+------------+--------+----------------+----------------+----+-----+--------+----+------------+------------+--------------+------------+----------------+\n",
      "|app_name| category|rating|rating_count|installs|minimum_installs|maximum_installs|free|price|currency|size|    released|last_updated|content_rating|ad_supported|in_app_purchases|\n",
      "+--------+---------+------+------------+--------+----------------+----------------+----+-----+--------+----+------------+------------+--------------+------------+----------------+\n",
      "| Gakondo|Adventure|   0.0|           0|     10+|              10|              15|True|    0|     USD| 10M|Feb 26, 2020|Feb 26, 2020|      Everyone|       False|           False|\n",
      "+--------+---------+------+------------+--------+----------------+----------------+----+-----+--------+----+------------+------------+--------------+------------+----------------+\n",
      "only showing top 1 row\n",
      "\n"
     ]
    }
   ],
   "source": [
    "df.show(1)"
   ]
  },
  {
   "cell_type": "markdown",
   "id": "5dee97cf-28a0-4328-98fe-ea6a0f3a2fc0",
   "metadata": {},
   "source": [
    "Select and display only the columns where the count of missing values is greater than 0"
   ]
  },
  {
   "cell_type": "code",
   "execution_count": 16,
   "id": "1248e0d1-ab50-4501-aa4a-477a5189a381",
   "metadata": {},
   "outputs": [
    {
     "name": "stdout",
     "output_type": "stream",
     "text": [
      "+------+------------+--------+----------------+--------+----+------------+------------+----------------+\n",
      "|rating|rating_count|installs|minimum_installs|currency|size|    released|ad_supported|in_app_purchases|\n",
      "+------+------------+--------+----------------+--------+----+------------+------------+----------------+\n",
      "|   0.0|           0|     10+|              10|     USD| 10M|Feb 26, 2020|       False|           False|\n",
      "|   4.4|          64|  5,000+|            5000|     USD|2.9M|May 21, 2020|        True|           False|\n",
      "|   0.0|           0|     50+|              50|     USD|3.7M| Aug 9, 2019|       False|           False|\n",
      "|   5.0|           5|     10+|              10|     USD|1.8M|Sep 10, 2018|        True|           False|\n",
      "|   0.0|           0|    100+|             100|     USD|6.2M|Feb 21, 2020|       False|           False|\n",
      "|   0.0|           0|     50+|              50|     USD| 46M|Dec 24, 2018|       False|            True|\n",
      "|   4.5|          12|  1,000+|            1000|     USD|2.5M|Sep 23, 2019|        True|           False|\n",
      "|   2.0|          39|    500+|             500|     USD| 16M|Jun 21, 2019|       False|           False|\n",
      "|   0.0|           0|     10+|              10|     USD|1.3M|        null|       False|           False|\n",
      "|   4.7|         820| 50,000+|           50000|     USD|3.5M|Sep 22, 2019|        True|           False|\n",
      "|   4.9|          55|    100+|             100|     USD| 51M|Jul 30, 2020|       False|           False|\n",
      "|   0.0|           0|    100+|             100|     USD|2.7M|Jan 10, 2018|       False|           False|\n",
      "|   3.9|         118| 10,000+|           10000|     USD|7.6M| Apr 3, 2018|        True|           False|\n",
      "|   0.0|           0|    100+|             100|     USD| 15M| Feb 9, 2020|       False|           False|\n",
      "|   3.7|        1572| 10,000+|           10000|     USD| 29M| Sep 5, 2018|       False|           False|\n",
      "|   4.2|          16|  1,000+|            1000|     USD| 12M| Apr 5, 2020|       False|           False|\n",
      "|   3.4|           5|    500+|             500|     USD|2.9M|Nov 28, 2016|       False|           False|\n",
      "|   5.0|           6|     50+|              50|     USD|2.0M|Apr 24, 2019|       False|           False|\n",
      "|   3.7|         328| 10,000+|           10000|     USD| 70M| Jul 1, 2020|       False|           False|\n",
      "|   0.0|           0|      1+|               1|     XXX| 11M|Dec 26, 2020|        True|           False|\n",
      "+------+------------+--------+----------------+--------+----+------------+------------+----------------+\n",
      "only showing top 20 rows\n",
      "\n"
     ]
    }
   ],
   "source": [
    "from pyspark.sql.functions import col, count, when, isnull\n",
    "\n",
    "# Calculate the count of missing values for each column\n",
    "missing_counts = df.select([count(when(isnull(col(c)), c)).alias(c) for c in df.columns])\n",
    "\n",
    "# Filter out columns where the count of missing values is greater than 0\n",
    "columns_with_missing_values = [col_name for col_name, count in missing_counts.first().asDict().items() if count > 0]\n",
    "\n",
    "# Select and display only the columns with missing values\n",
    "df.select(*columns_with_missing_values).show()\n"
   ]
  },
  {
   "cell_type": "markdown",
   "id": "8e9cf377-1693-41f7-b0f2-b2244cca32ff",
   "metadata": {},
   "source": [
    " - Before going ahead, let's remove the rows with missing values in the `app_name`, `installs`, `minimum_installs`, and `currency` columns, as they are very less in number and will not affect our analysis.\n",
    " - Drop rows with missing values in specified columns ('app_name', 'installs', 'minimum_installs', 'currency')\r",
    "-  The inplace=True parameter modifies the DataFrame in place"
   ]
  },
  {
   "cell_type": "code",
   "execution_count": 17,
   "id": "91b88b8a-6808-4318-b751-d0cecd110f3f",
   "metadata": {},
   "outputs": [],
   "source": [
    "# Specify the columns to check for missing values\n",
    "columns_to_check = ['app_name', 'installs', 'minimum_installs', 'currency', 'size']\n",
    "\n",
    "# Drop rows with missing values in the specified columns\n",
    "df = df.na.drop(subset=columns_to_check)\n"
   ]
  },
  {
   "cell_type": "code",
   "execution_count": 18,
   "id": "d2780e78-7086-4893-8a7a-1c440eb133aa",
   "metadata": {},
   "outputs": [
    {
     "name": "stdout",
     "output_type": "stream",
     "text": [
      "+--------+--------+------+------------+--------+----------------+----------------+----+-----+--------+----+--------+------------+--------------+------------+----------------+\n",
      "|app_name|category|rating|rating_count|installs|minimum_installs|maximum_installs|free|price|currency|size|released|last_updated|content_rating|ad_supported|in_app_purchases|\n",
      "+--------+--------+------+------------+--------+----------------+----------------+----+-----+--------+----+--------+------------+--------------+------------+----------------+\n",
      "|       0|       0| 22573|       22573|       0|               0|               0|   0|    0|       0|   0|   70758|           0|             0|           4|               2|\n",
      "+--------+--------+------+------------+--------+----------------+----------------+----+-----+--------+----+--------+------------+--------------+------------+----------------+\n",
      "\n"
     ]
    }
   ],
   "source": [
    "from pyspark.sql.functions import col, sum as pyspark_sum\n",
    "\n",
    "# Replace 'df' with your DataFrame\n",
    "null_counts = df.select([pyspark_sum(col(c).isNull().cast(\"int\")).alias(c) for c in df.columns])\n",
    "\n",
    "# Display the null counts\n",
    "null_counts.show()"
   ]
  },
  {
   "cell_type": "code",
   "execution_count": 19,
   "id": "f86ab7d5-f6b4-4b8d-bfcf-a7b8508f0aad",
   "metadata": {},
   "outputs": [],
   "source": [
    "# Drop duplicate rows, keeping only the first occurrence of each set of duplicated rows\n",
    "df = df.dropDuplicates()\n"
   ]
  },
  {
   "cell_type": "code",
   "execution_count": 20,
   "id": "5c13c38c-b984-453e-8631-a149ccdca5ac",
   "metadata": {},
   "outputs": [
    {
     "name": "stdout",
     "output_type": "stream",
     "text": [
      "Total number of duplicate rows: 0\n"
     ]
    }
   ],
   "source": [
    "from pyspark.sql import functions as F\n",
    "\n",
    "# Count the number of duplicate rows by grouping and counting\n",
    "duplicate_count = df.groupBy(df.columns).count().where(F.col('count') > 1).count()\n",
    "\n",
    "# Display the total number of duplicate rows\n",
    "print(\"Total number of duplicate rows:\", duplicate_count)\n",
    "\n"
   ]
  },
  {
   "cell_type": "code",
   "execution_count": 21,
   "id": "b54c06b7-76b2-494f-8003-80701100e735",
   "metadata": {},
   "outputs": [
    {
     "name": "stdout",
     "output_type": "stream",
     "text": [
      "+-------+--------------------+\n",
      "|summary|              rating|\n",
      "+-------+--------------------+\n",
      "|  count|             2290035|\n",
      "|   mean|  2.2031450149673932|\n",
      "| stddev|   2.106220223728806|\n",
      "|    min|             camera\"|\n",
      "|    max|net.jp.apps.hirot...|\n",
      "+-------+--------------------+\n",
      "\n"
     ]
    }
   ],
   "source": [
    "# Get summary statistics for the 'rating' column\n",
    "rating_summary = df.select('rating').describe()\n",
    "\n",
    "# Display the summary statistics\n",
    "rating_summary.show()\n"
   ]
  },
  {
   "cell_type": "code",
   "execution_count": 22,
   "id": "8d43387b-2d8a-4326-837d-0a4dcc1d58f0",
   "metadata": {},
   "outputs": [
    {
     "name": "stdout",
     "output_type": "stream",
     "text": [
      "+--------------------+------------------+\n",
      "|            category|    average_rating|\n",
      "+--------------------+------------------+\n",
      "|       Music & Audio|2.2268082050884104|\n",
      "|           Education| 2.246841661870555|\n",
      "|              Trivia| 2.526178458379673|\n",
      "|     Auto & Vehicles| 2.049612834939554|\n",
      "|       Entertainment|2.4354052030558417|\n",
      "|           Adventure|2.8149910036424224|\n",
      "|              Arcade| 2.450480960783202|\n",
      "|              Sports| 2.315538458268686|\n",
      "|      Travel & Local|1.9211517115171177|\n",
      "|        Food & Drink|1.2945984586476393|\n",
      "|        Role Playing| 3.384498291394846|\n",
      "|             Finance|2.4030697214540653|\n",
      "|     Personalization|2.7587538758819026|\n",
      "|              Racing|2.9602338606662095|\n",
      "|               Tools| 2.346092836514766|\n",
      "|com.appmk.book.AO...|              null|\n",
      "|         Educational| 2.437638902079969|\n",
      "|              Comics|2.8649060616802564|\n",
      "|              Social|2.3989215085257616|\n",
      "|    Libraries & Demo|2.0871152328334652|\n",
      "+--------------------+------------------+\n",
      "only showing top 20 rows\n",
      "\n"
     ]
    }
   ],
   "source": [
    "from pyspark.sql import functions as F\n",
    "\n",
    "# Calculate the average rating in each category\n",
    "average_ratings = df.groupBy('category').agg(F.avg('rating').alias('average_rating'))\n",
    "\n",
    "# Show the average ratings in each category\n",
    "average_ratings.show()\n"
   ]
  },
  {
   "cell_type": "code",
   "execution_count": 23,
   "id": "8b2bc65d-9c31-466d-9137-9651a26c071b",
   "metadata": {},
   "outputs": [
    {
     "name": "stdout",
     "output_type": "stream",
     "text": [
      "+-----------------+--------------------+------+------------+--------+----------------+----------------+----+-----+--------+----+------------+------------+---------------+------------+----------------+------------------+\n",
      "|         category|            app_name|rating|rating_count|installs|minimum_installs|maximum_installs|free|price|currency|size|    released|last_updated| content_rating|ad_supported|in_app_purchases|    average_rating|\n",
      "+-----------------+--------------------+------+------------+--------+----------------+----------------+----+-----+--------+----+------------+------------+---------------+------------+----------------+------------------+\n",
      "|    Music & Audio|PsyRadio Alternat...|   0.0|           0|      1+|               1|               1|True|    0|     USD| 10M|Jan 25, 2021|Jan 26, 2021|Adults only 18+|        True|           False|2.2268082050884095|\n",
      "|        Education|               CNJFO|   0.0|           0|     10+|              10|              28|True|    0|     USD| 10M|Mar 25, 2018|Jan 10, 2019|Adults only 18+|       False|           False|2.2468416618705507|\n",
      "|        Education|المصحف كاملا للشي...|   0.0|           0|    100+|             100|             252|True|    0|     USD|3.0M| Dec 2, 2020|Dec 03, 2020|Adults only 18+|        True|           False|2.2468416618705507|\n",
      "|    Entertainment|                  42|   3.2|          21|    500+|             500|             533|True|    0|     USD|1.4M|May 23, 2017|May 23, 2017|Adults only 18+|       False|           False|2.4354052030558417|\n",
      "|    Entertainment|Feliz Cumpleaños ...|   0.0|           0|    100+|             100|             341|True|    0|     USD| 11M|Mar 22, 2020|Jan 19, 2021|Adults only 18+|        True|           False|2.4354052030558417|\n",
      "|    Entertainment|          Cotas Play|   3.6|          99| 10,000+|           10000|           19370|True|    0|     USD| 16M|        null|Oct 09, 2020|Adults only 18+|       False|           False|2.4354052030558417|\n",
      "|    Entertainment|         CnB Network|   0.0|           0|     10+|              10|              39|True|    0|     USD| 16M|May 25, 2018|May 25, 2018|Adults only 18+|       False|           False|2.4354052030558417|\n",
      "|    Entertainment|Esports Wife - Fr...|   4.3|        1303| 50,000+|           50000|           94889|True|    0|     USD| 21M|Sep 10, 2014|Oct 11, 2019|Adults only 18+|        True|           False|2.4354052030558417|\n",
      "|    Entertainment|           PDC PICKS|   3.5|          10|  1,000+|            1000|            4088|True|    0|     USD| 37M|        null|May 04, 2020|Adults only 18+|       False|           False|2.4354052030558417|\n",
      "|    Entertainment|Attitude Status D...|   3.8|           6|  1,000+|            1000|            1929|True|    0|     USD|4.7M| Jan 5, 2020|Dec 19, 2020|Adults only 18+|        True|           False|2.4354052030558417|\n",
      "|           Sports|PrizePicks - Fant...|   4.4|         238| 10,000+|           10000|           25956|True|    0|     USD|126M|Jul 23, 2020|Apr 28, 2021|Adults only 18+|       False|           False|2.3155384582686853|\n",
      "|           Sports|theScore Bet: Spo...|   4.3|          43|  5,000+|            5000|            8865|True|    0|     USD| 21M| Mar 8, 2021|Jun 02, 2021|Adults only 18+|       False|           False|2.3155384582686853|\n",
      "|           Sports|SBK - Smarkets Sp...|   3.9|         220| 10,000+|           10000|           38619|True|    0|     USD| 46M| Apr 5, 2021|Jun 07, 2021|Adults only 18+|       False|           False|2.3155384582686853|\n",
      "|             Card|Andar Bahar - Gui...|   3.9|          25|  5,000+|            5000|            5086|True|    0|     USD| 35M| Oct 9, 2020|Oct 09, 2020|Adults only 18+|       False|           False|3.0851603281133473|\n",
      "|           Casino|Party Casino - Ne...|   4.4|          32|  1,000+|            1000|            1000|True|    0|     USD| 16M| Mar 9, 2021|Mar 09, 2021|Adults only 18+|       False|           False|3.2796822244289974|\n",
      "|           Casino|Harrah’s Online C...|   0.0|           0|  1,000+|            1000|            1000|True|    0|     USD| 18M|Mar 23, 2021|Mar 23, 2021|Adults only 18+|       False|           False|3.2796822244289974|\n",
      "|           Casino|           Black Tie|   4.8|          17|    100+|             100|             325|True|    0|     USD| 35M| Jul 4, 2013|May 16, 2014|Adults only 18+|        True|           False|3.2796822244289974|\n",
      "|    Communication|Radio La leyenda ...|   4.6|          21|    500+|             500|             501|True|    0|     USD| 11M|Nov 18, 2020|Nov 18, 2020|Adults only 18+|       False|           False|2.1225496382298483|\n",
      "|           Beauty|D01: Test Applica...|   0.0|           0|      1+|               1|               3|True|    0|     USD| 34k| Jan 3, 2017|Jan 04, 2017|Adults only 18+|        True|           False|1.4341054791007783|\n",
      "|Maps & Navigation| D41wdf: Test App 01|   0.0|           0|     10+|              10|              10|True|    0|     USD| 32k|Oct 12, 2017|Oct 12, 2017|Adults only 18+|       False|           False|2.2248140276301784|\n",
      "+-----------------+--------------------+------+------------+--------+----------------+----------------+----+-----+--------+----+------------+------------+---------------+------------+----------------+------------------+\n",
      "only showing top 20 rows\n",
      "\n"
     ]
    }
   ],
   "source": [
    "from pyspark.sql.functions import avg\n",
    "\n",
    "# Calculate the average rating in each 'Category'\n",
    "average_ratings = df.groupBy('category').agg(avg('rating').alias('average_rating'))\n",
    "\n",
    "# Join the average ratings back to the original DataFrame\n",
    "df_with_average_ratings = df.join(average_ratings, on='category', how='left')\n",
    "\n",
    "# Show the DataFrame with average ratings\n",
    "df_with_average_ratings.show()\n"
   ]
  },
  {
   "cell_type": "code",
   "execution_count": 24,
   "id": "ee21d48a-da93-481e-971c-064f533252c7",
   "metadata": {},
   "outputs": [
    {
     "name": "stdout",
     "output_type": "stream",
     "text": [
      "+-----------------+--------------------+------+------------+--------+----------------+----------------+----+-----+--------+----+------------+------------+---------------+------------+----------------+\n",
      "|         category|            app_name|rating|rating_count|installs|minimum_installs|maximum_installs|free|price|currency|size|    released|last_updated| content_rating|ad_supported|in_app_purchases|\n",
      "+-----------------+--------------------+------+------------+--------+----------------+----------------+----+-----+--------+----+------------+------------+---------------+------------+----------------+\n",
      "|    Music & Audio|PsyRadio Alternat...|   0.0|           0|      1+|               1|               1|True|    0|     USD| 10M|Jan 25, 2021|Jan 26, 2021|Adults only 18+|        True|           False|\n",
      "|        Education|               CNJFO|   0.0|           0|     10+|              10|              28|True|    0|     USD| 10M|Mar 25, 2018|Jan 10, 2019|Adults only 18+|       False|           False|\n",
      "|        Education|المصحف كاملا للشي...|   0.0|           0|    100+|             100|             252|True|    0|     USD|3.0M| Dec 2, 2020|Dec 03, 2020|Adults only 18+|        True|           False|\n",
      "|    Entertainment|                  42|   3.2|          21|    500+|             500|             533|True|    0|     USD|1.4M|May 23, 2017|May 23, 2017|Adults only 18+|       False|           False|\n",
      "|    Entertainment|Feliz Cumpleaños ...|   0.0|           0|    100+|             100|             341|True|    0|     USD| 11M|Mar 22, 2020|Jan 19, 2021|Adults only 18+|        True|           False|\n",
      "|    Entertainment|          Cotas Play|   3.6|          99| 10,000+|           10000|           19370|True|    0|     USD| 16M|        null|Oct 09, 2020|Adults only 18+|       False|           False|\n",
      "|    Entertainment|         CnB Network|   0.0|           0|     10+|              10|              39|True|    0|     USD| 16M|May 25, 2018|May 25, 2018|Adults only 18+|       False|           False|\n",
      "|    Entertainment|Esports Wife - Fr...|   4.3|        1303| 50,000+|           50000|           94889|True|    0|     USD| 21M|Sep 10, 2014|Oct 11, 2019|Adults only 18+|        True|           False|\n",
      "|    Entertainment|           PDC PICKS|   3.5|          10|  1,000+|            1000|            4088|True|    0|     USD| 37M|        null|May 04, 2020|Adults only 18+|       False|           False|\n",
      "|    Entertainment|Attitude Status D...|   3.8|           6|  1,000+|            1000|            1929|True|    0|     USD|4.7M| Jan 5, 2020|Dec 19, 2020|Adults only 18+|        True|           False|\n",
      "|           Sports|PrizePicks - Fant...|   4.4|         238| 10,000+|           10000|           25956|True|    0|     USD|126M|Jul 23, 2020|Apr 28, 2021|Adults only 18+|       False|           False|\n",
      "|           Sports|theScore Bet: Spo...|   4.3|          43|  5,000+|            5000|            8865|True|    0|     USD| 21M| Mar 8, 2021|Jun 02, 2021|Adults only 18+|       False|           False|\n",
      "|           Sports|SBK - Smarkets Sp...|   3.9|         220| 10,000+|           10000|           38619|True|    0|     USD| 46M| Apr 5, 2021|Jun 07, 2021|Adults only 18+|       False|           False|\n",
      "|             Card|Andar Bahar - Gui...|   3.9|          25|  5,000+|            5000|            5086|True|    0|     USD| 35M| Oct 9, 2020|Oct 09, 2020|Adults only 18+|       False|           False|\n",
      "|           Casino|Party Casino - Ne...|   4.4|          32|  1,000+|            1000|            1000|True|    0|     USD| 16M| Mar 9, 2021|Mar 09, 2021|Adults only 18+|       False|           False|\n",
      "|           Casino|Harrah’s Online C...|   0.0|           0|  1,000+|            1000|            1000|True|    0|     USD| 18M|Mar 23, 2021|Mar 23, 2021|Adults only 18+|       False|           False|\n",
      "|           Casino|           Black Tie|   4.8|          17|    100+|             100|             325|True|    0|     USD| 35M| Jul 4, 2013|May 16, 2014|Adults only 18+|        True|           False|\n",
      "|    Communication|Radio La leyenda ...|   4.6|          21|    500+|             500|             501|True|    0|     USD| 11M|Nov 18, 2020|Nov 18, 2020|Adults only 18+|       False|           False|\n",
      "|           Beauty|D01: Test Applica...|   0.0|           0|      1+|               1|               3|True|    0|     USD| 34k| Jan 3, 2017|Jan 04, 2017|Adults only 18+|        True|           False|\n",
      "|Maps & Navigation| D41wdf: Test App 01|   0.0|           0|     10+|              10|              10|True|    0|     USD| 32k|Oct 12, 2017|Oct 12, 2017|Adults only 18+|       False|           False|\n",
      "+-----------------+--------------------+------+------------+--------+----------------+----------------+----+-----+--------+----+------------+------------+---------------+------------+----------------+\n",
      "only showing top 20 rows\n",
      "\n"
     ]
    }
   ],
   "source": [
    "# Join the DataFrame with average ratings on 'category'\n",
    "df_with_avg_ratings = df.join(average_ratings, on='category', how='left')\n",
    "\n",
    "# Replace missing values in 'rating' with the respective average ratings\n",
    "df = df_with_avg_ratings.withColumn('rating', F.when(df_with_avg_ratings['rating'].isNull(), df_with_avg_ratings['average_rating']).otherwise(df_with_avg_ratings['rating'])).drop('average_rating')\n",
    "\n",
    "# Show the updated DataFrame\n",
    "df.show()\n"
   ]
  },
  {
   "cell_type": "code",
   "execution_count": 25,
   "id": "a63a1d30-2197-4896-acf9-b1f9786100bd",
   "metadata": {},
   "outputs": [
    {
     "name": "stdout",
     "output_type": "stream",
     "text": [
      "+-------------+--------------------+------+------------+--------+----------------+----------------+----+-----+--------+----+------------+------------+---------------+------------+----------------+\n",
      "|     category|            app_name|rating|rating_count|installs|minimum_installs|maximum_installs|free|price|currency|size|    released|last_updated| content_rating|ad_supported|in_app_purchases|\n",
      "+-------------+--------------------+------+------------+--------+----------------+----------------+----+-----+--------+----+------------+------------+---------------+------------+----------------+\n",
      "|Music & Audio|PsyRadio Alternat...|   0.0|           0|      1+|               1|               1|True|    0|     USD| 10M|Jan 25, 2021|Jan 26, 2021|Adults only 18+|        True|           False|\n",
      "+-------------+--------------------+------+------------+--------+----------------+----------------+----+-----+--------+----+------------+------------+---------------+------------+----------------+\n",
      "only showing top 1 row\n",
      "\n"
     ]
    }
   ],
   "source": [
    "df.show(1)"
   ]
  },
  {
   "cell_type": "code",
   "execution_count": 26,
   "id": "559dc6b1-8673-4080-8604-05607546e7dc",
   "metadata": {},
   "outputs": [
    {
     "name": "stdout",
     "output_type": "stream",
     "text": [
      "+---------------+-------------------------------------+------+------------+--------+----------------+----------------+----+-----+--------+----+------------+------------+---------------+------------+----------------+\n",
      "|       category|                             app_name|rating|rating_count|installs|minimum_installs|maximum_installs|free|price|currency|size|    released|last_updated| content_rating|ad_supported|in_app_purchases|\n",
      "+---------------+-------------------------------------+------+------------+--------+----------------+----------------+----+-----+--------+----+------------+------------+---------------+------------+----------------+\n",
      "|Auto & Vehicles|                            CarsNI.uk|   0.0|           0|    500+|             500|             963|True|    0|     USD|1.4M| Dec 1, 2017|Feb 24, 2018|       Everyone|        True|           False|\n",
      "|      Education|                            주역정의1|   0.0|           0|    500+|             500|             784|True|    0|     USD|1.1M|Nov 28, 2019|Nov 29, 2019|       Everyone|       False|           False|\n",
      "|      Education|                        Drone Academy|   0.0|           0|    500+|             500|             689|True|    0|     USD|1.4M| Dec 1, 2017|Dec 01, 2017|       Everyone|       False|           False|\n",
      "|      Education|                    Course Cocteleria|   4.2|          52| 10,000+|           10000|           24331|True|    0|     USD| 11M|May 14, 2015|Jul 22, 2015|Adults only 18+|        True|           False|\n",
      "|      Education|人気の資格に挑戦！食生活アドバイザ...|   1.0|           5|  1,000+|            1000|            1401|True|    0|     USD| 14M|Jan 10, 2016|Mar 26, 2016|Adults only 18+|        True|           False|\n",
      "|      Education|                 Ampli-Tool Engine...|   4.1|         556|100,000+|          100000|          122953|True|    0|     USD|3.6M| Oct 1, 2014|May 16, 2016|Adults only 18+|        True|           False|\n",
      "|      Education|試験対策！料理検定　２級　過去問形...|   0.0|           0|    100+|             100|             467|True|    0|     USD|8.2M|Dec 23, 2015|Feb 24, 2016|Adults only 18+|        True|           False|\n",
      "|  Music & Audio|                   Rádio Solidária FM|   5.0|          15|    500+|             500|             588|True|    0|     USD|1.1M| Dec 6, 2016|Dec 06, 2016|       Everyone|       False|           False|\n",
      "|  Music & Audio|                    Radio Noroeste FM|   0.0|           0|    500+|             500|             623|True|    0|     USD|1.3M| Apr 4, 2018|Apr 04, 2018|       Everyone|       False|           False|\n",
      "|  Music & Audio|                 أغاني عاطف السمان...|   4.5|          15|  1,000+|            1000|            2371|True|    0|     USD| 29M|Nov 29, 2020|Nov 30, 2020|Adults only 18+|        True|           False|\n",
      "|  Music & Audio|                 PsyRadio PsyTranc...|   0.0|           0|      5+|               5|               7|True|    0|     USD| 10M|Jan 25, 2021|Jan 26, 2021|Adults only 18+|        True|           False|\n",
      "|  Music & Audio|                 Olimpica Stereo B...|   0.0|           0|     50+|              50|              53|True|    0|     USD|6.4M|Nov 29, 2020|Nov 29, 2020|Adults only 18+|        True|           False|\n",
      "|  Music & Audio|                 Rádio Mania FM 87...|   0.0|           0|     10+|              10|              35|True|    0|     USD|7.4M|Oct 14, 2019|Oct 14, 2019|Adults only 18+|        True|           False|\n",
      "|      Adventure|                 Leisure Suit Larr...|   3.5|        1361|100,000+|          100000|          132084|True|    0|     USD| 52M| Oct 4, 2019|Feb 21, 2020|Adults only 18+|       False|            True|\n",
      "|         Arcade|                       Blocks Breaker|   0.0|           0|     10+|              10|              11|True|    0|     USD|1.1M|Nov 18, 2019|Nov 19, 2019|       Everyone|       False|           False|\n",
      "|  Entertainment|                 FanDuel Casino - ...|   3.6|         201| 10,000+|           10000|           42832|True|    0|     USD| 11M| Mar 3, 2021|May 26, 2021|Adults only 18+|       False|           False|\n",
      "|  Entertainment|                 AvoCAT - pictures...|   0.0|           0|    500+|             500|             819|True|    0|     USD|2.8M|Jun 27, 2019|Jun 27, 2019|Adults only 18+|        True|           False|\n",
      "|  Entertainment|                 AS Digital Entert...|   0.0|           0|    100+|             100|             129|True|    0|     USD| 25M|Mar 19, 2020|Mar 19, 2020|Adults only 18+|       False|            True|\n",
      "|  Entertainment|                            zBox MM 2|   4.7|        7141|100,000+|          100000|          252832|True|    0|     USD| 12M|Mar 30, 2021|Apr 06, 2021|Adults only 18+|        True|            True|\n",
      "|  Entertainment|                            FunFinder|   4.8|          12|    100+|             100|             213|True|    0|     USD| 16M|Dec 29, 2020|Dec 29, 2020|Adults only 18+|        True|           False|\n",
      "+---------------+-------------------------------------+------+------------+--------+----------------+----------------+----+-----+--------+----+------------+------------+---------------+------------+----------------+\n",
      "only showing top 20 rows\n",
      "\n"
     ]
    }
   ],
   "source": [
    "from pyspark.sql import functions as F\n",
    "\n",
    "# Calculate the average rating count in each 'Category'\n",
    "average_rating_count = df.groupBy('category').agg(F.avg('rating_count').alias('average_rating_count'))\n",
    "\n",
    "# Replace missing values in 'Rating' with the respective average ratings of their Category\n",
    "df = df.join(average_rating_count, on='category', how='left') \\\n",
    "       .withColumn('rating_count', F.when(df['rating_count'].isNull(), average_rating_count['average_rating_count']) \\\n",
    "                                      .otherwise(df['rating_count'])) \\\n",
    "       .drop('average_rating_count')\n",
    "\n",
    "# Show the updated DataFrame\n",
    "df.show()\n"
   ]
  },
  {
   "cell_type": "code",
   "execution_count": 27,
   "id": "065d483e-ab5d-4869-8c36-60e3ddf2e293",
   "metadata": {},
   "outputs": [],
   "source": [
    "# Drop rows with missing values in the 'released' column\n",
    "df = df.na.drop(subset=['released'])\n"
   ]
  },
  {
   "cell_type": "code",
   "execution_count": 28,
   "id": "b4d7306e-bf09-4268-bb74-bdd66127e031",
   "metadata": {},
   "outputs": [
    {
     "name": "stdout",
     "output_type": "stream",
     "text": [
      "['50,000+', '5,000,000,000+', '100+', '0', '5,000,000+', '100,000,000+', '1,000,000,000+', '1,000,000+', '500,000,000+', '10+', '4.8', '50+', '5+', '500+', '1,000+', '500,000+', '0+', '5,000+', '10,000,000+', '50,000,000+', '100,000+', '1+', '56', '10,000+', '34', '458', '4.7', '7', '0.0', '4.6', '1963', '294', '142', '50', '4.2', '64', '22', '77', '10,000,000,000+', '10', 'Maps & Navigation']\n"
     ]
    }
   ],
   "source": [
    "# Get the unique values of the 'installs' column\n",
    "unique_installs = df.select('installs').distinct().collect()\n",
    "\n",
    "# Convert the unique values to a list\n",
    "unique_installs_list = [row['installs'] for row in unique_installs]\n",
    "\n",
    "# Print the unique values\n",
    "print(unique_installs_list)\n"
   ]
  },
  {
   "cell_type": "code",
   "execution_count": 29,
   "id": "68e41594-97d8-4044-a18d-26e8f831c812",
   "metadata": {},
   "outputs": [
    {
     "name": "stdout",
     "output_type": "stream",
     "text": [
      "+---------------+-------------------------------------+------+------------+--------+----------------+----------------+----+-----+--------+----+------------+------------+---------------+------------+----------------+\n",
      "|       category|                             app_name|rating|rating_count|installs|minimum_installs|maximum_installs|free|price|currency|size|    released|last_updated| content_rating|ad_supported|in_app_purchases|\n",
      "+---------------+-------------------------------------+------+------------+--------+----------------+----------------+----+-----+--------+----+------------+------------+---------------+------------+----------------+\n",
      "|Auto & Vehicles|                            CarsNI.uk|   0.0|           0|     500|             500|             963|True|    0|     USD|1.4M| Dec 1, 2017|Feb 24, 2018|       Everyone|        True|           False|\n",
      "|Auto & Vehicles|                            PKTracers|   5.0|          27|     100|             100|             181|True|    0|     USD|1.2M|Nov 12, 2019|Jul 01, 2020|       Everyone|       False|           False|\n",
      "|      Education|                            주역정의1|   0.0|           0|     500|             500|             784|True|    0|     USD|1.1M|Nov 28, 2019|Nov 29, 2019|       Everyone|       False|           False|\n",
      "|      Education|                        Drone Academy|   0.0|           0|     500|             500|             689|True|    0|     USD|1.4M| Dec 1, 2017|Dec 01, 2017|       Everyone|       False|           False|\n",
      "|      Education|                    Course Cocteleria|   4.2|          52|   10000|           10000|           24331|True|    0|     USD| 11M|May 14, 2015|Jul 22, 2015|Adults only 18+|        True|           False|\n",
      "|      Education|人気の資格に挑戦！食生活アドバイザ...|   1.0|           5|    1000|            1000|            1401|True|    0|     USD| 14M|Jan 10, 2016|Mar 26, 2016|Adults only 18+|        True|           False|\n",
      "|      Education|                 Ampli-Tool Engine...|   4.1|         556|  100000|          100000|          122953|True|    0|     USD|3.6M| Oct 1, 2014|May 16, 2016|Adults only 18+|        True|           False|\n",
      "|      Education|                  Powershell Training|   3.6|          34|    5000|            5000|            6300|True|    0|     USD|1.3M|Aug 12, 2017|Aug 15, 2017|       Everyone|       False|           False|\n",
      "|  Music & Audio|                   Rádio Solidária FM|   5.0|          15|     500|             500|             588|True|    0|     USD|1.1M| Dec 6, 2016|Dec 06, 2016|       Everyone|       False|           False|\n",
      "|  Music & Audio|                    Radio Noroeste FM|   0.0|           0|     500|             500|             623|True|    0|     USD|1.3M| Apr 4, 2018|Apr 04, 2018|       Everyone|       False|           False|\n",
      "|  Music & Audio|                 أغاني عاطف السمان...|   4.5|          15|    1000|            1000|            2371|True|    0|     USD| 29M|Nov 29, 2020|Nov 30, 2020|Adults only 18+|        True|           False|\n",
      "|  Music & Audio|                 PsyRadio PsyTranc...|   0.0|           0|       5|               5|               7|True|    0|     USD| 10M|Jan 25, 2021|Jan 26, 2021|Adults only 18+|        True|           False|\n",
      "|  Music & Audio|                 Olimpica Stereo B...|   0.0|           0|      50|              50|              53|True|    0|     USD|6.4M|Nov 29, 2020|Nov 29, 2020|Adults only 18+|        True|           False|\n",
      "|  Music & Audio|                 Rádio Mania FM 87...|   0.0|           0|      10|              10|              35|True|    0|     USD|7.4M|Oct 14, 2019|Oct 14, 2019|Adults only 18+|        True|           False|\n",
      "|      Adventure|                 Leisure Suit Larr...|   3.5|        1361|  100000|          100000|          132084|True|    0|     USD| 52M| Oct 4, 2019|Feb 21, 2020|Adults only 18+|       False|            True|\n",
      "|         Arcade|                       Blocks Breaker|   0.0|           0|      10|              10|              11|True|    0|     USD|1.1M|Nov 18, 2019|Nov 19, 2019|       Everyone|       False|           False|\n",
      "|  Entertainment|                 FanDuel Casino - ...|   3.6|         201|   10000|           10000|           42832|True|    0|     USD| 11M| Mar 3, 2021|May 26, 2021|Adults only 18+|       False|           False|\n",
      "|  Entertainment|                 AvoCAT - pictures...|   0.0|           0|     500|             500|             819|True|    0|     USD|2.8M|Jun 27, 2019|Jun 27, 2019|Adults only 18+|        True|           False|\n",
      "|  Entertainment|                 AS Digital Entert...|   0.0|           0|     100|             100|             129|True|    0|     USD| 25M|Mar 19, 2020|Mar 19, 2020|Adults only 18+|       False|            True|\n",
      "|  Entertainment|                            zBox MM 2|   4.7|        7141|  100000|          100000|          252832|True|    0|     USD| 12M|Mar 30, 2021|Apr 06, 2021|Adults only 18+|        True|            True|\n",
      "+---------------+-------------------------------------+------+------------+--------+----------------+----------------+----+-----+--------+----+------------+------------+---------------+------------+----------------+\n",
      "only showing top 20 rows\n",
      "\n"
     ]
    }
   ],
   "source": [
    "from pyspark.sql.functions import regexp_replace\n",
    "\n",
    "# Remove the '+' symbol\n",
    "df = df.withColumn('installs', regexp_replace('installs', '\\\\+', ''))\n",
    "\n",
    "# Remove commas\n",
    "df = df.withColumn('installs', regexp_replace('installs', ',', ''))\n",
    "\n",
    "# Show the updated DataFrame\n",
    "df.show()\n"
   ]
  },
  {
   "cell_type": "code",
   "execution_count": 30,
   "id": "fe907599-1d1a-4727-a08c-720b9eca575f",
   "metadata": {},
   "outputs": [
    {
     "name": "stdout",
     "output_type": "stream",
     "text": [
      "+---------------+--------------------+-----------------+------------+--------+----------------+----------------+----+-----+--------+----+--------------------+-------------------+--------------+------------+----------------+\n",
      "|       category|            app_name|           rating|rating_count|installs|minimum_installs|maximum_installs|free|price|currency|size|            released|       last_updated|content_rating|ad_supported|in_app_purchases|\n",
      "+---------------+--------------------+-----------------+------------+--------+----------------+----------------+----+-----+--------+----+--------------------+-------------------+--------------+------------+----------------+\n",
      "|   Quick notes\"| \"\"\"Gom Day\"\" - Memo|com.migom.gomharu|       Tools|       0|               0|             10+|  10|   15|    True|   0|https://gomapps.b...|migomapps@gmail.com|  Nov 14, 2018|    Everyone|            null|\n",
      "|Auto & Vehicles|           CarsNI.uk|              0.0|           0|     500|             500|             963|True|    0|     USD|1.4M|         Dec 1, 2017|       Feb 24, 2018|      Everyone|        True|           False|\n",
      "|Auto & Vehicles|   TaxiClub - Driver|              4.3|         107|    5000|            5000|            6093|True|    0|     USD| 11M|        Apr 27, 2018|       May 18, 2021|      Everyone|       False|           False|\n",
      "|Auto & Vehicles|Motorcycle Practi...|              4.5|          51|    5000|            5000|            5334|True|    0|     USD| 11M|        Jul 25, 2019|       Apr 28, 2020|      Everyone|        True|            True|\n",
      "|Auto & Vehicles| Appok Truck booking|              0.0|           0|      50|              50|              84|True|    0|     USD| 14M|        Feb 26, 2018|       Mar 17, 2018|      Everyone|       False|           False|\n",
      "|Auto & Vehicles|         EasyDrive24|              2.5|         244|   10000|           10000|           30593|True|    0|     USD| 20M|        Dec 27, 2019|       Apr 27, 2021|      Everyone|       False|           False|\n",
      "|Auto & Vehicles|             Elec2go|              2.6|           8|    1000|            1000|            1929|True|    0|     USD| 20M|         May 3, 2019|       Nov 30, 2020|      Everyone|       False|           False|\n",
      "|Auto & Vehicles|VoomVoom - car en...|              2.9|         991|  100000|          100000|          276357|True|    0|     USD|218M|        Mar 14, 2018|       May 22, 2021|      Everyone|       False|            True|\n",
      "|Auto & Vehicles|   Такси Экипаж Ялта|              1.9|           8|     500|             500|             553|True|    0|     USD| 22M|        Mar 29, 2019|       Mar 29, 2019|      Everyone|       False|           False|\n",
      "|Auto & Vehicles|           자동차114|              0.0|           0|     100|             100|             158|True|    0|     USD|3.0M|         Apr 6, 2020|       Apr 08, 2020|      Everyone|       False|           False|\n",
      "|Auto & Vehicles|  Kodiak Performance|              0.0|           0|      10|              10|              14|True|    0|     USD|3.4M|        Mar 25, 2021|       Jun 03, 2021|      Everyone|       False|           False|\n",
      "|Auto & Vehicles|Kumpulan Modikasi...|              0.0|           0|    1000|            1000|            1011|True|    0|     USD|3.4M|         May 2, 2019|       Aug 30, 2019|      Everyone|        True|           False|\n",
      "|Auto & Vehicles|ELVITEN Digital C...|              0.0|           0|     100|             100|             356|True|    0|     USD| 30M|        Mar 12, 2019|       Feb 13, 2020|      Everyone|       False|           False|\n",
      "|Auto & Vehicles|      Cotação Online|              0.0|           0|      10|              10|              32|True|    0|     USD|6.8M|        Oct 17, 2018|       Dec 10, 2018|      Everyone|       False|           False|\n",
      "|Auto & Vehicles|Metior OBD2 for E...|              3.7|          26|    5000|            5000|            5121|True|    0|     USD|7.8M|        Aug 30, 2020|       Mar 13, 2021|      Everyone|        True|            True|\n",
      "|Auto & Vehicles|   Dick’s Auto Group|              5.0|          13|     500|             500|             671|True|    0|     USD| 10M|        Nov 13, 2019|       Nov 13, 2020|      Everyone|       False|           False|\n",
      "|Auto & Vehicles|Directed Telemati...|              0.0|           0|      50|              50|              64|True|    0|     USD| 12M|        Jun 14, 2017|       Apr 08, 2021|      Everyone|       False|           False|\n",
      "|Auto & Vehicles|Where is my vehic...|              3.9|           7|     100|             100|             230|True|    0|     USD| 13M|        Sep 12, 2019|       Sep 12, 2019|      Everyone|       False|           False|\n",
      "|Auto & Vehicles|            Rio Taxi|              4.0|          23|    1000|            1000|            3472|True|    0|     USD| 17M|        Apr 22, 2020|       Apr 22, 2020|      Everyone|       False|           False|\n",
      "|Auto & Vehicles|            WinTrace|              0.0|           0|     500|             500|             659|True|    0|     USD| 22M|         Apr 7, 2020|       Dec 09, 2020|      Everyone|       False|           False|\n",
      "+---------------+--------------------+-----------------+------------+--------+----------------+----------------+----+-----+--------+----+--------------------+-------------------+--------------+------------+----------------+\n",
      "only showing top 20 rows\n",
      "\n"
     ]
    }
   ],
   "source": [
    "from pyspark.sql.functions import when\n",
    "\n",
    "# Replace missing values and empty strings with 0\n",
    "df = df.withColumn('installs', when((df['installs'].isNull()) | (df['installs'] == \"\"), 0).otherwise(df['installs']))\n",
    "\n",
    "# Convert the column to the integer type\n",
    "df = df.withColumn('installs', df['installs'].cast('int'))\n",
    "\n",
    "# Show the updated DataFrame\n",
    "df.show()\n"
   ]
  },
  {
   "cell_type": "code",
   "execution_count": 31,
   "id": "f46cbb90-a0a8-4f22-95e4-5b353c2c196a",
   "metadata": {},
   "outputs": [
    {
     "name": "stdout",
     "output_type": "stream",
     "text": [
      "[500000, 100000, None, 1, 5000, 500, 10000, 5, 64, 50000, 5000000, 50000000, 4, 100, 1000, 1963, 1000000, 10, 50, 500000000, 1000000000, 10000000, 0, 100000000, 458, 142, 7, 77, 34, 56, 294, 22]\n"
     ]
    }
   ],
   "source": [
    "# Get the unique values of the 'installs' column\n",
    "unique_installs = df.select('installs').distinct().collect()\n",
    "\n",
    "# Convert the unique values to a list\n",
    "unique_installs_list = [row['installs'] for row in unique_installs]\n",
    "\n",
    "# Print the unique values\n",
    "print(unique_installs_list)\n"
   ]
  },
  {
   "cell_type": "code",
   "execution_count": 32,
   "id": "21a35e3e-4a73-48c4-805a-01914f23ad79",
   "metadata": {},
   "outputs": [
    {
     "name": "stdout",
     "output_type": "stream",
     "text": [
      "['8.2M', '167M', '697k', '708k', '1,023k', '163M', '970k', '275k', '622k', '8.5M', '665k', '602k', '330k', '458k', '735k', '913k', '691k', '77k', '245k', '416k', '372k', '262k', '957k', '290k', '8.6M', '10.0M', '770k', '246k', '317k', '725k', '25M', '82k', '749k', '166k', '193k', '110k', '560k', '503k', '101M', '74M', '147k', '451k', '992k', '176k', '48k', '422M', '803k', '716k', '120k', '1.5G', '1,013k', '9.2k', '521k', '979k', '34k', '1.1G', '57k', '750k', '896k', '231M', '485k', '73k', '510k', '349k', '133M', '88M', '194M', '958k', '44k', '111k', '27k', '298M', '581k', '304M', '38M', '3.0M', '880k', '565k', '997k', '314M', '15M', '234k', '607k', '391M', '228M', '178M', '197M', '919M', '78M', '574k', '519k', '955k', '788k', '951k', '8.3M', '980k', '878k', '126M', '828k', '9.6k', '821k', '50M', '4.0M', '189k', '637k', '164k', '135k', '366k', '424k', '223k', '859k', '328k', '356k', '5.9M', '6.3M', '103k', '198M', '927k', '46k', '781k', '288M', '239M', '688k', '1.8M', '34M', '66k', '184k', '580k', '538k', '911k', '325k', '676k', '844k', '170k', '335M', '193M', '205M', '274M', '8.9M', '3.8M', '48M', '92k', '145M', '298k', '141M', '140M', '135M', '141k', '852k', '699k', '431k', '97k', '925M', '5.4M', '395k', '729k', '191k', '437k', '775k', '467k', '988k', '67k', '36k', '914k', '554k', '809k', '9.0k', '2.8M', '124k', '86k', '591k', '793k', '931k', '542k', '202k', '609k', '915k', '1.6M', '946k', '449k', '786k', '920k', '457k', '241k', '122k', '23k', '1,017k', '4.9M', '1.0M', '891k', '838k', '214M', '484k', '4.6M', '56M', '357k', '917k', '761k', '461k', '620k', '207k', '675k', '442k', '383M', '9.3M', '216k', '68k', '695k', '900k', '728k', '308M', '80k', '1.2M', '8.4M', '49M', '3.6M', '184M', '394k', '126k', '863k', '38k', '976k', '947k', '871k', '237k', '618k', '275M', '796k', '812k', '212k', '112M', '627k', '604k', '253M', '37M', '137M', '687k', '30k', '361k', '180k', '610k', '496k', '249M', '360M', '765k', '175k', '978k', '933k', '161M', '715k', '835k', '39M', '77M', '52k', '6.1M', '66M', '179k', '181k', '740k', '467M', '427k', '524k', '9.6M', '269k', '156k', '867k', '276M', '736k', '172M', '271k', '847k', '169M', '907k', '936k', '0', '87M', '157k', '830k', '541k', '155k', '888k', '690k', '46M', '21M', '127k', '7.3M', '495k', '61k', '186k', '265k', '618M', '117M', '358k', '945k', '213k', '443k', '243k', '76k', '413k', '499k', '218M', '916k', '508k', '280k', '9.0M', '5.0M', '69M', '138M', '148M', '215k', '509k', '971k', '295M', '33M', '53M', '114M', '143k', '303k', '227k', '616k', '142k', '981k', '747k', '814k', '569k', '656M', '3.2M', '76M', '33k', '351k', '177M', '7.4M', '81M', '100M', '115M', '397k', '436k', '415k', '6.7M', '59M', '116M', '344k', '719k', '206k', '338M', '309k', '267k', '6.5M', '122M', '567k', '573k', '339k', '398M', '4.4M', '21k', '260k', '658k', '558k', '3.3k', '62k', '741k', '632k', '757k', '1,001k', '160k', '164M', '342k', '270k', '96k', '623k', '456k', '368k', '962k', '918k', '650k', '1,000k', '662k', '471k', '758k', '465k', '124M', '756k', '794k', '685k', '673k', '252M', '682k', '866k', '176M', '975k', '586k', '545k', '80M', '894k', '338k', '990k', '568k', '168M', '624k', '899k', '6.9M', '293M', '364M', '577k', '455k', '613k', '559k', '807k', '209k', '67M', '157M', '129M', '152k', '544k', '489k', '104k', '984k', '281k', '426k', '419k', '51k', '55k', '938k', '8.4k', '823k', '834k', '868k', '116k', '887k', '217k', '766k', '743k', '106k', '63k', '158M', '585k', '203k', '14k', '953k', '804k', '795k', '1,018k', '201M', '12k', '575k', '731k', '162k', '772k', '297k', '4.3M', '941k', '65k', '549k', '339M', '200M', '509M', '909k', '177k', '238k', '199M', '598k', '497M', '131M', '599k', '768k', '151M', '106M', '119M', '700k', '248k', '435k', '1.3M', '25k', '876k', '306M', '2.5M', '969k', '362k', '905k', '19k', '479k', '185M', '118k', '592k', '192k', '923k', '508M', '490M', '645M', '5.1M', '5.6M', '188M', '739k', '4.7k', '968k', '417k', '550k', '856k', '551k', '7.2M', '95M', '548k', '58k', '753k', '883k', '1,009k', '1,015k', '213M', '320M', '330M', '9.1M', '263k', '974k', '754k', '142M', '103M', '114k', '943k', '849k', '224M', '985k', '285k', '286k', '1,010k', '932k', '381k', '37k', '681k', '882k', '797k', '43M', '881k', '1,005k', '134k', '3.9M', '7.7M', '86M', '240k', '661k', '526k', '32M', '125M', '156M', '334k', '825k', '649k', '704k', '664k', '288k', '285M', '296k', '570k', '6.3k', '99M', '850k', '234M', '238M', '3.4M', '562k', '69k', '305k', '463k', '151k', '605k', '865k', '1,024k', '18M', '721k', '973k', '42k', '722k', '95k', '350k', '429k', '845k', '706M', '564k', '352k', '290M', '9.9M', '407k', '790k', '671k', '323k', '713k', '642k', '767k', '244M', '26M', '5.3M', '382k', '492k', '392k', '29k', '614k', '949k', '1.1M', '885k', '109k', '656k', '195M', '341k', '215M', '172k', '247k', '35k', '487k', '639k', '603M', '6.4M', '60M', '130k', '206M', '182k', '6.4k', '445k', '1,014k', '678k', '578k', '26k', '343M', '533k', '836k', '1.7M', '531k', '136M', '1,020k', '301k', '144M', '964k', '133k', '683k', '208M', '989k', '243M', '59k', '904k', '183k', '152M', '97M', '827k', '304k', '272k', '601k', '501k', '762k', '553k', '202M', '452k', '705k', '1,006M', '333k', '839k', '214k', '738k', '385k', '848k', '615k', '88k', '292k', '582k', '115k', '237M', '644k', '657k', '873k', '626k', '566k', '7.9M', '1,022k', '468k', '212M', '386k', '965k', '643M', '72M', '906k', '956k', '773k', '833k', '65M', '977k', '536k', '16k', '190k', '377k', '374k', '1,007k', '105M', '259k', '919k', '252k', '446k', '241M', '7.8M', '647k', '15k', '254k', '364k', '333M', '777k', '146M', '315k', '218k', '190M', '787k', '929k', '232k', '24M', '178k', '720k', '712k', '832k', '254M', '68M', '842k', '149M', '379k', '500k', '552k', '226k', '60k', '230M', '154k', '154M', '791k', '785k', '173k', '287k', '999k', '811k', '670k', '41k', '625k', '71M', '346k', '987k', '403k', '475k', '35M', '28k', '898k', '759k', '619k', '39k', '806k', '860k', '102M', '433k', '674k', '462k', '702k', '12M', '109M', '280M', '64k', '502k', '643k', '440k', '284M', '11M', '954k', '90k', '925k', '1.4M', '862k', '291k', '666k', '5.2M', '198k', '539k', '180M', '287M', '972k', '944k', '168k', '448k', '864k', '5.7M', '1.9M', '63M', '808k', '183M', '191M', '472k', '798k', '593k', '405k', '174M', '89k', '75k', '1,012k', '950k', '779k', '498k', '421k', '490k', '481k', '7.1M', '52M', '230k', '535k', '89M', '278k', '411k', '853k', '72k', '730k', '311k', '398k', '1,004k', '4.6k', '537k', '4.8M', '872k', '922k', '373k', '529k', '884k', '439k', '2.9M', '58M', '9.5M', '188k', '659k', '123M', '1,002k', '579k', '983k', '200k', '101k', '90M', '393k', '648k', '527k', '6.6M', '4.5M', '414k', '557k', '3.4k', '118M', '589k', '210M', '45k', '365k', '326k', '1,006k', '628k', '70M', '742k', '384k', '606k', '332k', '679k', '30M', '6.8M', '113M', '476k', '617k', '952k', '182M', '996k', '227M', '454k', '556k', '748k', '6.2M', '8.0M', '24k', '826k', '165k', '383k', '532k', '138k', '724k', '434k', '404k', '846k', '169k', '841k', '221M', '277M', '84M', '205k', '515k', '561k', '744k', '367k', '99k', '294k', '120M', '629k', '282k', '924k', '505k', '652k', '78k', '709k', '792k', '10k', '571k', '2.7M', '75M', '96M', '512k', '233k', '784k', '216M', '196k', '145k', '926k', '149k', '1,011k', '7.6M', '2.6M', '253k', '173M', '129k', '851k', '375k', '197k', '399k', '584k', '576k', '321k', '54k', '160M', '1,020M', '954M', '51M', '73M', '587k', '175M', '119k', '64M', '8.8M', '257k', '130M', '140k', '822k', '516k', '776k', '870k', '327k', '324M', '171k', '420M', '805k', '165M', '250M', '235k', '283k', '409k', '91k', '660k', '518k', '668k', '82M', '745k', '879k', '132k', '219k', '195k', '921k', '855k', '8.5k', '102k', '986k', '889k', '50k', '98k', '819k', '62M', '61M', '159M', '251k', '893k', '746k', '612k', '337k', '651k', '128k', '7.8k', '44M', '5.8M', '801k', '563k', '663k', '11k', '961k', '771k', '112k', '345k', '194k', '543k', '572k', '322k', '258M', '714k', 'Varies with device', '506k', '318k', '608k', '268k', '43k', '4.7M', '494k', '179M', '264M', '91M', '117k', '523k', '312k', '636k', '820k', '314k', '653k', '1.5M', '343k', '107M', '248M', '336k', '410k', '13k', '324k', '910k', '447M', '1,019k', '79k', '166M', '258k', '520k', '266M', '249k', '222k', '277k', '482k', '192M', '347k', '2.1M', '710k', '189M', '857k', '211k', '20k', '633k', '307k', '652M', '125k', '163k', '268M', '412M', '837k', '854k', '348k', '2.0M', '8.1M', '40M', '897k', '113k', '306k', '698k', '282M', '104M', '774k', '817k', '450k', '908k', '137k', '289k', '789k', '948k', '425k', '480k', '20M', '2.2M', '17M', '136k', '810k', '123k', '630k', '942k', '733k', '677k', '10.0k', '297M', '98M', '935k', '250k', '31k', '507k', '940k', '401k', '641k', '1,008k', '171M', '982k', '167k', '783k', '187k', '640k', '576M', '92M', '901k', '726k', '264k', '279k', '391k', '680k', '493M', '5.5M', '531M', '143M', '127M', '170M', '81k', '71k', '912k', '959k', '994k', '49k', '493k', '348M', '755k', '400k', '928M', '432k', '583k', '874k', '414M', '960k', '991k', '634k', '1,021k', '621k', '718k', '441k', '412k', '226M', '517k', '3.5M', '29M', '147M', '4.1M', '54M', '150M', '266k', '199k', '645k', '108k', '967k', '155M', '153k', '79M', '667k', '694k', '406k', '930k', '161k', '302k', '9.4M', '236k', '892k', '418k', '408k', '596k', '221k', '273k', '993k', '70k', '87k', '245M', '9.8M', '150k', '483k', '858k', '251M', '146k', '473k', '752k', '638k', '23M', '9.2M', '229k', '128M', '477k', '360k', '353k', '780k', '396k', '546k', '590k', '201k', '204k', '2.4M', '196M', '732k', '313k', '522k', '4.2M', '83M', '94M', '331k', '799k', '902k', '219M', '94k', '131k', '534k', '464k', '2.3M', '209M', '861k', '782k', '689k', '448M', '31M', '57M', '511k', '16M', '121M', '696k', '13M', '963k', '255k', '525k', '284k', '300k', '778k', '693k', '203M', '430k', '85M', '185k', '235M', '186M', '261M', '928k', '228k', '420k', '83k', '53k', '74k', '295k', '684k', '110M', '354k', '800k', '84k', '355k', '840k', '9.7M', '966k', '390k', '895k', '320k', '769k', '672k', '701k', '530k', '370k', '669k', '225M', '600k', '134M', '890k', '903k', '456M', '28M', '453k', '831k', '486k', '547k', '711k', '19M', '7.5M', '162M', '818k', '939k', '444k', '540k', '40k', '371k', '225k', '22M', '111M', '727k', '17k', '466k', '594k', '272M', '474k', '159k', '654k', '635k', '832M', '153M', '717k', '220k', '337M', '422k', 'USD', '816k', '211M', '3.3M', '760k', '802k', '181M', '611k', '655k', '56k', '255M', '363k', '6.0M', '14M', '359k', '737k', '32k', '460k', '208k', '686k', '233M', '447k', '274k', '723k', '478k', '706k', '875k', '231k', '565M', '703k', '829k', '313M', '7.0M', '22k', '497k', '998k', '224k', '934k', '335k', '459k', '751k', '148k', '1,003k', '294M', '27M', '588k', '256k', '692k', '763k', '299k', '504k', '207M', '428k', '488k', '261k', '316k', '824k', '597k', '388k', '41M', '329k', '387k', '174k', '1,016k', '3.1M', '139M', '813k', '244k', '402k', '491k', '707k', '470k', '376k', '256M', '242k', '528k', '108M', '843k', '100k', '603k', '10M', '378k', '47k', '85k', '210k', '276k', '265M', '734k', '690M', '764k', '319k', '262M', '144k', '93k', '47M', '985M', '886k', '815k', '132M', '937k', '332M', '204M', '270M', '93M', '55M', '877k', '239k', '995k', '369k', '293k', '469k', '3.7M', '42M', '631k', '121k', '187M', '380k', '6.1k', '8.7M', '158k', '310k', '308k', '36M', '18k', '595k', '514k', '513k', '105k', '45M', '389k', '107k', '646k', '423k', '139k', '7.1k', '344M', '229M', '300M', '299M', '223M', '578M', '7.2k', '303M', '257M', '868M', '279M', '869k', '359M', '495M', '267M', '567M', '240M', '340k', '312M', '550M', '818M', '232M', '246M', '291M', '372M', '9.8k', '236M', '217M', '684M', '6.8k', '351M', '518M', '331M', '319M', '286M', '555k', '407M', '311M', '385M', '935M', '260M', '322M', '900M', '895M', '491M', '676M', '9.5k', '591M', '361M', '263M', '353M', '485M', '247M', '283M', '317M', '363M', '220M', '418M', '445M', '784M', '222M', '762M', '579M', '649M', '346M', '309M', '8.7k', '323M', '328M', '242M', '564M', '460M', '595M', '321M', '904M', '843M', '8.9k', '1.0G', '345M', '281M', '375M', '9.7k', '438k', '7.4k', '7.6k', '411M', '426M', '639M', '409M', '318M', '396M', '680M', '5.8k', '415M', '377M', '953M', '371M', '271M', '606M', '457M', '544M', '273M', '454M', '566M', '421M', '611M', '765M', '296M', '292M', '963M', '514M', '390M', '6.9k', '347M', '896M', '289M', '664M', '9.1k', '381M', '387M', '310M', '437M', '940M', '468M', '9.9k', '352M', '878M', '327M', '510M', '379M', '366M', '646M', '369M', '869M', '488M', '503M', '340M', '745M', '397M', '465M', '259M', '977M', '619M', '301M', '373M', '981M', '355M', '424M', '329M', '705M', '269M', '7.7k', '527M', '302M', '889M', '570M', '526M', '623M', '590M', '408M', '440M', '593M', '278M', '844M', '315M', '959M', '9.3k', '568M', '580M', '521M', '725M', '700M', '5.1k', '382M', '744M', '910M', '712M', '5.3k', '429M', '404M', '962M', '461M', '512M', '354M', '442M', '8.3k', '830M', '541M', '737M', '581M', '799M', '406M', '691M', '356M', '431M', '3.2k', '810M', '342M', '365M', '533M', '370M', '405M', '720M', '914M', '692M', '394M', '839M', '996M', 'True', '769M', '334M', '6.2k', '349M', '633M', '305M', '470M', '532M']\n"
     ]
    }
   ],
   "source": [
    "# Get the unique values of the 'size' column\n",
    "unique_sizes = df.select('size').distinct().collect()\n",
    "\n",
    "# Convert the unique values to a list\n",
    "unique_sizes_list = [row['size'] for row in unique_sizes]\n",
    "\n",
    "# Print the unique values\n",
    "print(unique_sizes_list)\n"
   ]
  },
  {
   "cell_type": "markdown",
   "id": "ad8e46ad-9612-46d7-a0bb-c030b4bb0825",
   "metadata": {},
   "source": [
    "# Observations :\n",
    "\n",
    "1. We have varies Categories in the Content Rating Columns:\n",
    "   - Everyone\n",
    "   - Teen\n",
    "   - Mature 17+\n",
    "   - Everyone\n",
    "   - Unrated\n",
    "   - Adults only 18+\n",
    "\n",
    "Now, we makes this Categories to a simple 3 Categories for better Understanding:\n",
    "Everyone, teen, Adults\n",
    "  - Mature 17+ ---> to Adults\n",
    "  - Everyone 10+ ---> to TEEN\n",
    "  - Unrated ---> to Everyone\n",
    "  - Adults only 18+ ---> to Adults"
   ]
  },
  {
   "cell_type": "code",
   "execution_count": 33,
   "id": "e8765e40-ae27-48a0-8a54-0e62d37b7518",
   "metadata": {},
   "outputs": [
    {
     "name": "stdout",
     "output_type": "stream",
     "text": [
      "+---------------+--------------------+-----------------+------------+--------+----------------+----------------+----+-----+--------+----+--------------------+-------------------+--------------+------------+----------------+\n",
      "|       category|            app_name|           rating|rating_count|installs|minimum_installs|maximum_installs|free|price|currency|size|            released|       last_updated|content_rating|ad_supported|in_app_purchases|\n",
      "+---------------+--------------------+-----------------+------------+--------+----------------+----------------+----+-----+--------+----+--------------------+-------------------+--------------+------------+----------------+\n",
      "|   Quick notes\"| \"\"\"Gom Day\"\" - Memo|com.migom.gomharu|       Tools|       0|               0|             10+|  10|   15|    True|   0|https://gomapps.b...|migomapps@gmail.com|  Nov 14, 2018|    Everyone|            null|\n",
      "|Auto & Vehicles|           CarsNI.uk|              0.0|           0|     500|             500|             963|True|    0|     USD|1.4M|         Dec 1, 2017|       Feb 24, 2018|      Everyone|        True|           False|\n",
      "|Auto & Vehicles|   TaxiClub - Driver|              4.3|         107|    5000|            5000|            6093|True|    0|     USD| 11M|        Apr 27, 2018|       May 18, 2021|      Everyone|       False|           False|\n",
      "|Auto & Vehicles|Motorcycle Practi...|              4.5|          51|    5000|            5000|            5334|True|    0|     USD| 11M|        Jul 25, 2019|       Apr 28, 2020|      Everyone|        True|            True|\n",
      "|Auto & Vehicles| Appok Truck booking|              0.0|           0|      50|              50|              84|True|    0|     USD| 14M|        Feb 26, 2018|       Mar 17, 2018|      Everyone|       False|           False|\n",
      "|Auto & Vehicles|         EasyDrive24|              2.5|         244|   10000|           10000|           30593|True|    0|     USD| 20M|        Dec 27, 2019|       Apr 27, 2021|      Everyone|       False|           False|\n",
      "|Auto & Vehicles|             Elec2go|              2.6|           8|    1000|            1000|            1929|True|    0|     USD| 20M|         May 3, 2019|       Nov 30, 2020|      Everyone|       False|           False|\n",
      "|Auto & Vehicles|VoomVoom - car en...|              2.9|         991|  100000|          100000|          276357|True|    0|     USD|218M|        Mar 14, 2018|       May 22, 2021|      Everyone|       False|            True|\n",
      "|Auto & Vehicles|   Такси Экипаж Ялта|              1.9|           8|     500|             500|             553|True|    0|     USD| 22M|        Mar 29, 2019|       Mar 29, 2019|      Everyone|       False|           False|\n",
      "|Auto & Vehicles|           자동차114|              0.0|           0|     100|             100|             158|True|    0|     USD|3.0M|         Apr 6, 2020|       Apr 08, 2020|      Everyone|       False|           False|\n",
      "|Auto & Vehicles|  Kodiak Performance|              0.0|           0|      10|              10|              14|True|    0|     USD|3.4M|        Mar 25, 2021|       Jun 03, 2021|      Everyone|       False|           False|\n",
      "|Auto & Vehicles|Kumpulan Modikasi...|              0.0|           0|    1000|            1000|            1011|True|    0|     USD|3.4M|         May 2, 2019|       Aug 30, 2019|      Everyone|        True|           False|\n",
      "|Auto & Vehicles|ELVITEN Digital C...|              0.0|           0|     100|             100|             356|True|    0|     USD| 30M|        Mar 12, 2019|       Feb 13, 2020|      Everyone|       False|           False|\n",
      "|Auto & Vehicles|      Cotação Online|              0.0|           0|      10|              10|              32|True|    0|     USD|6.8M|        Oct 17, 2018|       Dec 10, 2018|      Everyone|       False|           False|\n",
      "|Auto & Vehicles|Metior OBD2 for E...|              3.7|          26|    5000|            5000|            5121|True|    0|     USD|7.8M|        Aug 30, 2020|       Mar 13, 2021|      Everyone|        True|            True|\n",
      "|Auto & Vehicles|   Dick’s Auto Group|              5.0|          13|     500|             500|             671|True|    0|     USD| 10M|        Nov 13, 2019|       Nov 13, 2020|      Everyone|       False|           False|\n",
      "|Auto & Vehicles|Directed Telemati...|              0.0|           0|      50|              50|              64|True|    0|     USD| 12M|        Jun 14, 2017|       Apr 08, 2021|      Everyone|       False|           False|\n",
      "|Auto & Vehicles|Where is my vehic...|              3.9|           7|     100|             100|             230|True|    0|     USD| 13M|        Sep 12, 2019|       Sep 12, 2019|      Everyone|       False|           False|\n",
      "|Auto & Vehicles|            Rio Taxi|              4.0|          23|    1000|            1000|            3472|True|    0|     USD| 17M|        Apr 22, 2020|       Apr 22, 2020|      Everyone|       False|           False|\n",
      "|Auto & Vehicles|            WinTrace|              0.0|           0|     500|             500|             659|True|    0|     USD| 22M|         Apr 7, 2020|       Dec 09, 2020|      Everyone|       False|           False|\n",
      "+---------------+--------------------+-----------------+------------+--------+----------------+----------------+----+-----+--------+----+--------------------+-------------------+--------------+------------+----------------+\n",
      "only showing top 20 rows\n",
      "\n"
     ]
    }
   ],
   "source": [
    "from pyspark.sql.functions import when\n",
    "\n",
    "# Replace \"Unrated\" with \"Everyone\"\n",
    "df = df.withColumn(\"content_rating\", when(df[\"content_rating\"] == \"Unrated\", \"Everyone\").otherwise(df[\"content_rating\"]))\n",
    "\n",
    "# Replace \"Everyone 10+\" with \"Teen\"\n",
    "df = df.withColumn(\"content_rating\", when(df[\"content_rating\"] == \"Everyone 10+\", \"Teen\").otherwise(df[\"content_rating\"]))\n",
    "\n",
    "# Replace \"Mature 17+\" with \"Adults\"\n",
    "df = df.withColumn(\"content_rating\", when(df[\"content_rating\"] == \"Mature 17+\", \"Adults\").otherwise(df[\"content_rating\"]))\n",
    "\n",
    "# Replace \"Adults only 18+\" with \"Adults\"\n",
    "df = df.withColumn(\"content_rating\", when(df[\"content_rating\"] == \"Adults only 18+\", \"Adults\").otherwise(df[\"content_rating\"]))\n",
    "\n",
    "# Show the updated DataFrame\n",
    "df.show()\n"
   ]
  },
  {
   "cell_type": "code",
   "execution_count": 34,
   "id": "19ba4305-4d98-4a97-9f20-5fec8b85c9b5",
   "metadata": {},
   "outputs": [
    {
     "name": "stdout",
     "output_type": "stream",
     "text": [
      "['Apr 16, 2019', 'Teen', 'May 08, 2019', 'bok@yanosik.pl', 'Apr 06, 2021', 'May 19, 2021', 'Dec 18, 2019', 'Mar 05, 2018', 'May 22, 2019', 'Everyone', 'May 21, 2020', 'Nov 02, 2020', 'Adults', 'Sep 23, 2019', 'Dec 25, 2020', 'Oct 22, 2016', 'Sep 24, 2017', 'Dec 14, 2019', 'Feb 25, 2021', 'Apr 12, 2019', 'Apr 11, 2019', 'Mar 22, 2021', 'Dec 24, 2019', 'May 16, 2018', 'Jun 24, 2020', 'Nov 14, 2018', 'Sep 26, 2018', 'Jun 27, 2017', 'May 09, 2018', 'Dec 19, 2019', 'Dec 20, 2019', 'May 09, 2019', 'Jul 15, 2018', 'May 21, 2017', 'Jan 5, 2021', 'May 20, 2021', 'Jan 25, 2020', 'Sep 30, 2018', 'May 10, 2017', 'Jun 14, 2021', 'Jul 31, 2017', 'Sep 16, 2020', 'Apr 20, 2021', 'Jul 15, 2020']\n"
     ]
    }
   ],
   "source": [
    "# Get the unique values of the 'content_rating' column\n",
    "unique_content_ratings = df.select('content_rating').distinct().collect()\n",
    "\n",
    "# Convert the unique values to a list\n",
    "unique_content_ratings_list = [row['content_rating'] for row in unique_content_ratings]\n",
    "\n",
    "# Print the unique values\n",
    "print(unique_content_ratings_list)\n"
   ]
  },
  {
   "cell_type": "code",
   "execution_count": 35,
   "id": "feaf0737-3f73-4dd2-b4cc-5089f8981e9b",
   "metadata": {},
   "outputs": [
    {
     "name": "stdout",
     "output_type": "stream",
     "text": [
      "+---------------+--------------------+-----------------+------------+--------+----------------+----------------+-----+--------+----+--------------------+-------------------+--------------+------------+----------------+----+\n",
      "|       category|            app_name|           rating|rating_count|installs|minimum_installs|maximum_installs|price|currency|size|            released|       last_updated|content_rating|ad_supported|in_app_purchases|type|\n",
      "+---------------+--------------------+-----------------+------------+--------+----------------+----------------+-----+--------+----+--------------------+-------------------+--------------+------------+----------------+----+\n",
      "|   Quick notes\"| \"\"\"Gom Day\"\" - Memo|com.migom.gomharu|       Tools|       0|               0|             10+|   15|    True|   0|https://gomapps.b...|migomapps@gmail.com|  Nov 14, 2018|    Everyone|            null|Paid|\n",
      "|Auto & Vehicles|           CarsNI.uk|              0.0|           0|     500|             500|             963|    0|     USD|1.4M|         Dec 1, 2017|       Feb 24, 2018|      Everyone|        True|           False|Free|\n",
      "|Auto & Vehicles|   TaxiClub - Driver|              4.3|         107|    5000|            5000|            6093|    0|     USD| 11M|        Apr 27, 2018|       May 18, 2021|      Everyone|       False|           False|Free|\n",
      "|Auto & Vehicles|Motorcycle Practi...|              4.5|          51|    5000|            5000|            5334|    0|     USD| 11M|        Jul 25, 2019|       Apr 28, 2020|      Everyone|        True|            True|Free|\n",
      "|Auto & Vehicles| Appok Truck booking|              0.0|           0|      50|              50|              84|    0|     USD| 14M|        Feb 26, 2018|       Mar 17, 2018|      Everyone|       False|           False|Free|\n",
      "|Auto & Vehicles|         EasyDrive24|              2.5|         244|   10000|           10000|           30593|    0|     USD| 20M|        Dec 27, 2019|       Apr 27, 2021|      Everyone|       False|           False|Free|\n",
      "|Auto & Vehicles|             Elec2go|              2.6|           8|    1000|            1000|            1929|    0|     USD| 20M|         May 3, 2019|       Nov 30, 2020|      Everyone|       False|           False|Free|\n",
      "|Auto & Vehicles|VoomVoom - car en...|              2.9|         991|  100000|          100000|          276357|    0|     USD|218M|        Mar 14, 2018|       May 22, 2021|      Everyone|       False|            True|Free|\n",
      "|Auto & Vehicles|   Такси Экипаж Ялта|              1.9|           8|     500|             500|             553|    0|     USD| 22M|        Mar 29, 2019|       Mar 29, 2019|      Everyone|       False|           False|Free|\n",
      "|Auto & Vehicles|           자동차114|              0.0|           0|     100|             100|             158|    0|     USD|3.0M|         Apr 6, 2020|       Apr 08, 2020|      Everyone|       False|           False|Free|\n",
      "|Auto & Vehicles|  Kodiak Performance|              0.0|           0|      10|              10|              14|    0|     USD|3.4M|        Mar 25, 2021|       Jun 03, 2021|      Everyone|       False|           False|Free|\n",
      "|Auto & Vehicles|Kumpulan Modikasi...|              0.0|           0|    1000|            1000|            1011|    0|     USD|3.4M|         May 2, 2019|       Aug 30, 2019|      Everyone|        True|           False|Free|\n",
      "|Auto & Vehicles|ELVITEN Digital C...|              0.0|           0|     100|             100|             356|    0|     USD| 30M|        Mar 12, 2019|       Feb 13, 2020|      Everyone|       False|           False|Free|\n",
      "|Auto & Vehicles|      Cotação Online|              0.0|           0|      10|              10|              32|    0|     USD|6.8M|        Oct 17, 2018|       Dec 10, 2018|      Everyone|       False|           False|Free|\n",
      "|Auto & Vehicles|Metior OBD2 for E...|              3.7|          26|    5000|            5000|            5121|    0|     USD|7.8M|        Aug 30, 2020|       Mar 13, 2021|      Everyone|        True|            True|Free|\n",
      "|Auto & Vehicles|   Dick’s Auto Group|              5.0|          13|     500|             500|             671|    0|     USD| 10M|        Nov 13, 2019|       Nov 13, 2020|      Everyone|       False|           False|Free|\n",
      "|Auto & Vehicles|Directed Telemati...|              0.0|           0|      50|              50|              64|    0|     USD| 12M|        Jun 14, 2017|       Apr 08, 2021|      Everyone|       False|           False|Free|\n",
      "|Auto & Vehicles|Where is my vehic...|              3.9|           7|     100|             100|             230|    0|     USD| 13M|        Sep 12, 2019|       Sep 12, 2019|      Everyone|       False|           False|Free|\n",
      "|Auto & Vehicles|            Rio Taxi|              4.0|          23|    1000|            1000|            3472|    0|     USD| 17M|        Apr 22, 2020|       Apr 22, 2020|      Everyone|       False|           False|Free|\n",
      "|Auto & Vehicles|            WinTrace|              0.0|           0|     500|             500|             659|    0|     USD| 22M|         Apr 7, 2020|       Dec 09, 2020|      Everyone|       False|           False|Free|\n",
      "+---------------+--------------------+-----------------+------------+--------+----------------+----------------+-----+--------+----+--------------------+-------------------+--------------+------------+----------------+----+\n",
      "only showing top 20 rows\n",
      "\n"
     ]
    }
   ],
   "source": [
    "from pyspark.sql.functions import when\n",
    "\n",
    "# Create a new column 'type' based on the value of the 'free' column\n",
    "df = df.withColumn('type', when(df['free'] == True, 'Free').otherwise('Paid'))\n",
    "\n",
    "# Drop the 'free' column\n",
    "df = df.drop('free')\n",
    "\n",
    "# Show the updated DataFrame\n",
    "df.show()\n"
   ]
  },
  {
   "cell_type": "code",
   "execution_count": 36,
   "id": "ad551865-b205-4771-a7a6-232809a44fee",
   "metadata": {},
   "outputs": [
    {
     "name": "stdout",
     "output_type": "stream",
     "text": [
      "['3.1201711319960714', '1.0', '2.6', '3.1', '2.1225496382298483', '4.2', 'Entertainment', '2.8789000849823982', ' camera\"', '2.7060391425908645', '4.4', '2.7', '3.8', '1.7', '1.4390768776205152', '2.9', '4.5', '2.4835674025364036', '2.4', '2.5', '4.9', '2.398921508525762', '3.4', '1.6', '1.8369481457697867', '0.0', '2.4232731137088206', '2.2248140276301784', '2.662008206613565', '1.9303731254564438', '3.3', '1.8', '3.210887167752153', 'com.menshchyna.android', 'com.app.aziuyr', '4.3', '3.5', '2.2268082050884095', '4.8', '2.3155384582686853', '4.1', '2.450480960783204', '1.9211517115171188', '1.4', '2.2468416618705507', 'Educational', '3.0851603281133473', '4.6', '5.0', '2.519764878765612', 'Social', '1.485380653354971', 'Shopping', 'Productivity', '4.0', '1.9', '1.3', 'com.andromo.dev807396.app1066982', '1.6237962637868204', '2.4252091115803154', '3.6', '1.5', '2.8', '2.049612834939554', '1.8480025244556608', '3.2796822244289974', 'Business', '2.0', '2.9602338606662086', '3.2', '2.2', '2.4030697214540657', 'Books & Reference', '3.7', '1.2708086785009876', '2.4672017580757295', '2.688332537598473', '1.1', '2.4354052030558417', '4.7', '2.3', 'Board', '2.451605397859471', '1.9378527607361993', '3.0', '2.1', '2.4376389020799687', '2.3460928365147664', '1.2', '1.2945984586476398', '3.9', 'Education', 'com.migom.gomharu', '3.3844982913948454', 'Racing', '1.9523542844715096', 'kr.manse.catdog', '2.902076246334311', 'com.ksmps.cricketalpha', '2.526178458379673', '2.814991003642422', 'com.hamada.anal7l7', 'Food & Drink', 'Finance', 'News & Magazines', 'com.heliconia.estudio']\n"
     ]
    }
   ],
   "source": [
    "# Get the unique values of the 'rating' column\n",
    "unique_ratings = df.select('rating').distinct().collect()\n",
    "\n",
    "# Convert the unique values to a list\n",
    "unique_ratings_list = [row['rating'] for row in unique_ratings]\n",
    "\n",
    "# Print the unique values\n",
    "print(unique_ratings_list)\n"
   ]
  },
  {
   "cell_type": "code",
   "execution_count": 37,
   "id": "18aba738-2a9a-450e-b9c7-f05029b59837",
   "metadata": {},
   "outputs": [
    {
     "name": "stdout",
     "output_type": "stream",
     "text": [
      "Maximum rating count: pl.neptis.yanosik.mobi.android\n"
     ]
    }
   ],
   "source": [
    "from pyspark.sql import functions as F\n",
    "\n",
    "# Calculate the maximum value in the 'rating_count' column\n",
    "max_rating_count = df.agg(F.max('rating_count')).collect()[0][0]\n",
    "\n",
    "# Print the maximum value\n",
    "print(\"Maximum rating count:\", max_rating_count)\n"
   ]
  },
  {
   "cell_type": "code",
   "execution_count": 38,
   "id": "1ec2732c-7b55-41d2-8f3e-c658d5091b9c",
   "metadata": {},
   "outputs": [
    {
     "name": "stdout",
     "output_type": "stream",
     "text": [
      "+--------------------+-------+\n",
      "|         rating_type|  count|\n",
      "+--------------------+-------+\n",
      "|       Less than 10k|1167478|\n",
      "|    NoRatingProvided|1038318|\n",
      "|Between 10k and 500k|  34464|\n",
      "|      More than 500k|   1590|\n",
      "+--------------------+-------+\n",
      "\n"
     ]
    }
   ],
   "source": [
    "from pyspark.sql.functions import when\n",
    "\n",
    "# Create a new column 'rating_type' with default value 'NoRatingProvided'\n",
    "df = df.withColumn('rating_type', F.lit('NoRatingProvided'))\n",
    "\n",
    "# Update 'rating_type' based on conditions\n",
    "df = df.withColumn('rating_type',\n",
    "                   when((df['rating_count'] > 0) & (df['rating_count'] <= 10000.0), 'Less than 10k')\n",
    "                   .when((df['rating_count'] > 10000) & (df['rating_count'] <= 500000.0), 'Between 10k and 500k')\n",
    "                   .when((df['rating_count'] > 500000) & (df['rating_count'] <= 138557570.0), 'More than 500k')\n",
    "                   .otherwise(df['rating_type']))\n",
    "\n",
    "# Group by 'rating_type' and count occurrences\n",
    "rating_type_counts = df.groupBy('rating_type').count().orderBy('count', ascending=False)\n",
    "\n",
    "# Show the counts\n",
    "rating_type_counts.show()\n"
   ]
  },
  {
   "cell_type": "code",
   "execution_count": 39,
   "id": "2107a154-dc8b-444e-aa65-acc4fc31e88d",
   "metadata": {},
   "outputs": [
    {
     "name": "stdout",
     "output_type": "stream",
     "text": [
      "+----------------+\n",
      "|     rating_type|\n",
      "+----------------+\n",
      "|NoRatingProvided|\n",
      "|NoRatingProvided|\n",
      "|NoRatingProvided|\n",
      "|   Less than 10k|\n",
      "|   Less than 10k|\n",
      "|NoRatingProvided|\n",
      "|NoRatingProvided|\n",
      "|NoRatingProvided|\n",
      "|NoRatingProvided|\n",
      "|NoRatingProvided|\n",
      "|   Less than 10k|\n",
      "|   Less than 10k|\n",
      "|NoRatingProvided|\n",
      "|   Less than 10k|\n",
      "|   Less than 10k|\n",
      "|NoRatingProvided|\n",
      "|   Less than 10k|\n",
      "|   Less than 10k|\n",
      "|   Less than 10k|\n",
      "|NoRatingProvided|\n",
      "+----------------+\n",
      "only showing top 20 rows\n",
      "\n"
     ]
    }
   ],
   "source": [
    "# Select the 'rating_type' column\n",
    "rating_type_column = df.select('rating_type')\n",
    "\n",
    "# Show the values of the 'rating_type' column\n",
    "rating_type_column.show()\n"
   ]
  },
  {
   "cell_type": "code",
   "execution_count": 40,
   "id": "c27d5d32-4514-47d3-83c5-99f9d17434db",
   "metadata": {},
   "outputs": [
    {
     "name": "stdout",
     "output_type": "stream",
     "text": [
      "+---------------+--------------------+-----------------+------------+--------+----------------+----------------+-----+--------+------+--------------------+-------------------+--------------+------------+----------------+----+\n",
      "|       category|            app_name|           rating|rating_count|installs|minimum_installs|maximum_installs|price|currency|  size|            released|       last_updated|content_rating|ad_supported|in_app_purchases|type|\n",
      "+---------------+--------------------+-----------------+------------+--------+----------------+----------------+-----+--------+------+--------------------+-------------------+--------------+------------+----------------+----+\n",
      "|   Quick notes\"| \"\"\"Gom Day\"\" - Memo|com.migom.gomharu|       Tools|       0|               0|             10+|   15|    True|     0|https://gomapps.b...|migomapps@gmail.com|  Nov 14, 2018|    Everyone|            null|Paid|\n",
      "|Auto & Vehicles| Parque Movil DipCas|              0.0|           0|     100|             100|             108|    0|     USD|1,017k|         Jun 5, 2018|       May 27, 2021|      Everyone|       False|           False|Free|\n",
      "|Auto & Vehicles|      Misfat Catalog|              4.5|          36|    5000|            5000|            6408|    0|     USD|  1.0M|        Jun 12, 2015|       Jul 05, 2015|      Everyone|       False|           False|Free|\n",
      "|Auto & Vehicles|  YAMAHA STSJ ONLINE|              4.2|          33|   10000|           10000|           11974|    0|     USD|  1.0M|         Jun 9, 2018|       Jun 09, 2018|      Everyone|       False|           False|Free|\n",
      "|Auto & Vehicles|My EV App - EV Tr...|              0.0|           0|      10|              10|              24| 0.99|     USD|  1.0M|         Nov 5, 2017|       Nov 05, 2017|      Everyone|       False|           False|Paid|\n",
      "|Auto & Vehicles|  Premier Coach Limo|              0.0|           0|       1|               1|               1|    0|     USD|  1.1M|        Apr 12, 2019|       Apr 12, 2019|      Everyone|       False|           False|Free|\n",
      "|Auto & Vehicles|Biluppgifter / Hi...|              4.2|        1278|  100000|          100000|          409252|    0|     USD|  1.1M|        Apr 12, 2019|       Mar 16, 2016|      Everyone|       False|           False|Free|\n",
      "|Auto & Vehicles|             D-KURIR|              0.0|           0|     100|             100|             122|    0|     USD|  1.1M|         Apr 4, 2020|       Apr 05, 2020|      Everyone|       False|           False|Free|\n",
      "|Auto & Vehicles|             Zerowet|              0.0|           0|      10|              10|              17|    0|     USD|  1.1M|        Feb 16, 2021|       Apr 27, 2021|      Everyone|       False|           False|Free|\n",
      "|Auto & Vehicles|            MimicsG4|              0.0|           0|     100|             100|             375|    0|     USD|  1.1M|        Feb 22, 2017|       Jul 18, 2018|      Everyone|       False|           False|Free|\n",
      "|Auto & Vehicles| 스마트링크 차량관제|              3.1|          17|   10000|           10000|           11246|    0|     USD|  1.1M|        Jul 21, 2019|       Dec 16, 2020|      Everyone|       False|           False|Free|\n",
      "|Auto & Vehicles|             KIA-KSA|              5.0|          10|     500|             500|             724|    0|     USD|  1.1M|        Jul 29, 2020|       Jul 31, 2020|      Everyone|       False|           False|Free|\n",
      "|Auto & Vehicles|Tunnel - theme fo...|              3.2|          21|    1000|            1000|            1697| 1.99|     USD|  1.1M|         Mar 4, 2020|       Mar 04, 2020|      Everyone|       False|           False|Paid|\n",
      "|Auto & Vehicles|         iTrack Live|              0.0|           0|    1000|            1000|            1811|    0|     USD|  1.1M|        May 14, 2020|       May 14, 2020|      Everyone|       False|           False|Free|\n",
      "|Auto & Vehicles|              FindMe|              3.6|          17|    1000|            1000|            1129|    0|     USD|  1.2M|        Apr 17, 2020|       Apr 17, 2020|      Everyone|       False|           False|Free|\n",
      "|Auto & Vehicles|    SCG Rastreamento|              0.0|           0|     100|             100|             178|    0|     USD|  1.2M|        Apr 18, 2017|       Apr 19, 2017|      Everyone|       False|           False|Free|\n",
      "|Auto & Vehicles|        Cfdt Renault|              0.0|           0|      10|              10|              22|    0|     USD|  1.2M|         Apr 2, 2020|       Apr 17, 2020|      Everyone|       False|           False|Free|\n",
      "|Auto & Vehicles|Draft Survey for ...|              4.4|          36|   10000|           10000|           18259|    0|     USD|  1.2M|        Apr 27, 2017|       Jun 12, 2017|      Everyone|       False|           False|Free|\n",
      "|Auto & Vehicles|           OwnCarLog|              0.0|           0|      10|              10|              30|    0|     USD|  1.2M|        Aug 20, 2017|       Aug 27, 2017|      Everyone|       False|           False|Free|\n",
      "|Auto & Vehicles|     Albiero Móviles|              5.0|           8|      50|              50|              56|    0|     USD|  1.2M|        Dec 24, 2019|       Dec 20, 2019|      Everyone|       False|           False|Free|\n",
      "+---------------+--------------------+-----------------+------------+--------+----------------+----------------+-----+--------+------+--------------------+-------------------+--------------+------------+----------------+----+\n",
      "only showing top 20 rows\n",
      "\n"
     ]
    }
   ],
   "source": [
    "# Drop the 'rating_type' column\n",
    "df = df.drop('rating_type')\n",
    "\n",
    "# Show the updated DataFrame\n",
    "df.show()\n"
   ]
  },
  {
   "cell_type": "code",
   "execution_count": 41,
   "id": "1b63ffdd-fd60-462b-8b30-2e7886dfe01e",
   "metadata": {},
   "outputs": [
    {
     "name": "stdout",
     "output_type": "stream",
     "text": [
      "+--------+--------+------+------------+--------+----------------+----------------+-----+--------+----+--------+------------+--------------+------------+----------------+----+\n",
      "|category|app_name|rating|rating_count|installs|minimum_installs|maximum_installs|price|currency|size|released|last_updated|content_rating|ad_supported|in_app_purchases|type|\n",
      "+--------+--------+------+------------+--------+----------------+----------------+-----+--------+----+--------+------------+--------------+------------+----------------+----+\n",
      "|       0|       0|     0|           0|      13|               0|               0|    0|       0|   0|       0|           0|             0|           4|               2|   0|\n",
      "+--------+--------+------+------------+--------+----------------+----------------+-----+--------+----+--------+------------+--------------+------------+----------------+----+\n",
      "\n"
     ]
    }
   ],
   "source": [
    "# printing null values in the table \n",
    "from pyspark.sql.functions import col, sum as pyspark_sum\n",
    "\n",
    "# Replace 'df' with your DataFrame\n",
    "null_counts = df.select([pyspark_sum(col(c).isNull().cast(\"int\")).alias(c) for c in df.columns])\n",
    "\n",
    "# Display the null counts\n",
    "null_counts.show()"
   ]
  },
  {
   "cell_type": "code",
   "execution_count": 43,
   "id": "4c31898f-50bc-4a3a-8472-a6d9cdc63a02",
   "metadata": {},
   "outputs": [
    {
     "name": "stdout",
     "output_type": "stream",
     "text": [
      "+---------------+--------------------+------+------------+--------+----------------+----------------+-----+--------+------+------------+------------+--------------+------------+----------------+----+\n",
      "|       category|            app_name|rating|rating_count|installs|minimum_installs|maximum_installs|price|currency|  size|    released|last_updated|content_rating|ad_supported|in_app_purchases|type|\n",
      "+---------------+--------------------+------+------------+--------+----------------+----------------+-----+--------+------+------------+------------+--------------+------------+----------------+----+\n",
      "|Auto & Vehicles| Parque Movil DipCas|   0.0|           0|     100|             100|             108|    0|     USD|1,017k| Jun 5, 2018|May 27, 2021|      Everyone|       False|           False|Free|\n",
      "|Auto & Vehicles|      Misfat Catalog|   4.5|          36|    5000|            5000|            6408|    0|     USD|  1.0M|Jun 12, 2015|Jul 05, 2015|      Everyone|       False|           False|Free|\n",
      "|Auto & Vehicles|  YAMAHA STSJ ONLINE|   4.2|          33|   10000|           10000|           11974|    0|     USD|  1.0M| Jun 9, 2018|Jun 09, 2018|      Everyone|       False|           False|Free|\n",
      "|Auto & Vehicles|My EV App - EV Tr...|   0.0|           0|      10|              10|              24| 0.99|     USD|  1.0M| Nov 5, 2017|Nov 05, 2017|      Everyone|       False|           False|Paid|\n",
      "|Auto & Vehicles|  Premier Coach Limo|   0.0|           0|       1|               1|               1|    0|     USD|  1.1M|Apr 12, 2019|Apr 12, 2019|      Everyone|       False|           False|Free|\n",
      "+---------------+--------------------+------+------------+--------+----------------+----------------+-----+--------+------+------------+------------+--------------+------------+----------------+----+\n",
      "only showing top 5 rows\n",
      "\n"
     ]
    }
   ],
   "source": [
    "# Drop rows with null values\n",
    "df = df.na.drop()\n",
    "\n",
    "# Show the cleaned DataFrame\n",
    "df.show(5) "
   ]
  },
  {
   "cell_type": "code",
   "execution_count": 44,
   "id": "9f64fe5a-2e4a-4edb-9584-d1a9ff4ba830",
   "metadata": {},
   "outputs": [
    {
     "name": "stdout",
     "output_type": "stream",
     "text": [
      "+--------+--------+------+------------+--------+----------------+----------------+-----+--------+----+--------+------------+--------------+------------+----------------+----+\n",
      "|category|app_name|rating|rating_count|installs|minimum_installs|maximum_installs|price|currency|size|released|last_updated|content_rating|ad_supported|in_app_purchases|type|\n",
      "+--------+--------+------+------------+--------+----------------+----------------+-----+--------+----+--------+------------+--------------+------------+----------------+----+\n",
      "|       0|       0|     0|           0|       0|               0|               0|    0|       0|   0|       0|           0|             0|           0|               0|   0|\n",
      "+--------+--------+------+------------+--------+----------------+----------------+-----+--------+----+--------+------------+--------------+------------+----------------+----+\n",
      "\n"
     ]
    }
   ],
   "source": [
    "# printing null values in the table \n",
    "from pyspark.sql.functions import col, sum as pyspark_sum\n",
    "\n",
    "# Replace 'df' with your DataFrame\n",
    "null_counts = df.select([pyspark_sum(col(c).isNull().cast(\"int\")).alias(c) for c in df.columns])\n",
    "\n",
    "# Display the null counts\n",
    "null_counts.show()"
   ]
  },
  {
   "cell_type": "code",
   "execution_count": 45,
   "id": "3fc26eee-17da-404f-8a3f-d4dd5cf979d3",
   "metadata": {},
   "outputs": [
    {
     "name": "stdout",
     "output_type": "stream",
     "text": [
      "Number of rows 2241831\n",
      "Number of columns: 16\n"
     ]
    }
   ],
   "source": [
    "# Count the number of elements in the RDD\n",
    "num_rows = df.count()\n",
    "print(\"Number of rows\",num_rows)\n",
    "# count the number of columns \n",
    "sample_row = df.first()\n",
    "num_columns = len(sample_row)\n",
    "print(\"Number of columns:\", num_columns)"
   ]
  },
  {
   "cell_type": "code",
   "execution_count": 46,
   "id": "d7e5f04b-f641-410e-b647-f6cd4fa52546",
   "metadata": {},
   "outputs": [],
   "source": [
    "# Save the DataFrame as a single CSV file\n",
    "df.coalesce(1).write.csv(\"D:/DBDA Project/new_google.csv\", header=True)"
   ]
  },
  {
   "cell_type": "code",
   "execution_count": 49,
   "id": "cd2b69a2-2fb8-4b2f-a070-f05853a317f7",
   "metadata": {},
   "outputs": [],
   "source": [
    "spark.stop()"
   ]
  },
  {
   "cell_type": "code",
   "execution_count": null,
   "id": "7fb64c43-683b-4c27-a008-94f248ec6bff",
   "metadata": {},
   "outputs": [],
   "source": []
  },
  {
   "cell_type": "code",
   "execution_count": null,
   "id": "18437212-d875-41e3-969b-af7b81fa61da",
   "metadata": {},
   "outputs": [],
   "source": []
  },
  {
   "cell_type": "code",
   "execution_count": null,
   "id": "84263834-e7f7-4400-9571-827618138c67",
   "metadata": {},
   "outputs": [],
   "source": []
  },
  {
   "cell_type": "code",
   "execution_count": null,
   "id": "318cd766-01dd-47ea-992b-935c99dc6069",
   "metadata": {},
   "outputs": [],
   "source": []
  },
  {
   "cell_type": "code",
   "execution_count": null,
   "id": "5e78e992-50a3-49bb-85d6-3e603b3cdd69",
   "metadata": {},
   "outputs": [],
   "source": []
  },
  {
   "cell_type": "code",
   "execution_count": null,
   "id": "1dbcb210-8fa6-4416-8760-c9f34faef73c",
   "metadata": {},
   "outputs": [],
   "source": []
  },
  {
   "cell_type": "code",
   "execution_count": null,
   "id": "ed044ef6-4b7c-4194-bd21-78fc0bbffca9",
   "metadata": {},
   "outputs": [],
   "source": []
  },
  {
   "cell_type": "code",
   "execution_count": null,
   "id": "36953ead-3a7a-48c9-a96b-080bac03ca51",
   "metadata": {},
   "outputs": [],
   "source": []
  },
  {
   "cell_type": "code",
   "execution_count": null,
   "id": "f092964d-36ac-40d2-bae8-1ec780c047cd",
   "metadata": {},
   "outputs": [],
   "source": []
  },
  {
   "cell_type": "code",
   "execution_count": null,
   "id": "c0a0860b-2c8e-4ec2-8bbf-0caac9c07542",
   "metadata": {},
   "outputs": [],
   "source": []
  },
  {
   "cell_type": "code",
   "execution_count": null,
   "id": "4869e767-344c-402b-8bda-ad7a7c6eed08",
   "metadata": {},
   "outputs": [],
   "source": []
  },
  {
   "cell_type": "code",
   "execution_count": null,
   "id": "0fceeaab-edee-4f91-aa86-a0cfcdbeb1da",
   "metadata": {},
   "outputs": [],
   "source": []
  },
  {
   "cell_type": "code",
   "execution_count": null,
   "id": "bae7f50c-4c6a-4cb1-800e-25c326bad094",
   "metadata": {},
   "outputs": [],
   "source": []
  },
  {
   "cell_type": "code",
   "execution_count": null,
   "id": "2506510e-1640-4b2c-96ab-6c6ea7d3cdca",
   "metadata": {},
   "outputs": [],
   "source": []
  },
  {
   "cell_type": "code",
   "execution_count": null,
   "id": "6fb81285-d063-41f6-8d31-3f992de3071a",
   "metadata": {},
   "outputs": [],
   "source": []
  },
  {
   "cell_type": "code",
   "execution_count": null,
   "id": "c996b517-f374-4649-a3d1-d7fe852b46a5",
   "metadata": {},
   "outputs": [],
   "source": []
  },
  {
   "cell_type": "code",
   "execution_count": null,
   "id": "60d121a4-1bd6-4bfc-80c1-aacd11a5a6e8",
   "metadata": {},
   "outputs": [],
   "source": []
  }
 ],
 "metadata": {
  "kernelspec": {
   "display_name": "Python 3 (ipykernel)",
   "language": "python",
   "name": "python3"
  },
  "language_info": {
   "codemirror_mode": {
    "name": "ipython",
    "version": 3
   },
   "file_extension": ".py",
   "mimetype": "text/x-python",
   "name": "python",
   "nbconvert_exporter": "python",
   "pygments_lexer": "ipython3",
   "version": "3.12.0"
  }
 },
 "nbformat": 4,
 "nbformat_minor": 5
}
