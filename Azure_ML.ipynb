{
  "cells": [
    {
      "cell_type": "code",
      "source": [
        "import pandas as pd\n",
        "import numpy as np\n",
        "import matplotlib.pyplot as plt\n",
        "import seaborn as sns"
      ],
      "outputs": [],
      "execution_count": 1,
      "metadata": {
        "gather": {
          "logged": 1708075530272
        }
      }
    },
    {
      "cell_type": "code",
      "source": [
        "df = pd.read_csv(r'https://googleappsanalysis.blob.core.windows.net/googleappsdata/transform-data/apps/part-00000-tid-2343528538542473278-b1beb96b-2dab-454c-8e61-d048105a2cda-701-1-c000.csv', error_bad_lines=False)"
      ],
      "outputs": [
        {
          "output_type": "stream",
          "name": "stderr",
          "text": "b'Skipping line 188391: expected 16 fields, saw 17\\n'\nb'Skipping line 317391: expected 16 fields, saw 18\\n'\nb'Skipping line 374986: expected 16 fields, saw 17\\n'\nb'Skipping line 399585: expected 16 fields, saw 17\\n'\nb'Skipping line 555587: expected 16 fields, saw 18\\n'\nb'Skipping line 590549: expected 16 fields, saw 17\\n'\nb'Skipping line 637664: expected 16 fields, saw 17\\n'\nb'Skipping line 961192: expected 16 fields, saw 17\\nSkipping line 968313: expected 16 fields, saw 17\\nSkipping line 980597: expected 16 fields, saw 17\\n'\nb'Skipping line 1047518: expected 16 fields, saw 17\\n'\nb'Skipping line 1127240: expected 16 fields, saw 17\\nSkipping line 1132179: expected 16 fields, saw 17\\n'\nb'Skipping line 1340344: expected 16 fields, saw 17\\n'\nb'Skipping line 1651007: expected 16 fields, saw 17\\n'\nb'Skipping line 1739424: expected 16 fields, saw 17\\n'\nb'Skipping line 1972331: expected 16 fields, saw 17\\nSkipping line 1974041: expected 16 fields, saw 17\\n'\nb'Skipping line 2114226: expected 16 fields, saw 19\\n'\nb'Skipping line 2238785: expected 16 fields, saw 17\\n'\n"
        }
      ],
      "execution_count": 2,
      "metadata": {
        "jupyter": {
          "source_hidden": false,
          "outputs_hidden": false
        },
        "nteract": {
          "transient": {
            "deleting": false
          }
        },
        "gather": {
          "logged": 1708075540071
        }
      }
    },
    {
      "cell_type": "code",
      "source": [
        "df.head()"
      ],
      "outputs": [
        {
          "output_type": "execute_result",
          "execution_count": 3,
          "data": {
            "text/plain": "   category                                     app_name  rating  \\\n0    Arcade                                  Sticky Ball     4.6   \n1     Tools  Video To Mp3 Converter & Audio-Video Cutter     3.8   \n2    Beauty                                Trevor Sorbie     0.0   \n3  Business                              Uniquely Nelson     0.0   \n4  Shopping                               Ticket  Maniac     0.0   \n\n   rating_count  installs  Minimum_Installs  Maximum_Installs  price Currency  \\\n0            11       100               100               152    0.0      USD   \n1            31     10000             10000             13524    0.0      USD   \n2             0        50                50                95    0.0      USD   \n3             0        10                10                30    0.0      USD   \n4             0       100               100               406    0.0      USD   \n\n   size      Released  Last_Updated content_rating  Ad_Supported  \\\n0   25M   Mar 5, 2018  Mar 26, 2018       Everyone          True   \n1   38M   Jul 3, 2019  Sep 06, 2019       Everyone          True   \n2  5.5M  Dec 13, 2020  Apr 15, 2021       Everyone         False   \n3  1.8M  Apr 15, 2019  May 03, 2019       Everyone         False   \n4  2.1M  Feb 13, 2017  Nov 09, 2017       Everyone          True   \n\n   In_App_Purchases  type  \n0              True  Free  \n1             False  Free  \n2             False  Free  \n3             False  Free  \n4              True  Free  ",
            "text/html": "<div>\n<style scoped>\n    .dataframe tbody tr th:only-of-type {\n        vertical-align: middle;\n    }\n\n    .dataframe tbody tr th {\n        vertical-align: top;\n    }\n\n    .dataframe thead th {\n        text-align: right;\n    }\n</style>\n<table border=\"1\" class=\"dataframe\">\n  <thead>\n    <tr style=\"text-align: right;\">\n      <th></th>\n      <th>category</th>\n      <th>app_name</th>\n      <th>rating</th>\n      <th>rating_count</th>\n      <th>installs</th>\n      <th>Minimum_Installs</th>\n      <th>Maximum_Installs</th>\n      <th>price</th>\n      <th>Currency</th>\n      <th>size</th>\n      <th>Released</th>\n      <th>Last_Updated</th>\n      <th>content_rating</th>\n      <th>Ad_Supported</th>\n      <th>In_App_Purchases</th>\n      <th>type</th>\n    </tr>\n  </thead>\n  <tbody>\n    <tr>\n      <th>0</th>\n      <td>Arcade</td>\n      <td>Sticky Ball</td>\n      <td>4.6</td>\n      <td>11</td>\n      <td>100</td>\n      <td>100</td>\n      <td>152</td>\n      <td>0.0</td>\n      <td>USD</td>\n      <td>25M</td>\n      <td>Mar 5, 2018</td>\n      <td>Mar 26, 2018</td>\n      <td>Everyone</td>\n      <td>True</td>\n      <td>True</td>\n      <td>Free</td>\n    </tr>\n    <tr>\n      <th>1</th>\n      <td>Tools</td>\n      <td>Video To Mp3 Converter &amp; Audio-Video Cutter</td>\n      <td>3.8</td>\n      <td>31</td>\n      <td>10000</td>\n      <td>10000</td>\n      <td>13524</td>\n      <td>0.0</td>\n      <td>USD</td>\n      <td>38M</td>\n      <td>Jul 3, 2019</td>\n      <td>Sep 06, 2019</td>\n      <td>Everyone</td>\n      <td>True</td>\n      <td>False</td>\n      <td>Free</td>\n    </tr>\n    <tr>\n      <th>2</th>\n      <td>Beauty</td>\n      <td>Trevor Sorbie</td>\n      <td>0.0</td>\n      <td>0</td>\n      <td>50</td>\n      <td>50</td>\n      <td>95</td>\n      <td>0.0</td>\n      <td>USD</td>\n      <td>5.5M</td>\n      <td>Dec 13, 2020</td>\n      <td>Apr 15, 2021</td>\n      <td>Everyone</td>\n      <td>False</td>\n      <td>False</td>\n      <td>Free</td>\n    </tr>\n    <tr>\n      <th>3</th>\n      <td>Business</td>\n      <td>Uniquely Nelson</td>\n      <td>0.0</td>\n      <td>0</td>\n      <td>10</td>\n      <td>10</td>\n      <td>30</td>\n      <td>0.0</td>\n      <td>USD</td>\n      <td>1.8M</td>\n      <td>Apr 15, 2019</td>\n      <td>May 03, 2019</td>\n      <td>Everyone</td>\n      <td>False</td>\n      <td>False</td>\n      <td>Free</td>\n    </tr>\n    <tr>\n      <th>4</th>\n      <td>Shopping</td>\n      <td>Ticket  Maniac</td>\n      <td>0.0</td>\n      <td>0</td>\n      <td>100</td>\n      <td>100</td>\n      <td>406</td>\n      <td>0.0</td>\n      <td>USD</td>\n      <td>2.1M</td>\n      <td>Feb 13, 2017</td>\n      <td>Nov 09, 2017</td>\n      <td>Everyone</td>\n      <td>True</td>\n      <td>True</td>\n      <td>Free</td>\n    </tr>\n  </tbody>\n</table>\n</div>"
          },
          "metadata": {}
        }
      ],
      "execution_count": 3,
      "metadata": {
        "jupyter": {
          "source_hidden": false,
          "outputs_hidden": false
        },
        "nteract": {
          "transient": {
            "deleting": false
          }
        },
        "gather": {
          "logged": 1708075552757
        }
      }
    },
    {
      "cell_type": "code",
      "source": [
        "df.shape"
      ],
      "outputs": [
        {
          "output_type": "execute_result",
          "execution_count": 4,
          "data": {
            "text/plain": "(2241581, 16)"
          },
          "metadata": {}
        }
      ],
      "execution_count": 4,
      "metadata": {
        "jupyter": {
          "source_hidden": false,
          "outputs_hidden": false
        },
        "nteract": {
          "transient": {
            "deleting": false
          }
        },
        "gather": {
          "logged": 1708075556389
        }
      }
    },
    {
      "cell_type": "code",
      "source": [
        "from sklearn.preprocessing import LabelEncoder\n",
        "le = LabelEncoder()"
      ],
      "outputs": [],
      "execution_count": 5,
      "metadata": {
        "jupyter": {
          "source_hidden": false,
          "outputs_hidden": false
        },
        "nteract": {
          "transient": {
            "deleting": false
          }
        },
        "gather": {
          "logged": 1708075559414
        }
      }
    },
    {
      "cell_type": "code",
      "source": [
        "for column in df.select_dtypes(include=['object']).columns:\n",
        "    df[column] = df[column].astype(str)  # Convert all values to strings\n",
        "    df[column] = le.fit_transform(df[column])"
      ],
      "outputs": [],
      "execution_count": 6,
      "metadata": {
        "jupyter": {
          "source_hidden": false,
          "outputs_hidden": false
        },
        "nteract": {
          "transient": {
            "deleting": false
          }
        },
        "gather": {
          "logged": 1708075578584
        }
      }
    },
    {
      "cell_type": "code",
      "source": [
        "df.head()"
      ],
      "outputs": [
        {
          "output_type": "execute_result",
          "execution_count": 7,
          "data": {
            "text/plain": "   category  app_name  rating  rating_count  installs  Minimum_Installs  \\\n0         2   1589787     4.6            11       100               100   \n1        42   1793918     3.8            31     10000             10000   \n2         5   1728594     0.0             0        50                50   \n3         8   1762779     0.0             0        10                10   \n4        37   1699988     0.0             0       100               100   \n\n   Maximum_Installs  price  Currency  size  Released  Last_Updated  \\\n0               152    0.0         9   402      2733          2531   \n1             13524    0.0         9   681      1977          3633   \n2                95    0.0         9   880       755           160   \n3                30    0.0         9    38        81          2618   \n4               406    0.0         9   263      1097          3018   \n\n   content_rating  Ad_Supported  In_App_Purchases  type  \n0               1          True              True     0  \n1               1          True             False     0  \n2               1         False             False     0  \n3               1         False             False     0  \n4               1          True              True     0  ",
            "text/html": "<div>\n<style scoped>\n    .dataframe tbody tr th:only-of-type {\n        vertical-align: middle;\n    }\n\n    .dataframe tbody tr th {\n        vertical-align: top;\n    }\n\n    .dataframe thead th {\n        text-align: right;\n    }\n</style>\n<table border=\"1\" class=\"dataframe\">\n  <thead>\n    <tr style=\"text-align: right;\">\n      <th></th>\n      <th>category</th>\n      <th>app_name</th>\n      <th>rating</th>\n      <th>rating_count</th>\n      <th>installs</th>\n      <th>Minimum_Installs</th>\n      <th>Maximum_Installs</th>\n      <th>price</th>\n      <th>Currency</th>\n      <th>size</th>\n      <th>Released</th>\n      <th>Last_Updated</th>\n      <th>content_rating</th>\n      <th>Ad_Supported</th>\n      <th>In_App_Purchases</th>\n      <th>type</th>\n    </tr>\n  </thead>\n  <tbody>\n    <tr>\n      <th>0</th>\n      <td>2</td>\n      <td>1589787</td>\n      <td>4.6</td>\n      <td>11</td>\n      <td>100</td>\n      <td>100</td>\n      <td>152</td>\n      <td>0.0</td>\n      <td>9</td>\n      <td>402</td>\n      <td>2733</td>\n      <td>2531</td>\n      <td>1</td>\n      <td>True</td>\n      <td>True</td>\n      <td>0</td>\n    </tr>\n    <tr>\n      <th>1</th>\n      <td>42</td>\n      <td>1793918</td>\n      <td>3.8</td>\n      <td>31</td>\n      <td>10000</td>\n      <td>10000</td>\n      <td>13524</td>\n      <td>0.0</td>\n      <td>9</td>\n      <td>681</td>\n      <td>1977</td>\n      <td>3633</td>\n      <td>1</td>\n      <td>True</td>\n      <td>False</td>\n      <td>0</td>\n    </tr>\n    <tr>\n      <th>2</th>\n      <td>5</td>\n      <td>1728594</td>\n      <td>0.0</td>\n      <td>0</td>\n      <td>50</td>\n      <td>50</td>\n      <td>95</td>\n      <td>0.0</td>\n      <td>9</td>\n      <td>880</td>\n      <td>755</td>\n      <td>160</td>\n      <td>1</td>\n      <td>False</td>\n      <td>False</td>\n      <td>0</td>\n    </tr>\n    <tr>\n      <th>3</th>\n      <td>8</td>\n      <td>1762779</td>\n      <td>0.0</td>\n      <td>0</td>\n      <td>10</td>\n      <td>10</td>\n      <td>30</td>\n      <td>0.0</td>\n      <td>9</td>\n      <td>38</td>\n      <td>81</td>\n      <td>2618</td>\n      <td>1</td>\n      <td>False</td>\n      <td>False</td>\n      <td>0</td>\n    </tr>\n    <tr>\n      <th>4</th>\n      <td>37</td>\n      <td>1699988</td>\n      <td>0.0</td>\n      <td>0</td>\n      <td>100</td>\n      <td>100</td>\n      <td>406</td>\n      <td>0.0</td>\n      <td>9</td>\n      <td>263</td>\n      <td>1097</td>\n      <td>3018</td>\n      <td>1</td>\n      <td>True</td>\n      <td>True</td>\n      <td>0</td>\n    </tr>\n  </tbody>\n</table>\n</div>"
          },
          "metadata": {}
        }
      ],
      "execution_count": 7,
      "metadata": {
        "jupyter": {
          "source_hidden": false,
          "outputs_hidden": false
        },
        "nteract": {
          "transient": {
            "deleting": false
          }
        },
        "gather": {
          "logged": 1708075580630
        }
      }
    },
    {
      "cell_type": "code",
      "source": [
        "df.tail()"
      ],
      "outputs": [
        {
          "output_type": "execute_result",
          "execution_count": 8,
          "data": {
            "text/plain": "         category  app_name  rating  rating_count  installs  Minimum_Installs  \\\n2241576        15    269650     4.9            72       500               500   \n2241577        32   2056884     0.0             0       500               500   \n2241578        17    987974     4.1            22      5000              5000   \n2241579        16   1258581     4.1           285    100000            100000   \n2241580        19   1088921     2.0          1687    100000            100000   \n\n         Maximum_Installs  price  Currency  size  Released  Last_Updated  \\\n2241576               655    0.0         9   664      2543          2010   \n2241577               800    0.0         9   502      2615          2544   \n2241578              7957    0.0         9   503      4011          3817   \n2241579            264015    0.0         9   292       860          2599   \n2241580            187822    0.0         9   106      3637          2010   \n\n         content_rating  Ad_Supported  In_App_Purchases  type  \n2241576               1         False             False     0  \n2241577               1          True             False     0  \n2241578               1          True             False     0  \n2241579               1          True              True     0  \n2241580               1         False             False     0  ",
            "text/html": "<div>\n<style scoped>\n    .dataframe tbody tr th:only-of-type {\n        vertical-align: middle;\n    }\n\n    .dataframe tbody tr th {\n        vertical-align: top;\n    }\n\n    .dataframe thead th {\n        text-align: right;\n    }\n</style>\n<table border=\"1\" class=\"dataframe\">\n  <thead>\n    <tr style=\"text-align: right;\">\n      <th></th>\n      <th>category</th>\n      <th>app_name</th>\n      <th>rating</th>\n      <th>rating_count</th>\n      <th>installs</th>\n      <th>Minimum_Installs</th>\n      <th>Maximum_Installs</th>\n      <th>price</th>\n      <th>Currency</th>\n      <th>size</th>\n      <th>Released</th>\n      <th>Last_Updated</th>\n      <th>content_rating</th>\n      <th>Ad_Supported</th>\n      <th>In_App_Purchases</th>\n      <th>type</th>\n    </tr>\n  </thead>\n  <tbody>\n    <tr>\n      <th>2241576</th>\n      <td>15</td>\n      <td>269650</td>\n      <td>4.9</td>\n      <td>72</td>\n      <td>500</td>\n      <td>500</td>\n      <td>655</td>\n      <td>0.0</td>\n      <td>9</td>\n      <td>664</td>\n      <td>2543</td>\n      <td>2010</td>\n      <td>1</td>\n      <td>False</td>\n      <td>False</td>\n      <td>0</td>\n    </tr>\n    <tr>\n      <th>2241577</th>\n      <td>32</td>\n      <td>2056884</td>\n      <td>0.0</td>\n      <td>0</td>\n      <td>500</td>\n      <td>500</td>\n      <td>800</td>\n      <td>0.0</td>\n      <td>9</td>\n      <td>502</td>\n      <td>2615</td>\n      <td>2544</td>\n      <td>1</td>\n      <td>True</td>\n      <td>False</td>\n      <td>0</td>\n    </tr>\n    <tr>\n      <th>2241578</th>\n      <td>17</td>\n      <td>987974</td>\n      <td>4.1</td>\n      <td>22</td>\n      <td>5000</td>\n      <td>5000</td>\n      <td>7957</td>\n      <td>0.0</td>\n      <td>9</td>\n      <td>503</td>\n      <td>4011</td>\n      <td>3817</td>\n      <td>1</td>\n      <td>True</td>\n      <td>False</td>\n      <td>0</td>\n    </tr>\n    <tr>\n      <th>2241579</th>\n      <td>16</td>\n      <td>1258581</td>\n      <td>4.1</td>\n      <td>285</td>\n      <td>100000</td>\n      <td>100000</td>\n      <td>264015</td>\n      <td>0.0</td>\n      <td>9</td>\n      <td>292</td>\n      <td>860</td>\n      <td>2599</td>\n      <td>1</td>\n      <td>True</td>\n      <td>True</td>\n      <td>0</td>\n    </tr>\n    <tr>\n      <th>2241580</th>\n      <td>19</td>\n      <td>1088921</td>\n      <td>2.0</td>\n      <td>1687</td>\n      <td>100000</td>\n      <td>100000</td>\n      <td>187822</td>\n      <td>0.0</td>\n      <td>9</td>\n      <td>106</td>\n      <td>3637</td>\n      <td>2010</td>\n      <td>1</td>\n      <td>False</td>\n      <td>False</td>\n      <td>0</td>\n    </tr>\n  </tbody>\n</table>\n</div>"
          },
          "metadata": {}
        }
      ],
      "execution_count": 8,
      "metadata": {
        "jupyter": {
          "source_hidden": false,
          "outputs_hidden": false
        },
        "nteract": {
          "transient": {
            "deleting": false
          }
        },
        "gather": {
          "logged": 1708075583527
        }
      }
    },
    {
      "cell_type": "code",
      "source": [
        "df.columns"
      ],
      "outputs": [
        {
          "output_type": "execute_result",
          "execution_count": 9,
          "data": {
            "text/plain": "Index(['category', 'app_name', 'rating', 'rating_count', 'installs',\n       'Minimum_Installs', 'Maximum_Installs', 'price', 'Currency', 'size',\n       'Released', 'Last_Updated', 'content_rating', 'Ad_Supported',\n       'In_App_Purchases', 'type'],\n      dtype='object')"
          },
          "metadata": {}
        }
      ],
      "execution_count": 9,
      "metadata": {
        "jupyter": {
          "source_hidden": false,
          "outputs_hidden": false
        },
        "nteract": {
          "transient": {
            "deleting": false
          }
        },
        "gather": {
          "logged": 1708075591021
        }
      }
    },
    {
      "cell_type": "code",
      "source": [
        "x = ['category', 'Minimum_Installs', 'Maximum_Installs', 'price', 'Currency', 'size', 'content_rating', 'Ad_Supported','In_App_Purchases', 'type']\n",
        "y = ['rating']"
      ],
      "outputs": [],
      "execution_count": 12,
      "metadata": {
        "jupyter": {
          "source_hidden": false,
          "outputs_hidden": false
        },
        "nteract": {
          "transient": {
            "deleting": false
          }
        },
        "gather": {
          "logged": 1708075755405
        }
      }
    },
    {
      "cell_type": "code",
      "source": [
        "df[x].shape"
      ],
      "outputs": [
        {
          "output_type": "execute_result",
          "execution_count": 13,
          "data": {
            "text/plain": "(2241581, 10)"
          },
          "metadata": {}
        }
      ],
      "execution_count": 13,
      "metadata": {
        "jupyter": {
          "source_hidden": false,
          "outputs_hidden": false
        },
        "nteract": {
          "transient": {
            "deleting": false
          }
        },
        "gather": {
          "logged": 1708075759674
        }
      }
    },
    {
      "cell_type": "code",
      "source": [
        "df[y].shape"
      ],
      "outputs": [
        {
          "output_type": "execute_result",
          "execution_count": 15,
          "data": {
            "text/plain": "(2241581, 1)"
          },
          "metadata": {}
        }
      ],
      "execution_count": 15,
      "metadata": {
        "jupyter": {
          "source_hidden": false,
          "outputs_hidden": false
        },
        "nteract": {
          "transient": {
            "deleting": false
          }
        },
        "gather": {
          "logged": 1708075773638
        }
      }
    },
    {
      "cell_type": "code",
      "source": [
        "from sklearn.model_selection import train_test_split"
      ],
      "outputs": [],
      "execution_count": 16,
      "metadata": {
        "jupyter": {
          "source_hidden": false,
          "outputs_hidden": false
        },
        "nteract": {
          "transient": {
            "deleting": false
          }
        },
        "gather": {
          "logged": 1708075789143
        }
      }
    },
    {
      "cell_type": "code",
      "source": [
        "x_train, x_test, y_train, y_test = train_test_split(df[x], df[y], test_size = 0.3 , random_state= 42)"
      ],
      "outputs": [],
      "execution_count": 17,
      "metadata": {
        "jupyter": {
          "source_hidden": false,
          "outputs_hidden": false
        },
        "nteract": {
          "transient": {
            "deleting": false
          }
        },
        "gather": {
          "logged": 1708075804929
        }
      }
    },
    {
      "cell_type": "code",
      "source": [
        "from sklearn.linear_model import LinearRegression\n",
        "lr = LinearRegression()\n",
        "lr.fit(x_train, y_train)\n",
        "y_pred = lr.predict(x_test)"
      ],
      "outputs": [],
      "execution_count": 18,
      "metadata": {
        "jupyter": {
          "source_hidden": false,
          "outputs_hidden": false
        },
        "nteract": {
          "transient": {
            "deleting": false
          }
        },
        "gather": {
          "logged": 1708075824396
        }
      }
    },
    {
      "cell_type": "code",
      "source": [
        "from sklearn.metrics import mean_squared_error, r2_score\n",
        "print('Mean squared error:', mean_squared_error(y_test, y_pred))\n",
        "print('R2 score:', r2_score(y_test, y_pred))"
      ],
      "outputs": [
        {
          "output_type": "stream",
          "name": "stdout",
          "text": "Mean squared error: 4.236728425370992\nR2 score: 0.04686493766599842\n"
        }
      ],
      "execution_count": 19,
      "metadata": {
        "jupyter": {
          "source_hidden": false,
          "outputs_hidden": false
        },
        "nteract": {
          "transient": {
            "deleting": false
          }
        },
        "gather": {
          "logged": 1708075839091
        }
      }
    },
    {
      "cell_type": "code",
      "source": [
        "from sklearn.model_selection import cross_val_score\n",
        "\n",
        "# Define the linear regression model\n",
        "lr = LinearRegression()\n",
        "\n",
        "# Perform cross-validation\n",
        "cv_scores = cross_val_score(lr, x_train, y_train, cv=5, scoring='neg_mean_squared_error')\n",
        "\n",
        "# Convert negative MSE scores to positive\n",
        "cv_scores = -cv_scores\n",
        "\n",
        "# Compute mean and standard deviation of the cross-validation scores\n",
        "mean_cv_score = cv_scores.mean()\n",
        "std_cv_score = cv_scores.std()\n",
        "\n",
        "# Print cross-validation report\n",
        "print('Cross-Validation Report:')\n",
        "print('Mean squared error (CV):', mean_cv_score)\n",
        "print('Standard deviation (CV):', std_cv_score)\n"
      ],
      "outputs": [
        {
          "output_type": "stream",
          "name": "stdout",
          "text": "Cross-Validation Report:\nMean squared error (CV): 4.2371023368395715\nStandard deviation (CV): 0.002268432720031088\n"
        }
      ],
      "execution_count": 26,
      "metadata": {
        "jupyter": {
          "source_hidden": false,
          "outputs_hidden": false
        },
        "nteract": {
          "transient": {
            "deleting": false
          }
        },
        "gather": {
          "logged": 1708077743840
        }
      }
    },
    {
      "cell_type": "code",
      "source": [
        "from sklearn.ensemble import RandomForestRegressor\n",
        "rf = RandomForestRegressor(n_estimators=100, random_state=42)\n",
        "rf.fit(x_train, y_train)\n",
        "y_pred = rf.predict(x_test)"
      ],
      "outputs": [
        {
          "output_type": "stream",
          "name": "stderr",
          "text": "/tmp/ipykernel_5303/767244415.py:3: DataConversionWarning: A column-vector y was passed when a 1d array was expected. Please change the shape of y to (n_samples,), for example using ravel().\n  rf.fit(x_train, y_train)\n"
        }
      ],
      "execution_count": 20,
      "metadata": {
        "jupyter": {
          "source_hidden": false,
          "outputs_hidden": false
        },
        "nteract": {
          "transient": {
            "deleting": false
          }
        },
        "gather": {
          "logged": 1708076495108
        }
      }
    },
    {
      "cell_type": "code",
      "source": [
        "print('Mean squared error:', mean_squared_error(y_test, y_pred))\n",
        "print('R2 score:', r2_score(y_test, y_pred))"
      ],
      "outputs": [
        {
          "output_type": "stream",
          "name": "stdout",
          "text": "Mean squared error: 2.5388962372744333\nR2 score: 0.4288255511297664\n"
        }
      ],
      "execution_count": 21,
      "metadata": {
        "jupyter": {
          "source_hidden": false,
          "outputs_hidden": false
        },
        "nteract": {
          "transient": {
            "deleting": false
          }
        },
        "gather": {
          "logged": 1708076683469
        }
      }
    },
    {
      "cell_type": "code",
      "source": [
        "from sklearn.model_selection import cross_val_score\n",
        "\n",
        "# Define the Random Forest Regression model\n",
        "rf = RandomForestRegressor(n_estimators=100, random_state=42)\n",
        "\n",
        "# Perform cross-validation\n",
        "cv_scores = cross_val_score(rf, x_train, y_train, cv=5, scoring='neg_mean_squared_error')\n",
        "\n",
        "# Convert negative MSE scores to positive\n",
        "cv_scores = -cv_scores\n",
        "\n",
        "# Compute mean and standard deviation of the cross-validation scores\n",
        "mean_cv_score = cv_scores.mean()\n",
        "std_cv_score = cv_scores.std()\n",
        "\n",
        "# Print cross-validation report\n",
        "print('Cross-Validation Report:')\n",
        "print('Mean squared error (CV):', mean_cv_score)\n",
        "print('Standard deviation (CV):', std_cv_score)\n"
      ],
      "outputs": [
        {
          "output_type": "stream",
          "name": "stderr",
          "text": "/anaconda/envs/azureml_py38/lib/python3.8/site-packages/sklearn/model_selection/_validation.py:515: DataConversionWarning: A column-vector y was passed when a 1d array was expected. Please change the shape of y to (n_samples,), for example using ravel().\n  estimator.fit(X_train, y_train, **fit_params)\n/anaconda/envs/azureml_py38/lib/python3.8/site-packages/sklearn/model_selection/_validation.py:515: DataConversionWarning: A column-vector y was passed when a 1d array was expected. Please change the shape of y to (n_samples,), for example using ravel().\n  estimator.fit(X_train, y_train, **fit_params)\n/anaconda/envs/azureml_py38/lib/python3.8/site-packages/sklearn/model_selection/_validation.py:515: DataConversionWarning: A column-vector y was passed when a 1d array was expected. Please change the shape of y to (n_samples,), for example using ravel().\n  estimator.fit(X_train, y_train, **fit_params)\n/anaconda/envs/azureml_py38/lib/python3.8/site-packages/sklearn/model_selection/_validation.py:515: DataConversionWarning: A column-vector y was passed when a 1d array was expected. Please change the shape of y to (n_samples,), for example using ravel().\n  estimator.fit(X_train, y_train, **fit_params)\n/anaconda/envs/azureml_py38/lib/python3.8/site-packages/sklearn/model_selection/_validation.py:515: DataConversionWarning: A column-vector y was passed when a 1d array was expected. Please change the shape of y to (n_samples,), for example using ravel().\n  estimator.fit(X_train, y_train, **fit_params)\n"
        },
        {
          "output_type": "stream",
          "name": "stdout",
          "text": "Cross-Validation Report:\nMean squared error (CV): 2.523847544348494\nStandard deviation (CV): 0.006236676132867297\n"
        }
      ],
      "execution_count": 27,
      "metadata": {
        "jupyter": {
          "source_hidden": false,
          "outputs_hidden": false
        },
        "nteract": {
          "transient": {
            "deleting": false
          }
        },
        "gather": {
          "logged": 1708080094426
        }
      }
    },
    {
      "cell_type": "code",
      "source": [
        "\n",
        "from xgboost import XGBRegressor\n",
        "\n",
        "xgboost = XGBRegressor()\n",
        "xgboost.fit(x_train, y_train)\n",
        "y_pred_xg = xgboost.predict(x_test)\n"
      ],
      "outputs": [],
      "execution_count": 22,
      "metadata": {
        "jupyter": {
          "source_hidden": false,
          "outputs_hidden": false
        },
        "nteract": {
          "transient": {
            "deleting": false
          }
        },
        "gather": {
          "logged": 1708076880887
        }
      }
    },
    {
      "cell_type": "code",
      "source": [
        "print('Mean squared error:', mean_squared_error(y_test, y_pred_xg))\n",
        "print('R2 score:', r2_score(y_test, y_pred_xg))"
      ],
      "outputs": [
        {
          "output_type": "stream",
          "name": "stdout",
          "text": "Mean squared error: 2.1336597689324663\nR2 score: 0.5199914337953067\n"
        }
      ],
      "execution_count": 23,
      "metadata": {
        "jupyter": {
          "source_hidden": false,
          "outputs_hidden": false
        },
        "nteract": {
          "transient": {
            "deleting": false
          }
        },
        "gather": {
          "logged": 1708077164515
        }
      }
    },
    {
      "cell_type": "code",
      "source": [],
      "outputs": [],
      "execution_count": null,
      "metadata": {
        "jupyter": {
          "source_hidden": false,
          "outputs_hidden": false
        },
        "nteract": {
          "transient": {
            "deleting": false
          }
        }
      }
    }
  ],
  "metadata": {
    "kernelspec": {
      "name": "python38-azureml",
      "language": "python",
      "display_name": "Python 3.8 - AzureML"
    },
    "language_info": {
      "name": "python",
      "version": "3.8.5",
      "mimetype": "text/x-python",
      "codemirror_mode": {
        "name": "ipython",
        "version": 3
      },
      "pygments_lexer": "ipython3",
      "nbconvert_exporter": "python",
      "file_extension": ".py"
    },
    "microsoft": {
      "ms_spell_check": {
        "ms_spell_check_language": "en"
      },
      "host": {
        "AzureML": {
          "notebookHasBeenCompleted": true
        }
      }
    },
    "kernel_info": {
      "name": "python38-azureml"
    },
    "nteract": {
      "version": "nteract-front-end@1.0.0"
    }
  },
  "nbformat": 4,
  "nbformat_minor": 2
}